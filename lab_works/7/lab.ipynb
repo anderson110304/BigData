{
 "cells": [
  {
   "cell_type": "code",
   "execution_count": 2,
   "outputs": [
    {
     "data": {
      "text/plain": "['test', 'train']"
     },
     "execution_count": 2,
     "metadata": {},
     "output_type": "execute_result"
    }
   ],
   "source": [
    "import os\n",
    "os.listdir('lab_data')"
   ],
   "metadata": {
    "collapsed": false,
    "ExecuteTime": {
     "end_time": "2023-12-18T14:58:11.142156Z",
     "start_time": "2023-12-18T14:58:11.017649400Z"
    }
   },
   "id": "c492e1427bf8edce"
  },
  {
   "cell_type": "code",
   "execution_count": 3,
   "outputs": [],
   "source": [
    "from sklearn.datasets import load_files\n",
    "reviews_train = load_files('lab_data/train/')\n",
    "text_train, y_train = reviews_train.data, reviews_train.target"
   ],
   "metadata": {
    "collapsed": false,
    "ExecuteTime": {
     "end_time": "2023-12-18T14:58:17.792123300Z",
     "start_time": "2023-12-18T14:58:15.190337900Z"
    }
   },
   "id": "9799828c8c0c0e56"
  },
  {
   "cell_type": "code",
   "execution_count": 4,
   "outputs": [
    {
     "name": "stdout",
     "output_type": "stream",
     "text": [
      "type of text_train: <class 'list'>\n",
      "length of text_train: 12\n",
      "text_train[1]:\n",
      "b\"The store's website is well-designed, making it easy to browse and discover new releases or old favorites.\"\n"
     ]
    }
   ],
   "source": [
    "print(\"type of text_train: {}\".format(type(text_train)))\n",
    "print(\"length of text_train: {}\".format(len(text_train)))\n",
    "print(\"text_train[1]:\\n{}\".format(text_train[1]))"
   ],
   "metadata": {
    "collapsed": false,
    "ExecuteTime": {
     "end_time": "2023-12-18T14:58:19.655068100Z",
     "start_time": "2023-12-18T14:58:19.580370600Z"
    }
   },
   "id": "2573949c7876233b"
  },
  {
   "cell_type": "code",
   "execution_count": 5,
   "outputs": [],
   "source": [
    "text_train = [doc.replace(b\"<br />\", b\" \") for doc in text_train]"
   ],
   "metadata": {
    "collapsed": false,
    "ExecuteTime": {
     "end_time": "2023-12-18T14:58:23.236711500Z",
     "start_time": "2023-12-18T14:58:23.000586100Z"
    }
   },
   "id": "adae90d4a6764b2c"
  },
  {
   "cell_type": "code",
   "execution_count": 6,
   "outputs": [
    {
     "name": "stdout",
     "output_type": "stream",
     "text": [
      "text_train[1]:\n",
      "b\"The store's website is well-designed, making it easy to browse and discover new releases or old favorites.\"\n"
     ]
    }
   ],
   "source": [
    "print(\"text_train[1]:\\n{}\".format(text_train[1]))"
   ],
   "metadata": {
    "collapsed": false,
    "ExecuteTime": {
     "end_time": "2023-12-18T14:58:26.737830800Z",
     "start_time": "2023-12-18T14:58:26.639588900Z"
    }
   },
   "id": "4466b475d5ff5166"
  },
  {
   "cell_type": "code",
   "execution_count": 7,
   "outputs": [
    {
     "data": {
      "text/plain": "array([0, 1])"
     },
     "execution_count": 7,
     "metadata": {},
     "output_type": "execute_result"
    }
   ],
   "source": [
    "import numpy as np\n",
    "np.unique(y_train)"
   ],
   "metadata": {
    "collapsed": false,
    "ExecuteTime": {
     "end_time": "2023-12-18T14:58:30.152869300Z",
     "start_time": "2023-12-18T14:58:30.008797Z"
    }
   },
   "id": "75b947362c8112ad"
  },
  {
   "cell_type": "code",
   "execution_count": 38,
   "outputs": [
    {
     "name": "stdout",
     "output_type": "stream",
     "text": [
      "Number of examples per class training: [6 6]\n"
     ]
    }
   ],
   "source": [
    "print(\"Number of examples per class training: {}\".format(np.bincount(y_train)))"
   ],
   "metadata": {
    "collapsed": false,
    "ExecuteTime": {
     "end_time": "2023-12-18T15:05:17.218843600Z",
     "start_time": "2023-12-18T15:05:16.911465100Z"
    }
   },
   "id": "5d60cdb95f5e85f6"
  },
  {
   "cell_type": "code",
   "execution_count": 37,
   "outputs": [
    {
     "name": "stdout",
     "output_type": "stream",
     "text": [
      "Number of documents in text data: 12\n"
     ]
    }
   ],
   "source": [
    "reviews_train = load_files('lab_data/test/')\n",
    "text_test, y_test =reviews_train.data, reviews_train.target\n",
    "print(\"Number of documents in text data: {}\".format(len(text_test)))"
   ],
   "metadata": {
    "collapsed": false,
    "ExecuteTime": {
     "end_time": "2023-12-18T15:04:51.328531600Z",
     "start_time": "2023-12-18T15:04:51.139969200Z"
    }
   },
   "id": "ef50fddc277f95c3"
  },
  {
   "cell_type": "code",
   "execution_count": 39,
   "outputs": [
    {
     "name": "stdout",
     "output_type": "stream",
     "text": [
      "Number of examples per class (test): [6 6]\n"
     ]
    }
   ],
   "source": [
    "print(\"Number of examples per class (test): {}\".format(np.bincount(y_test)))"
   ],
   "metadata": {
    "collapsed": false,
    "ExecuteTime": {
     "end_time": "2023-12-18T15:05:33.751075300Z",
     "start_time": "2023-12-18T15:05:33.103807100Z"
    }
   },
   "id": "a7c6fb97d4a9b25d"
  },
  {
   "cell_type": "code",
   "execution_count": 40,
   "outputs": [],
   "source": [
    "text_test = [doc.replace(b\"<br />\", b\" \") for doc in text_test]"
   ],
   "metadata": {
    "collapsed": false,
    "ExecuteTime": {
     "end_time": "2023-12-18T15:05:35.883508400Z",
     "start_time": "2023-12-18T15:05:35.824251300Z"
    }
   },
   "id": "de40b9afd8461bd5"
  },
  {
   "cell_type": "code",
   "execution_count": 41,
   "outputs": [],
   "source": [
    "from sklearn.feature_extraction.text import CountVectorizer\n",
    "\n",
    "vect = CountVectorizer().fit(text_train)\n",
    "X_train = vect.transform(text_train)"
   ],
   "metadata": {
    "collapsed": false,
    "ExecuteTime": {
     "end_time": "2023-12-18T15:05:39.770962200Z",
     "start_time": "2023-12-18T15:05:39.519124600Z"
    }
   },
   "id": "3aa4fa9495390098"
  },
  {
   "cell_type": "code",
   "execution_count": 42,
   "outputs": [
    {
     "name": "stdout",
     "output_type": "stream",
     "text": [
      "X_train:\n",
      " <12x125 sparse matrix of type '<class 'numpy.int64'>'\n",
      "\twith 174 stored elements in Compressed Sparse Row format>\n"
     ]
    }
   ],
   "source": [
    "print(\"X_train:\\n {}\".format(repr(X_train)))"
   ],
   "metadata": {
    "collapsed": false,
    "ExecuteTime": {
     "end_time": "2023-12-18T15:05:41.776245800Z",
     "start_time": "2023-12-18T15:05:41.577777100Z"
    }
   },
   "id": "e273f43812af0e7d"
  },
  {
   "cell_type": "code",
   "execution_count": 43,
   "outputs": [
    {
     "data": {
      "text/plain": "CountVectorizer()",
      "text/html": "<style>#sk-container-id-2 {color: black;}#sk-container-id-2 pre{padding: 0;}#sk-container-id-2 div.sk-toggleable {background-color: white;}#sk-container-id-2 label.sk-toggleable__label {cursor: pointer;display: block;width: 100%;margin-bottom: 0;padding: 0.3em;box-sizing: border-box;text-align: center;}#sk-container-id-2 label.sk-toggleable__label-arrow:before {content: \"▸\";float: left;margin-right: 0.25em;color: #696969;}#sk-container-id-2 label.sk-toggleable__label-arrow:hover:before {color: black;}#sk-container-id-2 div.sk-estimator:hover label.sk-toggleable__label-arrow:before {color: black;}#sk-container-id-2 div.sk-toggleable__content {max-height: 0;max-width: 0;overflow: hidden;text-align: left;background-color: #f0f8ff;}#sk-container-id-2 div.sk-toggleable__content pre {margin: 0.2em;color: black;border-radius: 0.25em;background-color: #f0f8ff;}#sk-container-id-2 input.sk-toggleable__control:checked~div.sk-toggleable__content {max-height: 200px;max-width: 100%;overflow: auto;}#sk-container-id-2 input.sk-toggleable__control:checked~label.sk-toggleable__label-arrow:before {content: \"▾\";}#sk-container-id-2 div.sk-estimator input.sk-toggleable__control:checked~label.sk-toggleable__label {background-color: #d4ebff;}#sk-container-id-2 div.sk-label input.sk-toggleable__control:checked~label.sk-toggleable__label {background-color: #d4ebff;}#sk-container-id-2 input.sk-hidden--visually {border: 0;clip: rect(1px 1px 1px 1px);clip: rect(1px, 1px, 1px, 1px);height: 1px;margin: -1px;overflow: hidden;padding: 0;position: absolute;width: 1px;}#sk-container-id-2 div.sk-estimator {font-family: monospace;background-color: #f0f8ff;border: 1px dotted black;border-radius: 0.25em;box-sizing: border-box;margin-bottom: 0.5em;}#sk-container-id-2 div.sk-estimator:hover {background-color: #d4ebff;}#sk-container-id-2 div.sk-parallel-item::after {content: \"\";width: 100%;border-bottom: 1px solid gray;flex-grow: 1;}#sk-container-id-2 div.sk-label:hover label.sk-toggleable__label {background-color: #d4ebff;}#sk-container-id-2 div.sk-serial::before {content: \"\";position: absolute;border-left: 1px solid gray;box-sizing: border-box;top: 0;bottom: 0;left: 50%;z-index: 0;}#sk-container-id-2 div.sk-serial {display: flex;flex-direction: column;align-items: center;background-color: white;padding-right: 0.2em;padding-left: 0.2em;position: relative;}#sk-container-id-2 div.sk-item {position: relative;z-index: 1;}#sk-container-id-2 div.sk-parallel {display: flex;align-items: stretch;justify-content: center;background-color: white;position: relative;}#sk-container-id-2 div.sk-item::before, #sk-container-id-2 div.sk-parallel-item::before {content: \"\";position: absolute;border-left: 1px solid gray;box-sizing: border-box;top: 0;bottom: 0;left: 50%;z-index: -1;}#sk-container-id-2 div.sk-parallel-item {display: flex;flex-direction: column;z-index: 1;position: relative;background-color: white;}#sk-container-id-2 div.sk-parallel-item:first-child::after {align-self: flex-end;width: 50%;}#sk-container-id-2 div.sk-parallel-item:last-child::after {align-self: flex-start;width: 50%;}#sk-container-id-2 div.sk-parallel-item:only-child::after {width: 0;}#sk-container-id-2 div.sk-dashed-wrapped {border: 1px dashed gray;margin: 0 0.4em 0.5em 0.4em;box-sizing: border-box;padding-bottom: 0.4em;background-color: white;}#sk-container-id-2 div.sk-label label {font-family: monospace;font-weight: bold;display: inline-block;line-height: 1.2em;}#sk-container-id-2 div.sk-label-container {text-align: center;}#sk-container-id-2 div.sk-container {/* jupyter's `normalize.less` sets `[hidden] { display: none; }` but bootstrap.min.css set `[hidden] { display: none !important; }` so we also need the `!important` here to be able to override the default hidden behavior on the sphinx rendered scikit-learn.org. See: https://github.com/scikit-learn/scikit-learn/issues/21755 */display: inline-block !important;position: relative;}#sk-container-id-2 div.sk-text-repr-fallback {display: none;}</style><div id=\"sk-container-id-2\" class=\"sk-top-container\"><div class=\"sk-text-repr-fallback\"><pre>CountVectorizer()</pre><b>In a Jupyter environment, please rerun this cell to show the HTML representation or trust the notebook. <br />On GitHub, the HTML representation is unable to render, please try loading this page with nbviewer.org.</b></div><div class=\"sk-container\" hidden><div class=\"sk-item\"><div class=\"sk-estimator sk-toggleable\"><input class=\"sk-toggleable__control sk-hidden--visually\" id=\"sk-estimator-id-2\" type=\"checkbox\" checked><label for=\"sk-estimator-id-2\" class=\"sk-toggleable__label sk-toggleable__label-arrow\">CountVectorizer</label><div class=\"sk-toggleable__content\"><pre>CountVectorizer()</pre></div></div></div></div></div>"
     },
     "execution_count": 43,
     "metadata": {},
     "output_type": "execute_result"
    }
   ],
   "source": [
    "vect"
   ],
   "metadata": {
    "collapsed": false,
    "ExecuteTime": {
     "end_time": "2023-12-18T15:05:48.989498200Z",
     "start_time": "2023-12-18T15:05:48.858206100Z"
    }
   },
   "id": "8934034290d946f"
  },
  {
   "cell_type": "code",
   "execution_count": 44,
   "outputs": [
    {
     "name": "stdout",
     "output_type": "stream",
     "text": [
      "Number of features: 125\n",
      "The first 20 signs: \n",
      " ['added' 'among' 'and' 'are' 'area' 'authors' 'available' 'book' 'books'\n",
      " 'browse' 'by' 'cashiers' 'causing' 'certain' 'checkout' 'cleaning'\n",
      " 'clubs' 'commitment' 'community' 'concerns']\n"
     ]
    }
   ],
   "source": [
    "feature_names = vect.get_feature_names_out()\n",
    "print(\"Number of features: {}\".format(len(feature_names)))\n",
    "print(\"The first 20 signs: \\n {}\".format(feature_names[:20]))"
   ],
   "metadata": {
    "collapsed": false,
    "ExecuteTime": {
     "end_time": "2023-12-18T15:06:22.028792700Z",
     "start_time": "2023-12-18T15:06:21.804556500Z"
    }
   },
   "id": "310ff2513520d2cd"
  },
  {
   "cell_type": "code",
   "execution_count": 45,
   "outputs": [],
   "source": [
    "from sklearn.model_selection import cross_val_score\n",
    "from sklearn.linear_model import LogisticRegression"
   ],
   "metadata": {
    "collapsed": false,
    "ExecuteTime": {
     "end_time": "2023-12-18T15:06:26.276418100Z",
     "start_time": "2023-12-18T15:06:26.192129200Z"
    }
   },
   "id": "cf37a94ceb59fe93"
  },
  {
   "cell_type": "code",
   "execution_count": 46,
   "outputs": [
    {
     "name": "stdout",
     "output_type": "stream",
     "text": [
      "Mean value of cross_val_score: 0.23\n"
     ]
    }
   ],
   "source": [
    "scores = cross_val_score(LogisticRegression(), X_train, y_train, cv=5)\n",
    "print(\"Mean value of cross_val_score: {:.2f}\".format(np.mean(scores)))"
   ],
   "metadata": {
    "collapsed": false,
    "ExecuteTime": {
     "end_time": "2023-12-18T15:06:32.267831900Z",
     "start_time": "2023-12-18T15:06:31.890275700Z"
    }
   },
   "id": "ec62b913547beb6d"
  },
  {
   "cell_type": "code",
   "execution_count": 47,
   "outputs": [
    {
     "name": "stdout",
     "output_type": "stream",
     "text": [
      "The best cross_val: 0.23\n",
      "Best parameters:  {'C': 0.001}\n"
     ]
    }
   ],
   "source": [
    "from sklearn.model_selection import GridSearchCV\n",
    "param_grid = {'C': [0.001, 0.01, 0.1, 1, 10]}\n",
    "grid = GridSearchCV(LogisticRegression(max_iter=100), param_grid, cv=5)\n",
    "grid.fit(X_train, y_train)\n",
    "print(\"The best cross_val: {:.2f}\".format(grid.best_score_))\n",
    "print(\"Best parameters: \", grid.best_params_)"
   ],
   "metadata": {
    "collapsed": false,
    "ExecuteTime": {
     "end_time": "2023-12-18T15:06:35.852713300Z",
     "start_time": "2023-12-18T15:06:33.963718200Z"
    }
   },
   "id": "bf5e660c565578c9"
  },
  {
   "cell_type": "code",
   "execution_count": 48,
   "outputs": [],
   "source": [
    "X_test = vect.transform(text_test)"
   ],
   "metadata": {
    "collapsed": false,
    "ExecuteTime": {
     "end_time": "2023-12-18T15:06:37.267314900Z",
     "start_time": "2023-12-18T15:06:37.110221Z"
    }
   },
   "id": "1ab64f89088651ab"
  },
  {
   "cell_type": "code",
   "execution_count": 49,
   "outputs": [
    {
     "name": "stdout",
     "output_type": "stream",
     "text": [
      "The best score on test set: 0.50\n"
     ]
    }
   ],
   "source": [
    "print(\"The best score on test set: {:.2f}\".format(grid.score(X_test, y_test)))"
   ],
   "metadata": {
    "collapsed": false,
    "ExecuteTime": {
     "end_time": "2023-12-18T15:06:38.954316700Z",
     "start_time": "2023-12-18T15:06:38.795111500Z"
    }
   },
   "id": "333dc2546b80ad32"
  },
  {
   "cell_type": "code",
   "execution_count": 50,
   "outputs": [],
   "source": [
    "stop_words = [\"a\",\"an\",\"and\",\"the\", \"is\",\"it\",\"for\",\"of\",\"with\",\"in\",\"on\",\"at\",\"to\",\"from\",\n",
    "\"by\",\"that\",\"this\",\"but\",\"not\",\"no\",\"can\",\"be\",\"has\",\"are\"]"
   ],
   "metadata": {
    "collapsed": false,
    "ExecuteTime": {
     "end_time": "2023-12-18T15:06:44.488893300Z",
     "start_time": "2023-12-18T15:06:44.337305300Z"
    }
   },
   "id": "6a786e6dd86cb0c0"
  },
  {
   "cell_type": "code",
   "execution_count": 51,
   "outputs": [
    {
     "name": "stdout",
     "output_type": "stream",
     "text": [
      "Number of stop words: 24\n"
     ]
    }
   ],
   "source": [
    "print(\"Number of stop words: {}\".format(len(stop_words)))"
   ],
   "metadata": {
    "collapsed": false,
    "ExecuteTime": {
     "end_time": "2023-12-18T15:06:56.036498800Z",
     "start_time": "2023-12-18T15:06:55.870427300Z"
    }
   },
   "id": "559912320489bce2"
  },
  {
   "cell_type": "code",
   "execution_count": 52,
   "outputs": [
    {
     "name": "stdout",
     "output_type": "stream",
     "text": [
      "X_train with stop-words: \n",
      " <12x105 sparse matrix of type '<class 'numpy.int64'>'\n",
      "\twith 119 stored elements in Compressed Sparse Row format>\n"
     ]
    }
   ],
   "source": [
    "vect = CountVectorizer(stop_words='english').fit(text_train)\n",
    "X_train = vect.transform(text_train)\n",
    "print(\"X_train with stop-words: \\n {}\".format(repr(X_train)))"
   ],
   "metadata": {
    "collapsed": false,
    "ExecuteTime": {
     "end_time": "2023-12-18T15:06:58.886579500Z",
     "start_time": "2023-12-18T15:06:58.785485500Z"
    }
   },
   "id": "7c7b4d573f3d5e07"
  },
  {
   "cell_type": "code",
   "execution_count": 53,
   "outputs": [
    {
     "name": "stdout",
     "output_type": "stream",
     "text": [
      "The best cross_val: 0.23\n"
     ]
    }
   ],
   "source": [
    "grid = GridSearchCV(LogisticRegression(), param_grid, cv=5)\n",
    "grid.fit(X_train, y_train)\n",
    "print(\"The best cross_val: {:.2f}\".format(grid.best_score_))"
   ],
   "metadata": {
    "collapsed": false,
    "ExecuteTime": {
     "end_time": "2023-12-18T15:07:03.826886200Z",
     "start_time": "2023-12-18T15:07:02.190897600Z"
    }
   },
   "id": "a5add647dd27b369"
  },
  {
   "cell_type": "code",
   "execution_count": 54,
   "outputs": [],
   "source": [
    "from sklearn.feature_extraction.text import TfidfVectorizer\n",
    "from sklearn.pipeline import make_pipeline"
   ],
   "metadata": {
    "collapsed": false,
    "ExecuteTime": {
     "end_time": "2023-12-18T15:07:04.218998Z",
     "start_time": "2023-12-18T15:07:04.172083900Z"
    }
   },
   "id": "8a6eb868950bfd19"
  },
  {
   "cell_type": "code",
   "execution_count": 55,
   "outputs": [
    {
     "name": "stdout",
     "output_type": "stream",
     "text": [
      "Best cross-validation value: 0.47\n"
     ]
    }
   ],
   "source": [
    "pipe = make_pipeline(TfidfVectorizer(min_df=5, norm=None), LogisticRegression(max_iter=100)) \n",
    "param_grid = {'logisticregression__C': [0.001, 0.01, 0.1, 1, 10]}\n",
    "grid = GridSearchCV(pipe, param_grid, cv=5)\n",
    "grid.fit(text_train, y_train)\n",
    "print(\"Best cross-validation value: {:.2f}\".format(grid.best_score_))"
   ],
   "metadata": {
    "collapsed": false,
    "ExecuteTime": {
     "end_time": "2023-12-18T15:07:34.443651100Z",
     "start_time": "2023-12-18T15:07:30.934209100Z"
    }
   },
   "id": "84bb7115afdcaa71"
  },
  {
   "cell_type": "code",
   "execution_count": 56,
   "outputs": [],
   "source": [
    "vectorizer = grid.best_estimator_.named_steps[\"tfidfvectorizer\"] \n",
    "\n",
    "X_train = vectorizer.transform(text_train)\n",
    "\n",
    "max_value = X_train.max(axis=0).toarray().ravel()\n",
    "sorted_by_tfidf = max_value.argsort()"
   ],
   "metadata": {
    "collapsed": false,
    "ExecuteTime": {
     "end_time": "2023-12-18T15:07:37.430058700Z",
     "start_time": "2023-12-18T15:07:37.337305800Z"
    }
   },
   "id": "90ae71594e4b84eb"
  },
  {
   "cell_type": "code",
   "execution_count": 57,
   "outputs": [
    {
     "name": "stdout",
     "output_type": "stream",
     "text": [
      "Signs with the smallest values fidf:\n",
      "['area' 'added' 'are' 'among' 'and']\n",
      "Signs with the biggest values tfdf: \n",
      "['area' 'added' 'are' 'among' 'and']\n"
     ]
    }
   ],
   "source": [
    "print(\"Signs with the smallest values fidf:\\n{}\".format(feature_names [sorted_by_tfidf[:20]]))\n",
    "print(\"Signs with the biggest values tfdf: \\n{}\".format(feature_names [sorted_by_tfidf[-20:]]))"
   ],
   "metadata": {
    "collapsed": false,
    "ExecuteTime": {
     "end_time": "2023-12-18T15:08:17.900978400Z",
     "start_time": "2023-12-18T15:08:17.805233100Z"
    }
   },
   "id": "1ac09bd865504b4c"
  },
  {
   "cell_type": "code",
   "execution_count": 58,
   "outputs": [
    {
     "name": "stdout",
     "output_type": "stream",
     "text": [
      "Signs with the smallest values idƒ:\n",
      "['area' 'added' 'are' 'among' 'and']\n"
     ]
    }
   ],
   "source": [
    "sorted_by_idf = np.argsort(vectorizer.idf_)\n",
    "print(\"Signs with the smallest values idƒ:\\n{}\".format(feature_names[sorted_by_idf[:100]]))"
   ],
   "metadata": {
    "collapsed": false,
    "ExecuteTime": {
     "end_time": "2023-12-18T15:08:29.860404400Z",
     "start_time": "2023-12-18T15:08:29.732009800Z"
    }
   },
   "id": "7a4c727a1a6a1c9"
  },
  {
   "cell_type": "code",
   "execution_count": 59,
   "outputs": [],
   "source": [
    "import matplotlib.pyplot as plt\n",
    "\n",
    "coefficients = grid.best_estimator_.named_steps[\"logisticregression\"].coef_\n",
    "\n",
    "top_coefficients = np.argsort(coefficients.ravel())[-20:]\n",
    "bottom_coefficients = np.argsort(coefficients.ravel())[:20]\n",
    "\n",
    "feature_names = np.array(vectorizer.get_feature_names_out())"
   ],
   "metadata": {
    "collapsed": false,
    "ExecuteTime": {
     "end_time": "2023-12-18T15:08:34.110015300Z",
     "start_time": "2023-12-18T15:08:34.017549200Z"
    }
   },
   "id": "c64fba9fe5116cc5"
  },
  {
   "cell_type": "code",
   "execution_count": 60,
   "outputs": [
    {
     "data": {
      "text/plain": "<Figure size 1500x600 with 1 Axes>",
      "image/png": "[encoded data removed]"
     },
     "metadata": {},
     "output_type": "display_data"
    }
   ],
   "source": [
    "plt.figure(figsize=(15, 6))\n",
    "plt.barh(range(len(top_coefficients)), coefficients.ravel()[top_coefficients], color='red')\n",
    "plt.barh(range(len(bottom_coefficients)), coefficients.ravel()[bottom_coefficients], color='blue')\n",
    "plt.yticks(range(len(top_coefficients)), feature_names[top_coefficients])\n",
    "plt.xlabel(\"Coefficient value\")\n",
    "plt.ylabel(\"sign\")\n",
    "plt.title(\"Top and low model coefficients\")\n",
    "plt.show()"
   ],
   "metadata": {
    "collapsed": false,
    "ExecuteTime": {
     "end_time": "2023-12-18T15:09:09.241423600Z",
     "start_time": "2023-12-18T15:09:05.005251400Z"
    }
   },
   "id": "bb5214d7086fa824"
  },
  {
   "cell_type": "code",
   "execution_count": 61,
   "outputs": [
    {
     "name": "stdout",
     "output_type": "stream",
     "text": [
      "Dimensions of model coefficients: (1, 5)\n",
      "Coefficients: [ 0.91644926 -0.23624172 -0.39068596  1.6568388  -3.54118748]\n"
     ]
    }
   ],
   "source": [
    "coefficients = grid.best_estimator_.named_steps[\"logisticregression\"].coef_\n",
    "print(\"Dimensions of model coefficients: {}\".format(coefficients.shape))\n",
    "print(\"Coefficients: {}\".format(coefficients.ravel()[:]))"
   ],
   "metadata": {
    "collapsed": false,
    "ExecuteTime": {
     "end_time": "2023-12-18T15:09:44.583361300Z",
     "start_time": "2023-12-18T15:09:44.432387400Z"
    }
   },
   "id": "27a712e9446b896b"
  },
  {
   "cell_type": "code",
   "execution_count": 62,
   "outputs": [
    {
     "name": "stdout",
     "output_type": "stream",
     "text": [
      "Best cross-validation score: 0.43\n",
      "Best parameters: \n",
      "{'logisticregression__C': 0.001, 'tfidfvectorizer__ngram_range': (1, 3)}\n"
     ]
    }
   ],
   "source": [
    "pipe = make_pipeline(TfidfVectorizer(), LogisticRegression()) \n",
    "\n",
    "param_grid = {'logisticregression__C': [0.001, 0.01, 0.1, 1, 10, 100],\n",
    "            'tfidfvectorizer__ngram_range': [(1, 1), (1, 2), (1, 3)]}\n",
    "\n",
    "grid = GridSearchCV(pipe, param_grid, cv=5)\n",
    "grid.fit(text_train, y_train)\n",
    "print(\"Best cross-validation score: {:.2f}\".format(grid.best_score_)) \n",
    "print(\"Best parameters: \\n{}\".format(grid.best_params_))"
   ],
   "metadata": {
    "collapsed": false,
    "ExecuteTime": {
     "end_time": "2023-12-18T15:09:53.686548800Z",
     "start_time": "2023-12-18T15:09:48.722471200Z"
    }
   },
   "id": "63afd7c750f36a7e"
  },
  {
   "cell_type": "code",
   "execution_count": 63,
   "outputs": [
    {
     "data": {
      "text/plain": "<Figure size 1000x600 with 2 Axes>",
      "image/png": "[encoded data removed]"
     },
     "metadata": {},
     "output_type": "display_data"
    }
   ],
   "source": [
    "import seaborn as sns\n",
    "\n",
    "grid_mean_scores = np.array(grid.cv_results_['mean_test_score']).reshape(3, 6)\n",
    "\n",
    "plt.figure(figsize=(10, 6))\n",
    "sns.heatmap(grid_mean_scores, annot=True, fmt=\".3f\", xticklabels=param_grid['logisticregression__C'],\n",
    "            yticklabels=[str(i) for i in param_grid['tfidfvectorizer__ngram_range']], cmap=\"viridis\")\n",
    "plt.xlabel('Parameter C')\n",
    "plt.ylabel('ngram_range')\n",
    "plt.title('Heatmap for average correctness of cross-validation')\n",
    "plt.show()"
   ],
   "metadata": {
    "collapsed": false,
    "ExecuteTime": {
     "end_time": "2023-12-18T15:10:59.890541800Z",
     "start_time": "2023-12-18T15:10:54.699839600Z"
    }
   },
   "id": "6d31c4867a7fcd3a"
  }
 ],
 "metadata": {
  "kernelspec": {
   "display_name": "Python 3",
   "language": "python",
   "name": "python3"
  },
  "language_info": {
   "codemirror_mode": {
    "name": "ipython",
    "version": 2
   },
   "file_extension": ".py",
   "mimetype": "text/x-python",
   "name": "python",
   "nbconvert_exporter": "python",
   "pygments_lexer": "ipython2",
   "version": "2.7.6"
  }
 },
 "nbformat": 4,
 "nbformat_minor": 5
}
