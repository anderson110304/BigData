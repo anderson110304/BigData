{
 "cells": [
  {
   "cell_type": "markdown",
   "source": [
    "# Использование команд библиотеки NumPy"
   ],
   "metadata": {
    "collapsed": false
   },
   "id": "8b16c9f0df1f981c"
  },
  {
   "cell_type": "code",
   "execution_count": 4,
   "outputs": [],
   "source": [
    "import numpy as np"
   ],
   "metadata": {
    "collapsed": false,
    "ExecuteTime": {
     "end_time": "2023-09-29T16:51:34.155544100Z",
     "start_time": "2023-09-29T16:51:34.143862400Z"
    }
   },
   "id": "initial_id"
  },
  {
   "cell_type": "markdown",
   "source": [
    "## 1. Создайте одномерный массив my_array, в котором по порядку все числа до 100, кратные 5"
   ],
   "metadata": {
    "collapsed": false
   },
   "id": "a9558f963ac38590"
  },
  {
   "cell_type": "code",
   "execution_count": 5,
   "outputs": [
    {
     "name": "stdout",
     "output_type": "stream",
     "text": [
      "[ 0  5 10 15 20 25 30 35 40 45 50 55 60 65 70 75 80 85 90 95]\n"
     ]
    }
   ],
   "source": [
    "my_array = np.arange(0, 100, 5)\n",
    "print(my_array)"
   ],
   "metadata": {
    "collapsed": false,
    "ExecuteTime": {
     "end_time": "2023-09-29T16:51:40.909785200Z",
     "start_time": "2023-09-29T16:51:40.898636100Z"
    }
   },
   "id": "4f7cea71ad174098"
  },
  {
   "cell_type": "markdown",
   "source": [
    "## 2. Из полученного массива получить массив с кратными 10 числами"
   ],
   "metadata": {
    "collapsed": false
   },
   "id": "e52bd214a1ef2a1b"
  },
  {
   "cell_type": "code",
   "execution_count": 6,
   "outputs": [
    {
     "name": "stdout",
     "output_type": "stream",
     "text": [
      "[ 0 10 20 30 40 50 60 70 80 90]\n"
     ]
    }
   ],
   "source": [
    "my_array_multiple_by_10 = my_array[my_array % 10 == 0]\n",
    "print(my_array_multiple_by_10)"
   ],
   "metadata": {
    "collapsed": false,
    "ExecuteTime": {
     "end_time": "2023-09-29T16:55:17.725959100Z",
     "start_time": "2023-09-29T16:55:17.653866100Z"
    }
   },
   "id": "5e031423c8b8174e"
  },
  {
   "cell_type": "markdown",
   "source": [
    "## 3. Получить двумерный массив с двумя столбцами"
   ],
   "metadata": {
    "collapsed": false
   },
   "id": "c3ea3efbcb30eeb5"
  },
  {
   "cell_type": "code",
   "execution_count": 7,
   "outputs": [
    {
     "name": "stdout",
     "output_type": "stream",
     "text": [
      "[[ 0 10]\n",
      " [20 30]\n",
      " [40 50]\n",
      " [60 70]\n",
      " [80 90]]\n"
     ]
    }
   ],
   "source": [
    "two_dimension_array = my_array_multiple_by_10.reshape(-1, 2)\n",
    "print(two_dimension_array)"
   ],
   "metadata": {
    "collapsed": false,
    "ExecuteTime": {
     "end_time": "2023-09-29T16:57:25.883773500Z",
     "start_time": "2023-09-29T16:57:25.852220800Z"
    }
   },
   "id": "135e8cacf852ec11"
  },
  {
   "cell_type": "markdown",
   "source": [
    "## 4. Получите набор my_second_array, в котором все элементы меньше предыдущего исходного на 5"
   ],
   "metadata": {
    "collapsed": false
   },
   "id": "c78947886acec0f9"
  },
  {
   "cell_type": "code",
   "execution_count": 8,
   "outputs": [
    {
     "name": "stdout",
     "output_type": "stream",
     "text": [
      "[[-5  5]\n",
      " [15 25]\n",
      " [35 45]\n",
      " [55 65]\n",
      " [75 85]]\n"
     ]
    }
   ],
   "source": [
    "my_second_array = two_dimension_array - 5\n",
    "print(my_second_array)"
   ],
   "metadata": {
    "collapsed": false,
    "ExecuteTime": {
     "end_time": "2023-09-29T16:59:26.057718100Z",
     "start_time": "2023-09-29T16:59:26.036163300Z"
    }
   },
   "id": "bc4fda00c697f62c"
  },
  {
   "cell_type": "markdown",
   "source": [
    "## 5. Соедините массивы, полученные в п. 3.1 и 4.1, горизонтально. Используйте .T для транспонирования матрицы."
   ],
   "metadata": {
    "collapsed": false
   },
   "id": "7dcc3a0b8d6b122f"
  },
  {
   "cell_type": "code",
   "execution_count": 9,
   "outputs": [
    {
     "name": "stdout",
     "output_type": "stream",
     "text": [
      "[[ 0. 10. -5.  5.]\n",
      " [20. 30. 15. 25.]\n",
      " [40. 50. 35. 45.]\n",
      " [60. 70. 55. 65.]\n",
      " [80. 90. 75. 85.]]\n"
     ]
    }
   ],
   "source": [
    "combined34_array = (np.hstack((two_dimension_array, my_second_array),dtype=float))\n",
    "print(combined34_array)"
   ],
   "metadata": {
    "collapsed": false,
    "ExecuteTime": {
     "end_time": "2023-09-29T17:01:11.916502200Z",
     "start_time": "2023-09-29T17:01:11.885907Z"
    }
   },
   "id": "a72adecd88008815"
  },
  {
   "cell_type": "markdown",
   "source": [
    "## 6. Разделите 2 и 3 строку на 4 верхних строки my_array. Используйте .T для транспонирования матрицы"
   ],
   "metadata": {
    "collapsed": false
   },
   "id": "8dc4a63cc676f046"
  },
  {
   "cell_type": "code",
   "execution_count": 11,
   "outputs": [
    {
     "data": {
      "text/plain": "array([[ 0.00000000e+00,  2.00000000e+01,  4.00000000e+01,\n         6.00000000e+01,  8.00000000e+01],\n       [            inf,  7.50000000e-02,  3.12500000e-02,\n         1.94444444e-02,  1.40625000e-02],\n       [-0.00000000e+00,  1.33333333e+02,  8.96000000e+02,\n         2.42448980e+03,  4.74074074e+03],\n       [ 5.00000000e+00,  2.50000000e+01,  4.50000000e+01,\n         6.50000000e+01,  8.50000000e+01]])"
     },
     "execution_count": 11,
     "metadata": {},
     "output_type": "execute_result"
    }
   ],
   "source": [
    "combined34_array.T[1] = (combined34_array.T[1] / combined34_array.T[0].reshape(-1, 5))\n",
    "combined34_array.T[2] = (combined34_array.T[2] / combined34_array.T[1].reshape(-1, 5))\n",
    "combined34_array.T"
   ],
   "metadata": {
    "collapsed": false,
    "ExecuteTime": {
     "end_time": "2023-09-29T17:03:21.926372800Z",
     "start_time": "2023-09-29T17:03:21.880522Z"
    }
   },
   "id": "c7ea92a34d5fd00b"
  },
  {
   "cell_type": "markdown",
   "source": [
    "## 7. Оставить только те значения, которые не изменились после деления"
   ],
   "metadata": {
    "collapsed": false
   },
   "id": "a6475ed5eb4b6e5b"
  },
  {
   "cell_type": "code",
   "execution_count": 12,
   "outputs": [
    {
     "data": {
      "text/plain": "array([[ 0., 20., 40., 60., 80.],\n       [ 5., 25., 45., 65., 85.]])"
     },
     "execution_count": 12,
     "metadata": {},
     "output_type": "execute_result"
    }
   ],
   "source": [
    "not_changed_array = np.delete(combined34_array, [1,2], axis=1)\n",
    "not_changed_array.T"
   ],
   "metadata": {
    "collapsed": false,
    "ExecuteTime": {
     "end_time": "2023-09-29T17:07:36.754675400Z",
     "start_time": "2023-09-29T17:07:36.715101400Z"
    }
   },
   "id": "5d6acf80a3d39a43"
  },
  {
   "cell_type": "markdown",
   "source": [
    "## 8. Снова получить трехстрочный двумерный массив и поменять местами первую и третью строки"
   ],
   "metadata": {
    "collapsed": false
   },
   "id": "3cd75a1a8494ad42"
  },
  {
   "cell_type": "code",
   "execution_count": 14,
   "outputs": [
    {
     "data": {
      "text/plain": "array([[0.00000000e+00, 2.00000000e+01, 4.00000000e+01, 6.00000000e+01,\n        8.00000000e+01],\n       [           inf, 7.50000000e-02, 3.12500000e-02, 1.94444444e-02,\n        1.40625000e-02],\n       [5.00000000e+00, 2.50000000e+01, 4.50000000e+01, 6.50000000e+01,\n        8.50000000e+01]])"
     },
     "execution_count": 14,
     "metadata": {},
     "output_type": "execute_result"
    }
   ],
   "source": [
    "ar_ray = np.delete(combined34_array, 2, axis=1)\n",
    "ar_ray = ar_ray.T\n",
    "ar_ray"
   ],
   "metadata": {
    "collapsed": false,
    "ExecuteTime": {
     "end_time": "2023-09-29T17:11:19.090695900Z",
     "start_time": "2023-09-29T17:11:19.056326300Z"
    }
   },
   "id": "8269cb5a525e673e"
  },
  {
   "cell_type": "code",
   "execution_count": 15,
   "outputs": [
    {
     "data": {
      "text/plain": "array([[5.00000000e+00, 2.50000000e+01, 4.50000000e+01, 6.50000000e+01,\n        8.50000000e+01],\n       [           inf, 7.50000000e-02, 3.12500000e-02, 1.94444444e-02,\n        1.40625000e-02],\n       [0.00000000e+00, 2.00000000e+01, 4.00000000e+01, 6.00000000e+01,\n        8.00000000e+01]])"
     },
     "execution_count": 15,
     "metadata": {},
     "output_type": "execute_result"
    }
   ],
   "source": [
    "ar_ray[[0,2]] = ar_ray[[2,0]]\n",
    "ar_ray"
   ],
   "metadata": {
    "collapsed": false,
    "ExecuteTime": {
     "end_time": "2023-09-29T17:11:43.313927300Z",
     "start_time": "2023-09-29T17:11:43.255439900Z"
    }
   },
   "id": "9b1b349ff66e59d8"
  },
  {
   "cell_type": "markdown",
   "source": [
    "## 9. Получить среднее, медиану и стандартное отклонение для каждой строки, используя команды np.mean(), np.median(), np.std()."
   ],
   "metadata": {
    "collapsed": false
   },
   "id": "c069a509d65ddfe4"
  },
  {
   "cell_type": "code",
   "execution_count": 16,
   "outputs": [
    {
     "name": "stdout",
     "output_type": "stream",
     "text": [
      "[45. inf 40.]\n"
     ]
    }
   ],
   "source": [
    "mean_array = np.mean(ar_ray, axis=1)\n",
    "print(mean_array)"
   ],
   "metadata": {
    "collapsed": false,
    "ExecuteTime": {
     "end_time": "2023-09-29T17:15:09.401649700Z",
     "start_time": "2023-09-29T17:15:09.348568400Z"
    }
   },
   "id": "c2707f0c90e9028"
  },
  {
   "cell_type": "code",
   "execution_count": 17,
   "outputs": [
    {
     "name": "stdout",
     "output_type": "stream",
     "text": [
      "[4.500e+01 3.125e-02 4.000e+01]\n"
     ]
    }
   ],
   "source": [
    "median_array = np.median(ar_ray, axis=1)\n",
    "print(median_array)"
   ],
   "metadata": {
    "collapsed": false,
    "ExecuteTime": {
     "end_time": "2023-09-29T17:15:51.374484400Z",
     "start_time": "2023-09-29T17:15:51.329321100Z"
    }
   },
   "id": "7fad8fb02502154e"
  },
  {
   "cell_type": "code",
   "execution_count": 18,
   "outputs": [
    {
     "name": "stdout",
     "output_type": "stream",
     "text": [
      "[4.500e+01 3.125e-02 4.000e+01]\n"
     ]
    }
   ],
   "source": [
    "std_array = np.median(ar_ray, axis=1)\n",
    "print(std_array)"
   ],
   "metadata": {
    "collapsed": false,
    "ExecuteTime": {
     "end_time": "2023-09-29T17:16:21.391987900Z",
     "start_time": "2023-09-29T17:16:21.340570500Z"
    }
   },
   "id": "fafea94b7ece751"
  },
  {
   "cell_type": "markdown",
   "source": [
    "## 10. Сделать нормализацию на максимальное значение вдоль строк, поделив каждый элемент массива на max() вдоль строк."
   ],
   "metadata": {
    "collapsed": false
   },
   "id": "2d3d208dba2f2d7e"
  },
  {
   "cell_type": "code",
   "execution_count": 20,
   "outputs": [
    {
     "name": "stderr",
     "output_type": "stream",
     "text": [
      "C:\\Users\\Wharton\\AppData\\Local\\Temp\\ipykernel_11856\\3581989803.py:2: RuntimeWarning: invalid value encountered in divide\n",
      "  normalized_for_max = ar_ray / max_vals[:, np.newaxis]\n"
     ]
    },
    {
     "data": {
      "text/plain": "array([[0.05882353, 0.29411765, 0.52941176, 0.76470588, 1.        ],\n       [       nan, 0.        , 0.        , 0.        , 0.        ],\n       [0.        , 0.25      , 0.5       , 0.75      , 1.        ]])"
     },
     "execution_count": 20,
     "metadata": {},
     "output_type": "execute_result"
    }
   ],
   "source": [
    "max_vals = np.max(ar_ray, axis=1)\n",
    "normalized_for_max = ar_ray / max_vals[:, np.newaxis]\n",
    "normalized_for_max"
   ],
   "metadata": {
    "collapsed": false,
    "ExecuteTime": {
     "end_time": "2023-09-29T17:19:47.803980900Z",
     "start_time": "2023-09-29T17:19:47.783151500Z"
    }
   },
   "id": "13190771b0ce38c2"
  },
  {
   "cell_type": "markdown",
   "source": [
    "# Использование команд библиотеки pandas"
   ],
   "metadata": {
    "collapsed": false
   },
   "id": "c3b1d767072b1b10"
  },
  {
   "cell_type": "code",
   "execution_count": 3,
   "outputs": [],
   "source": [
    "import pandas as pd"
   ],
   "metadata": {
    "collapsed": false,
    "ExecuteTime": {
     "end_time": "2023-10-03T09:46:13.062384Z",
     "start_time": "2023-10-03T09:46:09.503002800Z"
    }
   },
   "id": "4d6adae44677656c"
  },
  {
   "cell_type": "markdown",
   "source": [
    "## 1. Импортируйте данные из файла “Global Population Trends(2016-2022).csv”"
   ],
   "metadata": {
    "collapsed": false
   },
   "id": "e3f3c0ebfa394230"
  },
  {
   "cell_type": "code",
   "execution_count": 4,
   "outputs": [],
   "source": [
    "df = pd.read_csv('Global Population Trends(2016-2022).csv')"
   ],
   "metadata": {
    "collapsed": false,
    "ExecuteTime": {
     "end_time": "2023-10-03T09:46:13.136480500Z",
     "start_time": "2023-10-03T09:46:13.062384Z"
    }
   },
   "id": "acac4c09950a4647"
  },
  {
   "cell_type": "markdown",
   "source": [
    "## 2. Считайте несколько первых записей таблицы (head())"
   ],
   "metadata": {
    "collapsed": false
   },
   "id": "a408ed416f00d2c5"
  },
  {
   "cell_type": "code",
   "execution_count": 5,
   "outputs": [
    {
     "data": {
      "text/plain": "       Country  Year Total Population Urban Population Rural Population  \\\n0  Afghanistan  2017                -                -                -   \n1  Afghanistan  2018       36,686,784        9,353,296       27,333,488   \n2  Afghanistan  2019       37,769,499        9,727,157       28,042,342   \n3  Afghanistan  2020       38,972,230       10,142,913       28,829,317   \n4  Afghanistan  2021       40,099,462       10,551,772       29,547,690   \n5      Albania  2017                -                -                -   \n6      Albania  2018        2,866,376        1,728,969        1,137,407   \n\n  Population Density Life Expectancy  Birth Rate  Death Rate Fertility Rate  \\\n0                 55              63      37.342       7.027          5.129   \n1                 56              63      36.927       6.981          5.002   \n2                 58              64      36.466       6.791           4.87   \n3                 60              63      36.051       7.113           4.75   \n4                  -              62      35.842       7.344          4.643   \n5                105              79      10.870       8.150          1.491   \n6                105              79      10.517       8.308           1.44   \n\n  Infant Mortality Rate Growth Rate  \n0                  49.4           -  \n1                  47.8           3  \n2                  46.3           3  \n3                  44.8           3  \n4                  43.4           3  \n5                   8.3           -  \n6                   8.3           0  ",
      "text/html": "<div>\n<style scoped>\n    .dataframe tbody tr th:only-of-type {\n        vertical-align: middle;\n    }\n\n    .dataframe tbody tr th {\n        vertical-align: top;\n    }\n\n    .dataframe thead th {\n        text-align: right;\n    }\n</style>\n<table border=\"1\" class=\"dataframe\">\n  <thead>\n    <tr style=\"text-align: right;\">\n      <th></th>\n      <th>Country</th>\n      <th>Year</th>\n      <th>Total Population</th>\n      <th>Urban Population</th>\n      <th>Rural Population</th>\n      <th>Population Density</th>\n      <th>Life Expectancy</th>\n      <th>Birth Rate</th>\n      <th>Death Rate</th>\n      <th>Fertility Rate</th>\n      <th>Infant Mortality Rate</th>\n      <th>Growth Rate</th>\n    </tr>\n  </thead>\n  <tbody>\n    <tr>\n      <th>0</th>\n      <td>Afghanistan</td>\n      <td>2017</td>\n      <td>-</td>\n      <td>-</td>\n      <td>-</td>\n      <td>55</td>\n      <td>63</td>\n      <td>37.342</td>\n      <td>7.027</td>\n      <td>5.129</td>\n      <td>49.4</td>\n      <td>-</td>\n    </tr>\n    <tr>\n      <th>1</th>\n      <td>Afghanistan</td>\n      <td>2018</td>\n      <td>36,686,784</td>\n      <td>9,353,296</td>\n      <td>27,333,488</td>\n      <td>56</td>\n      <td>63</td>\n      <td>36.927</td>\n      <td>6.981</td>\n      <td>5.002</td>\n      <td>47.8</td>\n      <td>3</td>\n    </tr>\n    <tr>\n      <th>2</th>\n      <td>Afghanistan</td>\n      <td>2019</td>\n      <td>37,769,499</td>\n      <td>9,727,157</td>\n      <td>28,042,342</td>\n      <td>58</td>\n      <td>64</td>\n      <td>36.466</td>\n      <td>6.791</td>\n      <td>4.87</td>\n      <td>46.3</td>\n      <td>3</td>\n    </tr>\n    <tr>\n      <th>3</th>\n      <td>Afghanistan</td>\n      <td>2020</td>\n      <td>38,972,230</td>\n      <td>10,142,913</td>\n      <td>28,829,317</td>\n      <td>60</td>\n      <td>63</td>\n      <td>36.051</td>\n      <td>7.113</td>\n      <td>4.75</td>\n      <td>44.8</td>\n      <td>3</td>\n    </tr>\n    <tr>\n      <th>4</th>\n      <td>Afghanistan</td>\n      <td>2021</td>\n      <td>40,099,462</td>\n      <td>10,551,772</td>\n      <td>29,547,690</td>\n      <td>-</td>\n      <td>62</td>\n      <td>35.842</td>\n      <td>7.344</td>\n      <td>4.643</td>\n      <td>43.4</td>\n      <td>3</td>\n    </tr>\n    <tr>\n      <th>5</th>\n      <td>Albania</td>\n      <td>2017</td>\n      <td>-</td>\n      <td>-</td>\n      <td>-</td>\n      <td>105</td>\n      <td>79</td>\n      <td>10.870</td>\n      <td>8.150</td>\n      <td>1.491</td>\n      <td>8.3</td>\n      <td>-</td>\n    </tr>\n    <tr>\n      <th>6</th>\n      <td>Albania</td>\n      <td>2018</td>\n      <td>2,866,376</td>\n      <td>1,728,969</td>\n      <td>1,137,407</td>\n      <td>105</td>\n      <td>79</td>\n      <td>10.517</td>\n      <td>8.308</td>\n      <td>1.44</td>\n      <td>8.3</td>\n      <td>0</td>\n    </tr>\n  </tbody>\n</table>\n</div>"
     },
     "execution_count": 5,
     "metadata": {},
     "output_type": "execute_result"
    }
   ],
   "source": [
    "df.head(7)"
   ],
   "metadata": {
    "collapsed": false,
    "ExecuteTime": {
     "end_time": "2023-10-03T09:46:14.898544500Z",
     "start_time": "2023-10-03T09:46:14.780458400Z"
    }
   },
   "id": "e35949a26c86bb4d"
  },
  {
   "cell_type": "markdown",
   "source": [
    "## 3. Определите размерность данного фрейма (shape())"
   ],
   "metadata": {
    "collapsed": false
   },
   "id": "db9e0d74794cf758"
  },
  {
   "cell_type": "code",
   "execution_count": 6,
   "outputs": [
    {
     "data": {
      "text/plain": "(1073, 12)"
     },
     "execution_count": 6,
     "metadata": {},
     "output_type": "execute_result"
    }
   ],
   "source": [
    "df.shape"
   ],
   "metadata": {
    "collapsed": false,
    "ExecuteTime": {
     "end_time": "2023-10-03T09:46:16.074832100Z",
     "start_time": "2023-10-03T09:46:16.029599600Z"
    }
   },
   "id": "296f0ab63d07279e"
  },
  {
   "cell_type": "markdown",
   "source": [
    "## 4. Выведите название заголовков столбцов фрейма (columns)"
   ],
   "metadata": {
    "collapsed": false
   },
   "id": "4ea3a97f0dde5f55"
  },
  {
   "cell_type": "code",
   "execution_count": 7,
   "outputs": [
    {
     "data": {
      "text/plain": "Index(['Country', 'Year', 'Total Population', 'Urban Population',\n       'Rural Population', 'Population Density', 'Life Expectancy',\n       'Birth Rate', 'Death Rate', 'Fertility Rate', 'Infant Mortality Rate',\n       'Growth Rate'],\n      dtype='object')"
     },
     "execution_count": 7,
     "metadata": {},
     "output_type": "execute_result"
    }
   ],
   "source": [
    "df.columns"
   ],
   "metadata": {
    "collapsed": false,
    "ExecuteTime": {
     "end_time": "2023-10-03T09:46:17.250276900Z",
     "start_time": "2023-10-03T09:46:17.223365900Z"
    }
   },
   "id": "3db790e457529207"
  },
  {
   "cell_type": "markdown",
   "source": [
    "## 5. Получите описание всех переменных (полей) (info())"
   ],
   "metadata": {
    "collapsed": false
   },
   "id": "2ba9f1b827981252"
  },
  {
   "cell_type": "code",
   "execution_count": 8,
   "outputs": [
    {
     "name": "stdout",
     "output_type": "stream",
     "text": [
      "<class 'pandas.core.frame.DataFrame'>\n",
      "RangeIndex: 1073 entries, 0 to 1072\n",
      "Data columns (total 12 columns):\n",
      " #   Column                 Non-Null Count  Dtype  \n",
      "---  ------                 --------------  -----  \n",
      " 0   Country                1073 non-null   object \n",
      " 1   Year                   1073 non-null   int64  \n",
      " 2   Total Population       1073 non-null   object \n",
      " 3   Urban Population       1073 non-null   object \n",
      " 4   Rural Population       1073 non-null   object \n",
      " 5   Population Density     1073 non-null   object \n",
      " 6   Life Expectancy        1073 non-null   object \n",
      " 7   Birth Rate             1073 non-null   float64\n",
      " 8   Death Rate             1073 non-null   float64\n",
      " 9   Fertility Rate         1073 non-null   object \n",
      " 10  Infant Mortality Rate  1073 non-null   object \n",
      " 11  Growth Rate            1073 non-null   object \n",
      "dtypes: float64(2), int64(1), object(9)\n",
      "memory usage: 100.7+ KB\n"
     ]
    }
   ],
   "source": [
    "df.info()"
   ],
   "metadata": {
    "collapsed": false,
    "ExecuteTime": {
     "end_time": "2023-10-03T09:46:18.332689300Z",
     "start_time": "2023-10-03T09:46:18.291030700Z"
    }
   },
   "id": "c8db799d304d1d"
  },
  {
   "cell_type": "markdown",
   "source": [
    "## 6. Удалите строки, не содержащие значения в столбце «Total Population» "
   ],
   "metadata": {
    "collapsed": false
   },
   "id": "9631a26bf1f95d2f"
  },
  {
   "cell_type": "code",
   "execution_count": 9,
   "outputs": [
    {
     "data": {
      "text/plain": "          Country  Year Total Population Urban Population Rural Population  \\\n1     Afghanistan  2018       36,686,784        9,353,296       27,333,488   \n2     Afghanistan  2019       37,769,499        9,727,157       28,042,342   \n3     Afghanistan  2020       38,972,230       10,142,913       28,829,317   \n4     Afghanistan  2021       40,099,462       10,551,772       29,547,690   \n6         Albania  2018        2,866,376        1,728,969        1,137,407   \n...           ...   ...              ...              ...              ...   \n1067       Zambia  2021       19,473,125        8,800,295       10,672,830   \n1069     Zimbabwe  2018       15,052,184        4,848,158       10,204,026   \n1070     Zimbabwe  2019       15,354,608        4,945,719       10,408,889   \n1071     Zimbabwe  2020       15,669,666        5,052,214       10,617,452   \n1072     Zimbabwe  2021       15,993,524        5,166,388       10,827,136   \n\n     Population Density Life Expectancy  Birth Rate  Death Rate  \\\n1                    56              63      36.927       6.981   \n2                    58              64      36.466       6.791   \n3                    60              63      36.051       7.113   \n4                     -              62      35.842       7.344   \n6                   105              79      10.517       8.308   \n...                 ...             ...         ...         ...   \n1067                  -              61      34.511       6.973   \n1069                 39              61      32.074       7.972   \n1070                 40              61      31.518       8.043   \n1071                 41              61      31.009       8.132   \n1072                  -              59      30.537       9.057   \n\n     Fertility Rate Infant Mortality Rate Growth Rate  \n1             5.002                  47.8           3  \n2              4.87                  46.3           3  \n3              4.75                  44.8           3  \n4             4.643                  43.4           3  \n6              1.44                   8.3           0  \n...             ...                   ...         ...  \n1067          4.308                  40.2           3  \n1069          3.659                    38           2  \n1070          3.599                  37.1           2  \n1071          3.545                  36.6           2  \n1072          3.491                  35.7           2  \n\n[864 rows x 12 columns]",
      "text/html": "<div>\n<style scoped>\n    .dataframe tbody tr th:only-of-type {\n        vertical-align: middle;\n    }\n\n    .dataframe tbody tr th {\n        vertical-align: top;\n    }\n\n    .dataframe thead th {\n        text-align: right;\n    }\n</style>\n<table border=\"1\" class=\"dataframe\">\n  <thead>\n    <tr style=\"text-align: right;\">\n      <th></th>\n      <th>Country</th>\n      <th>Year</th>\n      <th>Total Population</th>\n      <th>Urban Population</th>\n      <th>Rural Population</th>\n      <th>Population Density</th>\n      <th>Life Expectancy</th>\n      <th>Birth Rate</th>\n      <th>Death Rate</th>\n      <th>Fertility Rate</th>\n      <th>Infant Mortality Rate</th>\n      <th>Growth Rate</th>\n    </tr>\n  </thead>\n  <tbody>\n    <tr>\n      <th>1</th>\n      <td>Afghanistan</td>\n      <td>2018</td>\n      <td>36,686,784</td>\n      <td>9,353,296</td>\n      <td>27,333,488</td>\n      <td>56</td>\n      <td>63</td>\n      <td>36.927</td>\n      <td>6.981</td>\n      <td>5.002</td>\n      <td>47.8</td>\n      <td>3</td>\n    </tr>\n    <tr>\n      <th>2</th>\n      <td>Afghanistan</td>\n      <td>2019</td>\n      <td>37,769,499</td>\n      <td>9,727,157</td>\n      <td>28,042,342</td>\n      <td>58</td>\n      <td>64</td>\n      <td>36.466</td>\n      <td>6.791</td>\n      <td>4.87</td>\n      <td>46.3</td>\n      <td>3</td>\n    </tr>\n    <tr>\n      <th>3</th>\n      <td>Afghanistan</td>\n      <td>2020</td>\n      <td>38,972,230</td>\n      <td>10,142,913</td>\n      <td>28,829,317</td>\n      <td>60</td>\n      <td>63</td>\n      <td>36.051</td>\n      <td>7.113</td>\n      <td>4.75</td>\n      <td>44.8</td>\n      <td>3</td>\n    </tr>\n    <tr>\n      <th>4</th>\n      <td>Afghanistan</td>\n      <td>2021</td>\n      <td>40,099,462</td>\n      <td>10,551,772</td>\n      <td>29,547,690</td>\n      <td>-</td>\n      <td>62</td>\n      <td>35.842</td>\n      <td>7.344</td>\n      <td>4.643</td>\n      <td>43.4</td>\n      <td>3</td>\n    </tr>\n    <tr>\n      <th>6</th>\n      <td>Albania</td>\n      <td>2018</td>\n      <td>2,866,376</td>\n      <td>1,728,969</td>\n      <td>1,137,407</td>\n      <td>105</td>\n      <td>79</td>\n      <td>10.517</td>\n      <td>8.308</td>\n      <td>1.44</td>\n      <td>8.3</td>\n      <td>0</td>\n    </tr>\n    <tr>\n      <th>...</th>\n      <td>...</td>\n      <td>...</td>\n      <td>...</td>\n      <td>...</td>\n      <td>...</td>\n      <td>...</td>\n      <td>...</td>\n      <td>...</td>\n      <td>...</td>\n      <td>...</td>\n      <td>...</td>\n      <td>...</td>\n    </tr>\n    <tr>\n      <th>1067</th>\n      <td>Zambia</td>\n      <td>2021</td>\n      <td>19,473,125</td>\n      <td>8,800,295</td>\n      <td>10,672,830</td>\n      <td>-</td>\n      <td>61</td>\n      <td>34.511</td>\n      <td>6.973</td>\n      <td>4.308</td>\n      <td>40.2</td>\n      <td>3</td>\n    </tr>\n    <tr>\n      <th>1069</th>\n      <td>Zimbabwe</td>\n      <td>2018</td>\n      <td>15,052,184</td>\n      <td>4,848,158</td>\n      <td>10,204,026</td>\n      <td>39</td>\n      <td>61</td>\n      <td>32.074</td>\n      <td>7.972</td>\n      <td>3.659</td>\n      <td>38</td>\n      <td>2</td>\n    </tr>\n    <tr>\n      <th>1070</th>\n      <td>Zimbabwe</td>\n      <td>2019</td>\n      <td>15,354,608</td>\n      <td>4,945,719</td>\n      <td>10,408,889</td>\n      <td>40</td>\n      <td>61</td>\n      <td>31.518</td>\n      <td>8.043</td>\n      <td>3.599</td>\n      <td>37.1</td>\n      <td>2</td>\n    </tr>\n    <tr>\n      <th>1071</th>\n      <td>Zimbabwe</td>\n      <td>2020</td>\n      <td>15,669,666</td>\n      <td>5,052,214</td>\n      <td>10,617,452</td>\n      <td>41</td>\n      <td>61</td>\n      <td>31.009</td>\n      <td>8.132</td>\n      <td>3.545</td>\n      <td>36.6</td>\n      <td>2</td>\n    </tr>\n    <tr>\n      <th>1072</th>\n      <td>Zimbabwe</td>\n      <td>2021</td>\n      <td>15,993,524</td>\n      <td>5,166,388</td>\n      <td>10,827,136</td>\n      <td>-</td>\n      <td>59</td>\n      <td>30.537</td>\n      <td>9.057</td>\n      <td>3.491</td>\n      <td>35.7</td>\n      <td>2</td>\n    </tr>\n  </tbody>\n</table>\n<p>864 rows × 12 columns</p>\n</div>"
     },
     "execution_count": 9,
     "metadata": {},
     "output_type": "execute_result"
    }
   ],
   "source": [
    "df_with_total_population_data = df[df['Total Population'] != '-']\n",
    "df_with_total_population_data"
   ],
   "metadata": {
    "collapsed": false,
    "ExecuteTime": {
     "end_time": "2023-10-03T09:46:21.074019100Z",
     "start_time": "2023-10-03T09:46:20.968105400Z"
    }
   },
   "id": "56fae5b11ee53c27"
  },
  {
   "cell_type": "markdown",
   "source": [
    "## 7. Получите описательную статистику по переменным (например, max(), min(), describe())"
   ],
   "metadata": {
    "collapsed": false
   },
   "id": "f409fced96d8ee11"
  },
  {
   "cell_type": "code",
   "execution_count": 10,
   "outputs": [
    {
     "data": {
      "text/plain": "              Year  Birth Rate  Death Rate\ncount   864.000000  864.000000  864.000000\nmean   2019.500000   18.548384    7.889123\nstd       1.118682    9.887518    3.041385\nmin    2018.000000    0.000000    0.000000\n25%    2018.750000   10.500000    6.116500\n50%    2019.500000   15.628500    7.453500\n75%    2020.250000   25.565000    9.385000\nmax    2021.000000   46.127000   21.700000",
      "text/html": "<div>\n<style scoped>\n    .dataframe tbody tr th:only-of-type {\n        vertical-align: middle;\n    }\n\n    .dataframe tbody tr th {\n        vertical-align: top;\n    }\n\n    .dataframe thead th {\n        text-align: right;\n    }\n</style>\n<table border=\"1\" class=\"dataframe\">\n  <thead>\n    <tr style=\"text-align: right;\">\n      <th></th>\n      <th>Year</th>\n      <th>Birth Rate</th>\n      <th>Death Rate</th>\n    </tr>\n  </thead>\n  <tbody>\n    <tr>\n      <th>count</th>\n      <td>864.000000</td>\n      <td>864.000000</td>\n      <td>864.000000</td>\n    </tr>\n    <tr>\n      <th>mean</th>\n      <td>2019.500000</td>\n      <td>18.548384</td>\n      <td>7.889123</td>\n    </tr>\n    <tr>\n      <th>std</th>\n      <td>1.118682</td>\n      <td>9.887518</td>\n      <td>3.041385</td>\n    </tr>\n    <tr>\n      <th>min</th>\n      <td>2018.000000</td>\n      <td>0.000000</td>\n      <td>0.000000</td>\n    </tr>\n    <tr>\n      <th>25%</th>\n      <td>2018.750000</td>\n      <td>10.500000</td>\n      <td>6.116500</td>\n    </tr>\n    <tr>\n      <th>50%</th>\n      <td>2019.500000</td>\n      <td>15.628500</td>\n      <td>7.453500</td>\n    </tr>\n    <tr>\n      <th>75%</th>\n      <td>2020.250000</td>\n      <td>25.565000</td>\n      <td>9.385000</td>\n    </tr>\n    <tr>\n      <th>max</th>\n      <td>2021.000000</td>\n      <td>46.127000</td>\n      <td>21.700000</td>\n    </tr>\n  </tbody>\n</table>\n</div>"
     },
     "execution_count": 10,
     "metadata": {},
     "output_type": "execute_result"
    }
   ],
   "source": [
    "df_with_total_population_data.describe()"
   ],
   "metadata": {
    "collapsed": false,
    "ExecuteTime": {
     "end_time": "2023-10-03T09:46:23.767210200Z",
     "start_time": "2023-10-03T09:46:23.737506600Z"
    }
   },
   "id": "b26a988171cd5a61"
  },
  {
   "cell_type": "code",
   "execution_count": 11,
   "outputs": [
    {
     "data": {
      "text/plain": "Country                    Zimbabwe\nYear                           2021\nTotal Population             99,258\nUrban Population         99,876,265\nRural Population            998,397\nPopulation Density               99\nLife Expectancy                  85\nBirth Rate                   46.127\nDeath Rate                     21.7\nFertility Rate                7.023\nInfant Mortality Rate           9.9\nGrowth Rate                       5\ndtype: object"
     },
     "execution_count": 11,
     "metadata": {},
     "output_type": "execute_result"
    }
   ],
   "source": [
    "df_with_total_population_data.max()"
   ],
   "metadata": {
    "collapsed": false,
    "ExecuteTime": {
     "end_time": "2023-10-03T09:46:24.285122400Z",
     "start_time": "2023-10-03T09:46:24.248837Z"
    }
   },
   "id": "aa98d59748b5117f"
  },
  {
   "cell_type": "code",
   "execution_count": 12,
   "outputs": [
    {
     "data": {
      "text/plain": "Country                  Afghanistan\nYear                            2018\nTotal Population           1,057,198\nUrban Population                   -\nRural Population                   -\nPopulation Density                 -\nLife Expectancy                    -\nBirth Rate                       0.0\nDeath Rate                       0.0\nFertility Rate                     -\nInfant Mortality Rate              -\nGrowth Rate                       -1\ndtype: object"
     },
     "execution_count": 12,
     "metadata": {},
     "output_type": "execute_result"
    }
   ],
   "source": [
    "df_with_total_population_data.min()"
   ],
   "metadata": {
    "collapsed": false,
    "ExecuteTime": {
     "end_time": "2023-10-03T09:46:24.785319600Z",
     "start_time": "2023-10-03T09:46:24.776280600Z"
    }
   },
   "id": "ce1bebfc09f62b2f"
  },
  {
   "cell_type": "markdown",
   "source": [
    "## 8. Выполните сортировку данных по нескольким критериям"
   ],
   "metadata": {
    "collapsed": false
   },
   "id": "f416aa8c796147c6"
  },
  {
   "cell_type": "code",
   "execution_count": 13,
   "outputs": [
    {
     "data": {
      "text/plain": "             Country  Year Total Population Urban Population Rural Population  \\\n1        Afghanistan  2018       36,686,784        9,353,296       27,333,488   \n1014  United Kingdom  2018       66,460,344       55,426,598       11,033,746   \n227             Cuba  2018       11,328,244        8,726,939        2,601,305   \n602       Mauritania  2018        4,270,712        2,292,177        1,978,535   \n232          Curacao  2018          159,336          142,040           17,296   \n...              ...   ...              ...              ...              ...   \n555        Lithuania  2021        2,800,839        1,911,545          889,294   \n550    Liechtenstein  2021           39,039            5,649           33,390   \n545            Libya  2021        6,735,277        5,455,170        1,280,107   \n585         Maldives  2021          521,457          214,329          307,128   \n1072        Zimbabwe  2021       15,993,524        5,166,388       10,827,136   \n\n     Population Density Life Expectancy  Birth Rate  Death Rate  \\\n1                    56              63      36.927       6.981   \n1014                275              81      11.000       9.200   \n227                 109              77      10.348       9.815   \n602                   4              65      34.183       7.248   \n232                 359               0      10.500       8.800   \n...                 ...             ...         ...         ...   \n555                   -              74       8.300      17.000   \n550                   -              84       9.600       6.900   \n545                   -              72      17.828       6.018   \n585                   -              80      14.088       3.020   \n1072                  -              59      30.537       9.057   \n\n     Fertility Rate Infant Mortality Rate Growth Rate  \n1             5.002                  47.8           3  \n1014           1.68                   3.8           1  \n227           1.631                   4.2           0  \n602           4.607                  34.7           3  \n232             1.7                     -          -1  \n...             ...                   ...         ...  \n555            1.34                   2.7           0  \n550            1.53                     -           1  \n545           2.462                   9.2           1  \n585           1.692                   5.1           1  \n1072          3.491                  35.7           2  \n\n[864 rows x 12 columns]",
      "text/html": "<div>\n<style scoped>\n    .dataframe tbody tr th:only-of-type {\n        vertical-align: middle;\n    }\n\n    .dataframe tbody tr th {\n        vertical-align: top;\n    }\n\n    .dataframe thead th {\n        text-align: right;\n    }\n</style>\n<table border=\"1\" class=\"dataframe\">\n  <thead>\n    <tr style=\"text-align: right;\">\n      <th></th>\n      <th>Country</th>\n      <th>Year</th>\n      <th>Total Population</th>\n      <th>Urban Population</th>\n      <th>Rural Population</th>\n      <th>Population Density</th>\n      <th>Life Expectancy</th>\n      <th>Birth Rate</th>\n      <th>Death Rate</th>\n      <th>Fertility Rate</th>\n      <th>Infant Mortality Rate</th>\n      <th>Growth Rate</th>\n    </tr>\n  </thead>\n  <tbody>\n    <tr>\n      <th>1</th>\n      <td>Afghanistan</td>\n      <td>2018</td>\n      <td>36,686,784</td>\n      <td>9,353,296</td>\n      <td>27,333,488</td>\n      <td>56</td>\n      <td>63</td>\n      <td>36.927</td>\n      <td>6.981</td>\n      <td>5.002</td>\n      <td>47.8</td>\n      <td>3</td>\n    </tr>\n    <tr>\n      <th>1014</th>\n      <td>United Kingdom</td>\n      <td>2018</td>\n      <td>66,460,344</td>\n      <td>55,426,598</td>\n      <td>11,033,746</td>\n      <td>275</td>\n      <td>81</td>\n      <td>11.000</td>\n      <td>9.200</td>\n      <td>1.68</td>\n      <td>3.8</td>\n      <td>1</td>\n    </tr>\n    <tr>\n      <th>227</th>\n      <td>Cuba</td>\n      <td>2018</td>\n      <td>11,328,244</td>\n      <td>8,726,939</td>\n      <td>2,601,305</td>\n      <td>109</td>\n      <td>77</td>\n      <td>10.348</td>\n      <td>9.815</td>\n      <td>1.631</td>\n      <td>4.2</td>\n      <td>0</td>\n    </tr>\n    <tr>\n      <th>602</th>\n      <td>Mauritania</td>\n      <td>2018</td>\n      <td>4,270,712</td>\n      <td>2,292,177</td>\n      <td>1,978,535</td>\n      <td>4</td>\n      <td>65</td>\n      <td>34.183</td>\n      <td>7.248</td>\n      <td>4.607</td>\n      <td>34.7</td>\n      <td>3</td>\n    </tr>\n    <tr>\n      <th>232</th>\n      <td>Curacao</td>\n      <td>2018</td>\n      <td>159,336</td>\n      <td>142,040</td>\n      <td>17,296</td>\n      <td>359</td>\n      <td>0</td>\n      <td>10.500</td>\n      <td>8.800</td>\n      <td>1.7</td>\n      <td>-</td>\n      <td>-1</td>\n    </tr>\n    <tr>\n      <th>...</th>\n      <td>...</td>\n      <td>...</td>\n      <td>...</td>\n      <td>...</td>\n      <td>...</td>\n      <td>...</td>\n      <td>...</td>\n      <td>...</td>\n      <td>...</td>\n      <td>...</td>\n      <td>...</td>\n      <td>...</td>\n    </tr>\n    <tr>\n      <th>555</th>\n      <td>Lithuania</td>\n      <td>2021</td>\n      <td>2,800,839</td>\n      <td>1,911,545</td>\n      <td>889,294</td>\n      <td>-</td>\n      <td>74</td>\n      <td>8.300</td>\n      <td>17.000</td>\n      <td>1.34</td>\n      <td>2.7</td>\n      <td>0</td>\n    </tr>\n    <tr>\n      <th>550</th>\n      <td>Liechtenstein</td>\n      <td>2021</td>\n      <td>39,039</td>\n      <td>5,649</td>\n      <td>33,390</td>\n      <td>-</td>\n      <td>84</td>\n      <td>9.600</td>\n      <td>6.900</td>\n      <td>1.53</td>\n      <td>-</td>\n      <td>1</td>\n    </tr>\n    <tr>\n      <th>545</th>\n      <td>Libya</td>\n      <td>2021</td>\n      <td>6,735,277</td>\n      <td>5,455,170</td>\n      <td>1,280,107</td>\n      <td>-</td>\n      <td>72</td>\n      <td>17.828</td>\n      <td>6.018</td>\n      <td>2.462</td>\n      <td>9.2</td>\n      <td>1</td>\n    </tr>\n    <tr>\n      <th>585</th>\n      <td>Maldives</td>\n      <td>2021</td>\n      <td>521,457</td>\n      <td>214,329</td>\n      <td>307,128</td>\n      <td>-</td>\n      <td>80</td>\n      <td>14.088</td>\n      <td>3.020</td>\n      <td>1.692</td>\n      <td>5.1</td>\n      <td>1</td>\n    </tr>\n    <tr>\n      <th>1072</th>\n      <td>Zimbabwe</td>\n      <td>2021</td>\n      <td>15,993,524</td>\n      <td>5,166,388</td>\n      <td>10,827,136</td>\n      <td>-</td>\n      <td>59</td>\n      <td>30.537</td>\n      <td>9.057</td>\n      <td>3.491</td>\n      <td>35.7</td>\n      <td>2</td>\n    </tr>\n  </tbody>\n</table>\n<p>864 rows × 12 columns</p>\n</div>"
     },
     "execution_count": 13,
     "metadata": {},
     "output_type": "execute_result"
    }
   ],
   "source": [
    "df_with_total_population_data.sort_values(by='Year', ascending=True)"
   ],
   "metadata": {
    "collapsed": false,
    "ExecuteTime": {
     "end_time": "2023-10-03T09:46:26.295689700Z",
     "start_time": "2023-10-03T09:46:26.245375200Z"
    }
   },
   "id": "3b6be1645ac4c76b"
  },
  {
   "cell_type": "markdown",
   "source": [
    "## 9. Выведите название страны, которая имеет максимальную численность населения"
   ],
   "metadata": {
    "collapsed": false
   },
   "id": "f10280b968d81d3e"
  },
  {
   "cell_type": "code",
   "execution_count": 43,
   "outputs": [
    {
     "name": "stdout",
     "output_type": "stream",
     "text": [
      "    Country  Total Population\n",
      "205   China        1412360000\n"
     ]
    }
   ],
   "source": [
    "max_population_country = df[df['Total Population'] == df['Total Population'].max()]\n",
    "\n",
    "print(max_population_country[['Country', 'Total Population']])\n",
    "\n",
    "# def convert_population(population_str):\n",
    "#     try:\n",
    "#         return int(population_str.replace(',', '').replace('-', '0'))\n",
    "#     except ValueError:\n",
    "#         return 0\n",
    "# \n",
    "# # Преобразование столбца \"Total Population\" в числовой формат\n",
    "# df['Total Population'] = df['Total Population'].map(convert_population)\n",
    "# \n",
    "# # Находим максимальное значение в столбце \"Total Population\"\n",
    "# max_population = df['Total Population'].max()\n",
    "# \n",
    "# # Фильтруем строки с максимальным населением\n",
    "# max_population_country = df[df['Total Population'] == max_population]\n",
    "# \n",
    "# # Выводим результат\n",
    "# print(\"Максимальное население:\", max_population)\n",
    "# print(max_population_country[['Country', 'Total Population']])"
   ],
   "metadata": {
    "collapsed": false,
    "ExecuteTime": {
     "end_time": "2023-10-03T10:27:38.417729Z",
     "start_time": "2023-10-03T10:27:38.342088700Z"
    }
   },
   "id": "df44fa3560fa49a0"
  },
  {
   "cell_type": "markdown",
   "source": [
    "## 10. Выведите название страны, которая имеет минимальную численность населения"
   ],
   "metadata": {
    "collapsed": false
   },
   "id": "e6bdb3590806917a"
  },
  {
   "cell_type": "code",
   "execution_count": 44,
   "outputs": [
    {
     "name": "stdout",
     "output_type": "stream",
     "text": [
      "    Country  Total Population\n",
      "994  Tuvalu             10865\n"
     ]
    }
   ],
   "source": [
    "min_population_country = df_with_total_population_data[df_with_total_population_data['Total Population'] == df_with_total_population_data['Total Population'].min()]\n",
    "\n",
    "print(min_population_country[['Country', 'Total Population']])"
   ],
   "metadata": {
    "collapsed": false,
    "ExecuteTime": {
     "end_time": "2023-10-03T10:28:18.734242100Z",
     "start_time": "2023-10-03T10:28:18.708150Z"
    }
   },
   "id": "b2f468c59220b0f7"
  },
  {
   "cell_type": "markdown",
   "source": [
    "## 11. Экспорт фрейма в MS Excel "
   ],
   "metadata": {
    "collapsed": false
   },
   "id": "b398f0e083ba763a"
  },
  {
   "cell_type": "code",
   "execution_count": 42,
   "outputs": [],
   "source": [
    "df_with_total_population_data.to_excel('population.xlsx', index=False)"
   ],
   "metadata": {
    "collapsed": false,
    "ExecuteTime": {
     "end_time": "2023-09-29T17:47:18.656962100Z",
     "start_time": "2023-09-29T17:47:17.411123100Z"
    }
   },
   "id": "4bc71d83fb9d4e0"
  }
 ],
 "metadata": {
  "kernelspec": {
   "display_name": "Python 3",
   "language": "python",
   "name": "python3"
  },
  "language_info": {
   "codemirror_mode": {
    "name": "ipython",
    "version": 2
   },
   "file_extension": ".py",
   "mimetype": "text/x-python",
   "name": "python",
   "nbconvert_exporter": "python",
   "pygments_lexer": "ipython2",
   "version": "2.7.6"
  }
 },
 "nbformat": 4,
 "nbformat_minor": 5
}
