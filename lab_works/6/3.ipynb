{
 "cells": [
  {
   "cell_type": "code",
   "execution_count": 1,
   "id": "initial_id",
   "metadata": {
    "collapsed": true,
    "ExecuteTime": {
     "end_time": "2023-12-18T08:29:06.961122600Z",
     "start_time": "2023-12-18T08:29:06.955851500Z"
    }
   },
   "outputs": [],
   "source": [
    "import pandas as pd\n",
    "import csv\n",
    "import random"
   ]
  },
  {
   "cell_type": "code",
   "execution_count": 2,
   "outputs": [],
   "source": [
    "rows = 500\n",
    "with open('data.csv', 'w') as f:\n",
    "    file = csv.writer(f)\n",
    "\n",
    "    file.writerow(['salary', 'city', 'age', 'vacation_prefer', 'transport_prefer', 'target'])\n",
    "   \n",
    "    for _ in range(rows):\n",
    "        salary = random.randint(30000, 100000)\n",
    "        city = random.choice(['Moscow', 'Ottava', 'Washington', 'Pekin', 'Brazilia', 'Canberra', 'Deli', 'Buenos-Aires', 'Astana'])\n",
    "        age = random.randint(30, 65)\n",
    "        vacation_prefer = random.choice(['Karaoke', 'Movie', 'Computer games', 'Sleeping', 'Sport', 'Reading', 'Walking', 'Cooking'])\n",
    "        transport_prefer = random.choice(['auto', 'plane', 'train', 'boat', 'cruise'])\n",
    "        target = random.choice(['Saint-Petersburg', 'Toronto', 'New York', 'Shanhai', 'Rio', 'Sydney', 'Mumbai', 'Rosario'])\n",
    "    \n",
    "        file.writerow([salary, city, age, vacation_prefer, transport_prefer, target])"
   ],
   "metadata": {
    "collapsed": false,
    "ExecuteTime": {
     "end_time": "2023-12-18T08:36:09.455592500Z",
     "start_time": "2023-12-18T08:36:09.418916Z"
    }
   },
   "id": "699abc56c952cbea"
  },
  {
   "cell_type": "code",
   "execution_count": 3,
   "outputs": [],
   "source": [
    "df = pd.read_csv('data.csv')\n",
    "data1 = df.copy(deep=True)"
   ],
   "metadata": {
    "collapsed": false,
    "ExecuteTime": {
     "end_time": "2023-12-18T08:37:02.587251500Z",
     "start_time": "2023-12-18T08:37:02.553959400Z"
    }
   },
   "id": "7f227f55dc20c3ae"
  },
  {
   "cell_type": "code",
   "execution_count": 4,
   "outputs": [
    {
     "data": {
      "text/plain": "salary              0\ncity                0\nage                 0\nvacation_prefer     0\ntransport_prefer    0\ntarget              0\ndtype: int64"
     },
     "execution_count": 4,
     "metadata": {},
     "output_type": "execute_result"
    }
   ],
   "source": [
    "df.isnull().sum()"
   ],
   "metadata": {
    "collapsed": false,
    "ExecuteTime": {
     "end_time": "2023-12-18T08:37:20.477003500Z",
     "start_time": "2023-12-18T08:37:20.452168Z"
    }
   },
   "id": "736cd5203ee604f8"
  },
  {
   "cell_type": "code",
   "execution_count": 5,
   "outputs": [
    {
     "name": "stdout",
     "output_type": "stream",
     "text": [
      "     salary        city  age vacation_prefer transport_prefer  \\\n",
      "0     60392        Deli   36           Sport             auto   \n",
      "1     43424      Moscow   61  Computer games           cruise   \n",
      "2     72363       Pekin   49         Reading             boat   \n",
      "3     63908      Moscow   32        Sleeping             auto   \n",
      "4     87977  Washington   39           Sport            train   \n",
      "..      ...         ...  ...             ...              ...   \n",
      "495   96842      Ottava   46         Walking            plane   \n",
      "496   59910      Ottava   46           Sport            train   \n",
      "497   41308  Washington   62         Reading             auto   \n",
      "498   76633      Astana   65         Karaoke             boat   \n",
      "499   40089        Deli   30         Karaoke           cruise   \n",
      "\n",
      "               target  salary  age  city_Brazilia  city_Buenos-Aires  ...  \\\n",
      "0              Mumbai   60392   36          False              False  ...   \n",
      "1             Shanhai   43424   61          False              False  ...   \n",
      "2    Saint-Petersburg   72363   49          False              False  ...   \n",
      "3             Rosario   63908   32          False              False  ...   \n",
      "4             Shanhai   87977   39          False              False  ...   \n",
      "..                ...     ...  ...            ...                ...  ...   \n",
      "495            Mumbai   96842   46          False              False  ...   \n",
      "496            Sydney   59910   46          False              False  ...   \n",
      "497            Mumbai   41308   62          False              False  ...   \n",
      "498            Sydney   76633   65          False              False  ...   \n",
      "499           Rosario   40089   30          False              False  ...   \n",
      "\n",
      "     transport_prefer_cruise  transport_prefer_plane  transport_prefer_train  \\\n",
      "0                      False                   False                   False   \n",
      "1                       True                   False                   False   \n",
      "2                      False                   False                   False   \n",
      "3                      False                   False                   False   \n",
      "4                      False                   False                    True   \n",
      "..                       ...                     ...                     ...   \n",
      "495                    False                    True                   False   \n",
      "496                    False                   False                    True   \n",
      "497                    False                   False                   False   \n",
      "498                    False                   False                   False   \n",
      "499                     True                   False                   False   \n",
      "\n",
      "     target_New York  target_Rio  target_Rosario  target_Saint-Petersburg  \\\n",
      "0              False       False           False                    False   \n",
      "1              False       False           False                    False   \n",
      "2              False       False           False                     True   \n",
      "3              False       False            True                    False   \n",
      "4              False       False           False                    False   \n",
      "..               ...         ...             ...                      ...   \n",
      "495            False       False           False                    False   \n",
      "496            False       False           False                    False   \n",
      "497            False       False           False                    False   \n",
      "498            False       False           False                    False   \n",
      "499            False       False            True                    False   \n",
      "\n",
      "     target_Shanhai  target_Sydney  target_Toronto  \n",
      "0             False          False           False  \n",
      "1              True          False           False  \n",
      "2             False          False           False  \n",
      "3             False          False           False  \n",
      "4              True          False           False  \n",
      "..              ...            ...             ...  \n",
      "495           False          False           False  \n",
      "496           False           True           False  \n",
      "497           False          False           False  \n",
      "498           False           True           False  \n",
      "499           False          False           False  \n",
      "\n",
      "[500 rows x 34 columns]\n"
     ]
    }
   ],
   "source": [
    "df_encoded = df.copy()\n",
    "dummies = pd.get_dummies(df_encoded, columns=['city', 'vacation_prefer', 'transport_prefer', 'target'],  drop_first=True)\n",
    "merged = pd.concat([df_encoded, dummies], axis='columns')\n",
    "merged.drop(['city', 'vacation_prefer', 'transport_prefer', 'target'], axis='columns')\n",
    "print(merged)"
   ],
   "metadata": {
    "collapsed": false,
    "ExecuteTime": {
     "end_time": "2023-12-18T08:37:43.276036100Z",
     "start_time": "2023-12-18T08:37:43.218117100Z"
    }
   },
   "id": "6687e7b07950724f"
  },
  {
   "cell_type": "code",
   "execution_count": 6,
   "outputs": [
    {
     "data": {
      "text/plain": "    salary  city  age  vacation_prefer  transport_prefer  target\n0    60392     4   36                6                 0       0\n1    43424     5   61                0                 2       5\n2    72363     7   49                4                 1       4\n3    63908     5   32                5                 0       3\n4    87977     8   39                6                 4       5\n5    80738     1   45                3                 1       3\n6    58235     4   48                0                 4       4\n7    85379     2   52                4                 4       7\n8    51357     2   65                3                 1       6\n9    99373     5   56                4                 1       2\n10   39874     5   58                2                 4       3\n11   88875     5   49                5                 1       7\n12   32564     3   41                5                 0       2\n13   38200     2   32                2                 4       1\n14   69881     7   37                5                 2       5\n15   88057     3   41                1                 0       7\n16   32499     8   43                6                 0       4\n17   91442     4   61                4                 3       5\n18   88387     8   44                6                 4       1\n19   75725     1   56                7                 4       4\n20   70050     0   46                0                 2       7\n21   40880     2   40                2                 0       4\n22   46253     0   43                0                 3       5\n23   53344     5   54                2                 3       2\n24   68580     5   49                6                 4       6\n25   38802     8   45                0                 3       5\n26   33613     5   46                3                 2       2\n27   58515     1   48                3                 1       3\n28   89502     1   44                5                 0       0\n29   97171     2   48                7                 0       5\n30   38883     2   55                3                 3       6\n31   40563     3   39                3                 0       3\n32   45296     8   33                4                 3       7\n33   56332     3   65                7                 0       0\n34   53621     1   51                4                 0       2\n35   69697     0   56                7                 3       5\n36   94798     1   33                1                 2       2\n37   33713     2   38                5                 4       0\n38   60256     7   52                4                 1       5\n39   46482     1   59                5                 0       4\n40   31737     4   63                2                 3       7\n41   31440     7   57                0                 2       5\n42   81041     0   45                1                 3       2\n43   79421     2   41                2                 3       1\n44   70561     1   61                2                 3       4\n45   63904     0   35                3                 0       0\n46   64466     7   48                6                 4       0\n47   78941     8   36                6                 0       2\n48   82945     7   30                0                 0       1\n49   83136     6   47                1                 4       7",
      "text/html": "<div>\n<style scoped>\n    .dataframe tbody tr th:only-of-type {\n        vertical-align: middle;\n    }\n\n    .dataframe tbody tr th {\n        vertical-align: top;\n    }\n\n    .dataframe thead th {\n        text-align: right;\n    }\n</style>\n<table border=\"1\" class=\"dataframe\">\n  <thead>\n    <tr style=\"text-align: right;\">\n      <th></th>\n      <th>salary</th>\n      <th>city</th>\n      <th>age</th>\n      <th>vacation_prefer</th>\n      <th>transport_prefer</th>\n      <th>target</th>\n    </tr>\n  </thead>\n  <tbody>\n    <tr>\n      <th>0</th>\n      <td>60392</td>\n      <td>4</td>\n      <td>36</td>\n      <td>6</td>\n      <td>0</td>\n      <td>0</td>\n    </tr>\n    <tr>\n      <th>1</th>\n      <td>43424</td>\n      <td>5</td>\n      <td>61</td>\n      <td>0</td>\n      <td>2</td>\n      <td>5</td>\n    </tr>\n    <tr>\n      <th>2</th>\n      <td>72363</td>\n      <td>7</td>\n      <td>49</td>\n      <td>4</td>\n      <td>1</td>\n      <td>4</td>\n    </tr>\n    <tr>\n      <th>3</th>\n      <td>63908</td>\n      <td>5</td>\n      <td>32</td>\n      <td>5</td>\n      <td>0</td>\n      <td>3</td>\n    </tr>\n    <tr>\n      <th>4</th>\n      <td>87977</td>\n      <td>8</td>\n      <td>39</td>\n      <td>6</td>\n      <td>4</td>\n      <td>5</td>\n    </tr>\n    <tr>\n      <th>5</th>\n      <td>80738</td>\n      <td>1</td>\n      <td>45</td>\n      <td>3</td>\n      <td>1</td>\n      <td>3</td>\n    </tr>\n    <tr>\n      <th>6</th>\n      <td>58235</td>\n      <td>4</td>\n      <td>48</td>\n      <td>0</td>\n      <td>4</td>\n      <td>4</td>\n    </tr>\n    <tr>\n      <th>7</th>\n      <td>85379</td>\n      <td>2</td>\n      <td>52</td>\n      <td>4</td>\n      <td>4</td>\n      <td>7</td>\n    </tr>\n    <tr>\n      <th>8</th>\n      <td>51357</td>\n      <td>2</td>\n      <td>65</td>\n      <td>3</td>\n      <td>1</td>\n      <td>6</td>\n    </tr>\n    <tr>\n      <th>9</th>\n      <td>99373</td>\n      <td>5</td>\n      <td>56</td>\n      <td>4</td>\n      <td>1</td>\n      <td>2</td>\n    </tr>\n    <tr>\n      <th>10</th>\n      <td>39874</td>\n      <td>5</td>\n      <td>58</td>\n      <td>2</td>\n      <td>4</td>\n      <td>3</td>\n    </tr>\n    <tr>\n      <th>11</th>\n      <td>88875</td>\n      <td>5</td>\n      <td>49</td>\n      <td>5</td>\n      <td>1</td>\n      <td>7</td>\n    </tr>\n    <tr>\n      <th>12</th>\n      <td>32564</td>\n      <td>3</td>\n      <td>41</td>\n      <td>5</td>\n      <td>0</td>\n      <td>2</td>\n    </tr>\n    <tr>\n      <th>13</th>\n      <td>38200</td>\n      <td>2</td>\n      <td>32</td>\n      <td>2</td>\n      <td>4</td>\n      <td>1</td>\n    </tr>\n    <tr>\n      <th>14</th>\n      <td>69881</td>\n      <td>7</td>\n      <td>37</td>\n      <td>5</td>\n      <td>2</td>\n      <td>5</td>\n    </tr>\n    <tr>\n      <th>15</th>\n      <td>88057</td>\n      <td>3</td>\n      <td>41</td>\n      <td>1</td>\n      <td>0</td>\n      <td>7</td>\n    </tr>\n    <tr>\n      <th>16</th>\n      <td>32499</td>\n      <td>8</td>\n      <td>43</td>\n      <td>6</td>\n      <td>0</td>\n      <td>4</td>\n    </tr>\n    <tr>\n      <th>17</th>\n      <td>91442</td>\n      <td>4</td>\n      <td>61</td>\n      <td>4</td>\n      <td>3</td>\n      <td>5</td>\n    </tr>\n    <tr>\n      <th>18</th>\n      <td>88387</td>\n      <td>8</td>\n      <td>44</td>\n      <td>6</td>\n      <td>4</td>\n      <td>1</td>\n    </tr>\n    <tr>\n      <th>19</th>\n      <td>75725</td>\n      <td>1</td>\n      <td>56</td>\n      <td>7</td>\n      <td>4</td>\n      <td>4</td>\n    </tr>\n    <tr>\n      <th>20</th>\n      <td>70050</td>\n      <td>0</td>\n      <td>46</td>\n      <td>0</td>\n      <td>2</td>\n      <td>7</td>\n    </tr>\n    <tr>\n      <th>21</th>\n      <td>40880</td>\n      <td>2</td>\n      <td>40</td>\n      <td>2</td>\n      <td>0</td>\n      <td>4</td>\n    </tr>\n    <tr>\n      <th>22</th>\n      <td>46253</td>\n      <td>0</td>\n      <td>43</td>\n      <td>0</td>\n      <td>3</td>\n      <td>5</td>\n    </tr>\n    <tr>\n      <th>23</th>\n      <td>53344</td>\n      <td>5</td>\n      <td>54</td>\n      <td>2</td>\n      <td>3</td>\n      <td>2</td>\n    </tr>\n    <tr>\n      <th>24</th>\n      <td>68580</td>\n      <td>5</td>\n      <td>49</td>\n      <td>6</td>\n      <td>4</td>\n      <td>6</td>\n    </tr>\n    <tr>\n      <th>25</th>\n      <td>38802</td>\n      <td>8</td>\n      <td>45</td>\n      <td>0</td>\n      <td>3</td>\n      <td>5</td>\n    </tr>\n    <tr>\n      <th>26</th>\n      <td>33613</td>\n      <td>5</td>\n      <td>46</td>\n      <td>3</td>\n      <td>2</td>\n      <td>2</td>\n    </tr>\n    <tr>\n      <th>27</th>\n      <td>58515</td>\n      <td>1</td>\n      <td>48</td>\n      <td>3</td>\n      <td>1</td>\n      <td>3</td>\n    </tr>\n    <tr>\n      <th>28</th>\n      <td>89502</td>\n      <td>1</td>\n      <td>44</td>\n      <td>5</td>\n      <td>0</td>\n      <td>0</td>\n    </tr>\n    <tr>\n      <th>29</th>\n      <td>97171</td>\n      <td>2</td>\n      <td>48</td>\n      <td>7</td>\n      <td>0</td>\n      <td>5</td>\n    </tr>\n    <tr>\n      <th>30</th>\n      <td>38883</td>\n      <td>2</td>\n      <td>55</td>\n      <td>3</td>\n      <td>3</td>\n      <td>6</td>\n    </tr>\n    <tr>\n      <th>31</th>\n      <td>40563</td>\n      <td>3</td>\n      <td>39</td>\n      <td>3</td>\n      <td>0</td>\n      <td>3</td>\n    </tr>\n    <tr>\n      <th>32</th>\n      <td>45296</td>\n      <td>8</td>\n      <td>33</td>\n      <td>4</td>\n      <td>3</td>\n      <td>7</td>\n    </tr>\n    <tr>\n      <th>33</th>\n      <td>56332</td>\n      <td>3</td>\n      <td>65</td>\n      <td>7</td>\n      <td>0</td>\n      <td>0</td>\n    </tr>\n    <tr>\n      <th>34</th>\n      <td>53621</td>\n      <td>1</td>\n      <td>51</td>\n      <td>4</td>\n      <td>0</td>\n      <td>2</td>\n    </tr>\n    <tr>\n      <th>35</th>\n      <td>69697</td>\n      <td>0</td>\n      <td>56</td>\n      <td>7</td>\n      <td>3</td>\n      <td>5</td>\n    </tr>\n    <tr>\n      <th>36</th>\n      <td>94798</td>\n      <td>1</td>\n      <td>33</td>\n      <td>1</td>\n      <td>2</td>\n      <td>2</td>\n    </tr>\n    <tr>\n      <th>37</th>\n      <td>33713</td>\n      <td>2</td>\n      <td>38</td>\n      <td>5</td>\n      <td>4</td>\n      <td>0</td>\n    </tr>\n    <tr>\n      <th>38</th>\n      <td>60256</td>\n      <td>7</td>\n      <td>52</td>\n      <td>4</td>\n      <td>1</td>\n      <td>5</td>\n    </tr>\n    <tr>\n      <th>39</th>\n      <td>46482</td>\n      <td>1</td>\n      <td>59</td>\n      <td>5</td>\n      <td>0</td>\n      <td>4</td>\n    </tr>\n    <tr>\n      <th>40</th>\n      <td>31737</td>\n      <td>4</td>\n      <td>63</td>\n      <td>2</td>\n      <td>3</td>\n      <td>7</td>\n    </tr>\n    <tr>\n      <th>41</th>\n      <td>31440</td>\n      <td>7</td>\n      <td>57</td>\n      <td>0</td>\n      <td>2</td>\n      <td>5</td>\n    </tr>\n    <tr>\n      <th>42</th>\n      <td>81041</td>\n      <td>0</td>\n      <td>45</td>\n      <td>1</td>\n      <td>3</td>\n      <td>2</td>\n    </tr>\n    <tr>\n      <th>43</th>\n      <td>79421</td>\n      <td>2</td>\n      <td>41</td>\n      <td>2</td>\n      <td>3</td>\n      <td>1</td>\n    </tr>\n    <tr>\n      <th>44</th>\n      <td>70561</td>\n      <td>1</td>\n      <td>61</td>\n      <td>2</td>\n      <td>3</td>\n      <td>4</td>\n    </tr>\n    <tr>\n      <th>45</th>\n      <td>63904</td>\n      <td>0</td>\n      <td>35</td>\n      <td>3</td>\n      <td>0</td>\n      <td>0</td>\n    </tr>\n    <tr>\n      <th>46</th>\n      <td>64466</td>\n      <td>7</td>\n      <td>48</td>\n      <td>6</td>\n      <td>4</td>\n      <td>0</td>\n    </tr>\n    <tr>\n      <th>47</th>\n      <td>78941</td>\n      <td>8</td>\n      <td>36</td>\n      <td>6</td>\n      <td>0</td>\n      <td>2</td>\n    </tr>\n    <tr>\n      <th>48</th>\n      <td>82945</td>\n      <td>7</td>\n      <td>30</td>\n      <td>0</td>\n      <td>0</td>\n      <td>1</td>\n    </tr>\n    <tr>\n      <th>49</th>\n      <td>83136</td>\n      <td>6</td>\n      <td>47</td>\n      <td>1</td>\n      <td>4</td>\n      <td>7</td>\n    </tr>\n  </tbody>\n</table>\n</div>"
     },
     "execution_count": 6,
     "metadata": {},
     "output_type": "execute_result"
    }
   ],
   "source": [
    "from sklearn.preprocessing import LabelEncoder\n",
    "label_encoder = LabelEncoder()\n",
    "\n",
    "for column in ['city', 'vacation_prefer', 'transport_prefer', 'target']:\n",
    "    df[column] = label_encoder.fit_transform(df[column])\n",
    "\n",
    "df.head(50)"
   ],
   "metadata": {
    "collapsed": false,
    "ExecuteTime": {
     "end_time": "2023-12-18T08:37:59.163382600Z",
     "start_time": "2023-12-18T08:37:58.902254800Z"
    }
   },
   "id": "9adc8e8b44178986"
  },
  {
   "cell_type": "code",
   "execution_count": 7,
   "outputs": [
    {
     "name": "stdout",
     "output_type": "stream",
     "text": [
      "Размер обучающей выборки: (400, 5)\n",
      "Размер тестовой выборки: (100, 5)\n"
     ]
    }
   ],
   "source": [
    "from sklearn.model_selection import train_test_split\n",
    "\n",
    "X = df.drop('target', axis=1)\n",
    "y = df['target'].values\n",
    "\n",
    "X_train, X_test, y_train, y_test = train_test_split(X, y, test_size=0.2, random_state=42)\n",
    "\n",
    "print(f\"Размер обучающей выборки: {X_train.shape}\")\n",
    "print(f\"Размер тестовой выборки: {X_test.shape}\")"
   ],
   "metadata": {
    "collapsed": false,
    "ExecuteTime": {
     "end_time": "2023-12-18T08:38:21.903167100Z",
     "start_time": "2023-12-18T08:38:21.719997100Z"
    }
   },
   "id": "88bb6aff1310597a"
  },
  {
   "cell_type": "code",
   "execution_count": 8,
   "outputs": [
    {
     "data": {
      "text/plain": "LogisticRegression(C=0.01, random_state=42)",
      "text/html": "<style>#sk-container-id-1 {color: black;}#sk-container-id-1 pre{padding: 0;}#sk-container-id-1 div.sk-toggleable {background-color: white;}#sk-container-id-1 label.sk-toggleable__label {cursor: pointer;display: block;width: 100%;margin-bottom: 0;padding: 0.3em;box-sizing: border-box;text-align: center;}#sk-container-id-1 label.sk-toggleable__label-arrow:before {content: \"▸\";float: left;margin-right: 0.25em;color: #696969;}#sk-container-id-1 label.sk-toggleable__label-arrow:hover:before {color: black;}#sk-container-id-1 div.sk-estimator:hover label.sk-toggleable__label-arrow:before {color: black;}#sk-container-id-1 div.sk-toggleable__content {max-height: 0;max-width: 0;overflow: hidden;text-align: left;background-color: #f0f8ff;}#sk-container-id-1 div.sk-toggleable__content pre {margin: 0.2em;color: black;border-radius: 0.25em;background-color: #f0f8ff;}#sk-container-id-1 input.sk-toggleable__control:checked~div.sk-toggleable__content {max-height: 200px;max-width: 100%;overflow: auto;}#sk-container-id-1 input.sk-toggleable__control:checked~label.sk-toggleable__label-arrow:before {content: \"▾\";}#sk-container-id-1 div.sk-estimator input.sk-toggleable__control:checked~label.sk-toggleable__label {background-color: #d4ebff;}#sk-container-id-1 div.sk-label input.sk-toggleable__control:checked~label.sk-toggleable__label {background-color: #d4ebff;}#sk-container-id-1 input.sk-hidden--visually {border: 0;clip: rect(1px 1px 1px 1px);clip: rect(1px, 1px, 1px, 1px);height: 1px;margin: -1px;overflow: hidden;padding: 0;position: absolute;width: 1px;}#sk-container-id-1 div.sk-estimator {font-family: monospace;background-color: #f0f8ff;border: 1px dotted black;border-radius: 0.25em;box-sizing: border-box;margin-bottom: 0.5em;}#sk-container-id-1 div.sk-estimator:hover {background-color: #d4ebff;}#sk-container-id-1 div.sk-parallel-item::after {content: \"\";width: 100%;border-bottom: 1px solid gray;flex-grow: 1;}#sk-container-id-1 div.sk-label:hover label.sk-toggleable__label {background-color: #d4ebff;}#sk-container-id-1 div.sk-serial::before {content: \"\";position: absolute;border-left: 1px solid gray;box-sizing: border-box;top: 0;bottom: 0;left: 50%;z-index: 0;}#sk-container-id-1 div.sk-serial {display: flex;flex-direction: column;align-items: center;background-color: white;padding-right: 0.2em;padding-left: 0.2em;position: relative;}#sk-container-id-1 div.sk-item {position: relative;z-index: 1;}#sk-container-id-1 div.sk-parallel {display: flex;align-items: stretch;justify-content: center;background-color: white;position: relative;}#sk-container-id-1 div.sk-item::before, #sk-container-id-1 div.sk-parallel-item::before {content: \"\";position: absolute;border-left: 1px solid gray;box-sizing: border-box;top: 0;bottom: 0;left: 50%;z-index: -1;}#sk-container-id-1 div.sk-parallel-item {display: flex;flex-direction: column;z-index: 1;position: relative;background-color: white;}#sk-container-id-1 div.sk-parallel-item:first-child::after {align-self: flex-end;width: 50%;}#sk-container-id-1 div.sk-parallel-item:last-child::after {align-self: flex-start;width: 50%;}#sk-container-id-1 div.sk-parallel-item:only-child::after {width: 0;}#sk-container-id-1 div.sk-dashed-wrapped {border: 1px dashed gray;margin: 0 0.4em 0.5em 0.4em;box-sizing: border-box;padding-bottom: 0.4em;background-color: white;}#sk-container-id-1 div.sk-label label {font-family: monospace;font-weight: bold;display: inline-block;line-height: 1.2em;}#sk-container-id-1 div.sk-label-container {text-align: center;}#sk-container-id-1 div.sk-container {/* jupyter's `normalize.less` sets `[hidden] { display: none; }` but bootstrap.min.css set `[hidden] { display: none !important; }` so we also need the `!important` here to be able to override the default hidden behavior on the sphinx rendered scikit-learn.org. See: https://github.com/scikit-learn/scikit-learn/issues/21755 */display: inline-block !important;position: relative;}#sk-container-id-1 div.sk-text-repr-fallback {display: none;}</style><div id=\"sk-container-id-1\" class=\"sk-top-container\"><div class=\"sk-text-repr-fallback\"><pre>LogisticRegression(C=0.01, random_state=42)</pre><b>In a Jupyter environment, please rerun this cell to show the HTML representation or trust the notebook. <br />On GitHub, the HTML representation is unable to render, please try loading this page with nbviewer.org.</b></div><div class=\"sk-container\" hidden><div class=\"sk-item\"><div class=\"sk-estimator sk-toggleable\"><input class=\"sk-toggleable__control sk-hidden--visually\" id=\"sk-estimator-id-1\" type=\"checkbox\" checked><label for=\"sk-estimator-id-1\" class=\"sk-toggleable__label sk-toggleable__label-arrow\">LogisticRegression</label><div class=\"sk-toggleable__content\"><pre>LogisticRegression(C=0.01, random_state=42)</pre></div></div></div></div></div>"
     },
     "execution_count": 8,
     "metadata": {},
     "output_type": "execute_result"
    }
   ],
   "source": [
    "from sklearn.linear_model import LogisticRegression\n",
    "\n",
    "logreg = LogisticRegression(C=0.01, random_state=42)\n",
    "logreg.fit(X_train, y_train)"
   ],
   "metadata": {
    "collapsed": false,
    "ExecuteTime": {
     "end_time": "2023-12-18T08:38:37.088433Z",
     "start_time": "2023-12-18T08:38:36.954360300Z"
    }
   },
   "id": "522b83297d3d8d03"
  },
  {
   "cell_type": "code",
   "execution_count": 9,
   "outputs": [
    {
     "name": "stdout",
     "output_type": "stream",
     "text": [
      "Training set score: 0.158\n",
      "Test set score: 0.070\n"
     ]
    }
   ],
   "source": [
    "print('Training set score: {:.3f}'.format(logreg.score(X_train, y_train)))\n",
    "print('Test set score: {:.3f}'.format(logreg.score(X_test, y_test)))"
   ],
   "metadata": {
    "collapsed": false,
    "ExecuteTime": {
     "end_time": "2023-12-18T08:38:46.554449200Z",
     "start_time": "2023-12-18T08:38:46.510072700Z"
    }
   },
   "id": "b45db26144d467b9"
  },
  {
   "cell_type": "code",
   "execution_count": 10,
   "outputs": [
    {
     "name": "stdout",
     "output_type": "stream",
     "text": [
      "Accuracy on Test Data: 0.07\n"
     ]
    }
   ],
   "source": [
    "from sklearn.metrics import accuracy_score, confusion_matrix\n",
    "\n",
    "y_pred = logreg.predict(X_test)\n",
    "accuracy = accuracy_score(y_test, y_pred)\n",
    "print('Accuracy on Test Data: {:.2f}'.format(accuracy))"
   ],
   "metadata": {
    "collapsed": false,
    "ExecuteTime": {
     "end_time": "2023-12-18T08:38:56.862476600Z",
     "start_time": "2023-12-18T08:38:56.835251200Z"
    }
   },
   "id": "c4fece75d33085c3"
  },
  {
   "cell_type": "code",
   "execution_count": 11,
   "outputs": [
    {
     "data": {
      "text/plain": "<Figure size 800x600 with 1 Axes>",
      "image/png": "[encoded data removed]"
     },
     "metadata": {},
     "output_type": "display_data"
    }
   ],
   "source": [
    "from matplotlib import pyplot as plt\n",
    "import seaborn as sns\n",
    "\n",
    "cm = confusion_matrix(y_test, y_pred)\n",
    "plt.figure(figsize=(8, 6))\n",
    "sns.heatmap(cm, annot=True, fmt='d', cmap='Blues', cbar=False)\n",
    "plt.title('Матрица ошибок (Confusion Matrix)')\n",
    "plt.xlabel('Предсказанные значения')\n",
    "plt.ylabel('Фактические значения')\n",
    "plt.show()"
   ],
   "metadata": {
    "collapsed": false,
    "ExecuteTime": {
     "end_time": "2023-12-18T08:39:11.320430500Z",
     "start_time": "2023-12-18T08:39:10.056146200Z"
    }
   },
   "id": "510316c1ae6ce565"
  },
  {
   "cell_type": "code",
   "execution_count": 12,
   "outputs": [
    {
     "name": "stdout",
     "output_type": "stream",
     "text": [
      "Средняя точность модели: 0.140\n"
     ]
    }
   ],
   "source": [
    "from sklearn.model_selection import cross_val_score\n",
    "\n",
    "scores = cross_val_score(logreg, X, y, cv=5, scoring='accuracy')\n",
    "print('Средняя точность модели: {:.3f}'.format(scores.mean()))"
   ],
   "metadata": {
    "collapsed": false,
    "ExecuteTime": {
     "end_time": "2023-12-18T08:39:24.400575100Z",
     "start_time": "2023-12-18T08:39:24.306314100Z"
    }
   },
   "id": "40b1266a2346b547"
  },
  {
   "cell_type": "code",
   "execution_count": 13,
   "outputs": [
    {
     "name": "stdout",
     "output_type": "stream",
     "text": [
      "Значения правильности перекрестной проверки: \n",
      "[0.1  0.11 0.06 0.08 0.08]\n",
      "Значения правильности перекрестной проверки: \n",
      "[0.11377246 0.08383234 0.08433735]\n"
     ]
    }
   ],
   "source": [
    "from sklearn.model_selection import KFold\n",
    "\n",
    "kfold = KFold(n_splits=5)\n",
    "print(\"Значения правильности перекрестной проверки: \\n{}\".format(cross_val_score(logreg, X, y, cv=kfold)))\n",
    "kfold3 = KFold(n_splits=3)\n",
    "print(\"Значения правильности перекрестной проверки: \\n{}\".format(cross_val_score(logreg, X, y, cv=kfold3)))"
   ],
   "metadata": {
    "collapsed": false,
    "ExecuteTime": {
     "end_time": "2023-12-18T08:39:36.031027Z",
     "start_time": "2023-12-18T08:39:35.888281500Z"
    }
   },
   "id": "cb85ea08d9c71030"
  },
  {
   "cell_type": "code",
   "execution_count": 14,
   "outputs": [],
   "source": [
    "from sklearn.model_selection import train_test_split\n",
    "from sklearn.preprocessing import MinMaxScaler\n",
    "from sklearn.svm import SVC\n",
    "from sklearn.metrics import accuracy_score"
   ],
   "metadata": {
    "collapsed": false,
    "ExecuteTime": {
     "end_time": "2023-12-18T08:39:47.078626700Z",
     "start_time": "2023-12-18T08:39:47.030942300Z"
    }
   },
   "id": "aea946aa68661461"
  },
  {
   "cell_type": "code",
   "execution_count": 15,
   "outputs": [
    {
     "name": "stdout",
     "output_type": "stream",
     "text": [
      "model accuracy: 0.08\n"
     ]
    }
   ],
   "source": [
    "X = df.drop('target', axis=1)\n",
    "y = df['target']\n",
    "\n",
    "scaler = MinMaxScaler()\n",
    "X_scaled = scaler.fit_transform(X)\n",
    "\n",
    "X_train, X_test, y_train, y_test = train_test_split(X_scaled, y, random_state=0)\n",
    "\n",
    "svm = SVC()\n",
    "svm.fit(X_train, y_train)\n",
    "\n",
    "y_pred = svm.predict(X_test)\n",
    "\n",
    "accuracy = accuracy_score(y_test, y_pred)\n",
    "print('model accuracy:', accuracy)"
   ],
   "metadata": {
    "collapsed": false,
    "ExecuteTime": {
     "end_time": "2023-12-18T08:40:01.977885200Z",
     "start_time": "2023-12-18T08:40:01.917545400Z"
    }
   },
   "id": "ee8d876996fbc80e"
  },
  {
   "cell_type": "code",
   "execution_count": 16,
   "outputs": [
    {
     "name": "stdout",
     "output_type": "stream",
     "text": [
      "[[0 0 4 3 1 1 2 1]\n",
      " [1 2 4 4 5 0 1 1]\n",
      " [3 0 4 0 2 2 2 3]\n",
      " [2 2 9 2 2 1 0 2]\n",
      " [2 2 6 3 2 0 0 2]\n",
      " [1 1 4 2 3 0 0 1]\n",
      " [1 2 6 0 2 2 0 1]\n",
      " [1 0 7 3 2 2 1 0]]\n"
     ]
    },
    {
     "data": {
      "text/plain": "<Figure size 640x480 with 2 Axes>",
      "image/png": "[encoded data removed]"
     },
     "metadata": {},
     "output_type": "display_data"
    }
   ],
   "source": [
    "from sklearn.metrics import confusion_matrix\n",
    "import seaborn as sns\n",
    "import matplotlib.pyplot as plt\n",
    "\n",
    "confusion = confusion_matrix(y_test, y_pred)\n",
    "print(confusion)\n",
    "\n",
    "sns.heatmap(confusion, annot=True)\n",
    "\n",
    "plt.xlabel('predicted')\n",
    "plt.ylabel('actual')\n",
    "plt.show()"
   ],
   "metadata": {
    "collapsed": false,
    "ExecuteTime": {
     "end_time": "2023-12-18T08:40:10.198059700Z",
     "start_time": "2023-12-18T08:40:09.014888100Z"
    }
   },
   "id": "e8a2156d907ac401"
  },
  {
   "cell_type": "code",
   "execution_count": 17,
   "outputs": [
    {
     "name": "stdout",
     "output_type": "stream",
     "text": [
      "best SVM score: 0.152\n",
      "best parameters: {'gamma': 0.01, 'C': 100}\n"
     ]
    }
   ],
   "source": [
    "from sklearn.svm import SVC\n",
    "\n",
    "best_svc = 0\n",
    "for gamma in [0.001, 0.01, 0.1, 1, 10, 100]:\n",
    "    for C in [0.001, 0.01, 0.1, 1, 10, 100]:\n",
    "        svm = SVC(gamma=gamma, C=C)\n",
    "        svm.fit(X_train, y_train)\n",
    "        s_score = svm.score(X_test, y_test)\n",
    "\n",
    "        if s_score > best_svc:\n",
    "            best_svc = s_score\n",
    "            best_combo = {'gamma': gamma, 'C': C}\n",
    "\n",
    "print('best SVM score: {}'.format(best_svc))\n",
    "print('best parameters: {}'.format(best_combo))"
   ],
   "metadata": {
    "collapsed": false,
    "ExecuteTime": {
     "end_time": "2023-12-18T08:40:20.859406600Z",
     "start_time": "2023-12-18T08:40:18.496754200Z"
    }
   },
   "id": "e1ae575e43a8998d"
  },
  {
   "cell_type": "code",
   "execution_count": 18,
   "outputs": [
    {
     "name": "stdout",
     "output_type": "stream",
     "text": [
      "test score: 0.12\n",
      "best params:  {'C': 1, 'gamma': 0.001}\n",
      "best score:  0.16533333333333336\n",
      "whole args view : SVC(C=1, gamma=0.001)\n"
     ]
    },
    {
     "data": {
      "text/plain": "   mean_fit_time  std_fit_time  mean_score_time  std_score_time param_C  \\\n0       0.028984      0.005246         0.009339        0.000659   0.001   \n1       0.028560      0.005473         0.015411        0.011512   0.001   \n2       0.049994      0.010660         0.019022        0.008683   0.001   \n3       0.034701      0.006272         0.011515        0.001548   0.001   \n4       0.040327      0.002773         0.018738        0.009969   0.001   \n\n  param_gamma                        params  split0_test_score  \\\n0       0.001  {'C': 0.001, 'gamma': 0.001}           0.146667   \n1        0.01   {'C': 0.001, 'gamma': 0.01}           0.146667   \n2         0.1    {'C': 0.001, 'gamma': 0.1}           0.146667   \n3           1      {'C': 0.001, 'gamma': 1}           0.146667   \n4          10     {'C': 0.001, 'gamma': 10}           0.146667   \n\n   split1_test_score  split2_test_score  split3_test_score  split4_test_score  \\\n0           0.146667           0.146667           0.133333           0.146667   \n1           0.146667           0.146667           0.133333           0.146667   \n2           0.146667           0.146667           0.133333           0.146667   \n3           0.146667           0.146667           0.133333           0.146667   \n4           0.146667           0.146667           0.133333           0.146667   \n\n   mean_test_score  std_test_score  rank_test_score  \n0            0.144        0.005333                7  \n1            0.144        0.005333                7  \n2            0.144        0.005333                7  \n3            0.144        0.005333                7  \n4            0.144        0.005333                7  ",
      "text/html": "<div>\n<style scoped>\n    .dataframe tbody tr th:only-of-type {\n        vertical-align: middle;\n    }\n\n    .dataframe tbody tr th {\n        vertical-align: top;\n    }\n\n    .dataframe thead th {\n        text-align: right;\n    }\n</style>\n<table border=\"1\" class=\"dataframe\">\n  <thead>\n    <tr style=\"text-align: right;\">\n      <th></th>\n      <th>mean_fit_time</th>\n      <th>std_fit_time</th>\n      <th>mean_score_time</th>\n      <th>std_score_time</th>\n      <th>param_C</th>\n      <th>param_gamma</th>\n      <th>params</th>\n      <th>split0_test_score</th>\n      <th>split1_test_score</th>\n      <th>split2_test_score</th>\n      <th>split3_test_score</th>\n      <th>split4_test_score</th>\n      <th>mean_test_score</th>\n      <th>std_test_score</th>\n      <th>rank_test_score</th>\n    </tr>\n  </thead>\n  <tbody>\n    <tr>\n      <th>0</th>\n      <td>0.028984</td>\n      <td>0.005246</td>\n      <td>0.009339</td>\n      <td>0.000659</td>\n      <td>0.001</td>\n      <td>0.001</td>\n      <td>{'C': 0.001, 'gamma': 0.001}</td>\n      <td>0.146667</td>\n      <td>0.146667</td>\n      <td>0.146667</td>\n      <td>0.133333</td>\n      <td>0.146667</td>\n      <td>0.144</td>\n      <td>0.005333</td>\n      <td>7</td>\n    </tr>\n    <tr>\n      <th>1</th>\n      <td>0.028560</td>\n      <td>0.005473</td>\n      <td>0.015411</td>\n      <td>0.011512</td>\n      <td>0.001</td>\n      <td>0.01</td>\n      <td>{'C': 0.001, 'gamma': 0.01}</td>\n      <td>0.146667</td>\n      <td>0.146667</td>\n      <td>0.146667</td>\n      <td>0.133333</td>\n      <td>0.146667</td>\n      <td>0.144</td>\n      <td>0.005333</td>\n      <td>7</td>\n    </tr>\n    <tr>\n      <th>2</th>\n      <td>0.049994</td>\n      <td>0.010660</td>\n      <td>0.019022</td>\n      <td>0.008683</td>\n      <td>0.001</td>\n      <td>0.1</td>\n      <td>{'C': 0.001, 'gamma': 0.1}</td>\n      <td>0.146667</td>\n      <td>0.146667</td>\n      <td>0.146667</td>\n      <td>0.133333</td>\n      <td>0.146667</td>\n      <td>0.144</td>\n      <td>0.005333</td>\n      <td>7</td>\n    </tr>\n    <tr>\n      <th>3</th>\n      <td>0.034701</td>\n      <td>0.006272</td>\n      <td>0.011515</td>\n      <td>0.001548</td>\n      <td>0.001</td>\n      <td>1</td>\n      <td>{'C': 0.001, 'gamma': 1}</td>\n      <td>0.146667</td>\n      <td>0.146667</td>\n      <td>0.146667</td>\n      <td>0.133333</td>\n      <td>0.146667</td>\n      <td>0.144</td>\n      <td>0.005333</td>\n      <td>7</td>\n    </tr>\n    <tr>\n      <th>4</th>\n      <td>0.040327</td>\n      <td>0.002773</td>\n      <td>0.018738</td>\n      <td>0.009969</td>\n      <td>0.001</td>\n      <td>10</td>\n      <td>{'C': 0.001, 'gamma': 10}</td>\n      <td>0.146667</td>\n      <td>0.146667</td>\n      <td>0.146667</td>\n      <td>0.133333</td>\n      <td>0.146667</td>\n      <td>0.144</td>\n      <td>0.005333</td>\n      <td>7</td>\n    </tr>\n  </tbody>\n</table>\n</div>"
     },
     "metadata": {},
     "output_type": "display_data"
    }
   ],
   "source": [
    "from sklearn.model_selection import GridSearchCV\n",
    "\n",
    "grid1 = {'gamma': [0.001, 0.01, 0.1, 1, 10, 100], 'C': [0.001, 0.01, 0.1, 1, 10, 100]}\n",
    "gs1 = GridSearchCV(SVC(), grid1, cv=5)\n",
    "X_train, X_test, y_train, y_test = train_test_split(X, y, random_state=0)\n",
    "gs1.fit(X_train, y_train)\n",
    "score1 = gs1.score(X_test, y_test)\n",
    "\n",
    "print('test score:', score1)\n",
    "print('best params: ', gs1.best_params_)\n",
    "print('best score: ', gs1.best_score_)\n",
    "print('whole args view :', gs1.best_estimator_)\n",
    "\n",
    "results1 = pd.DataFrame(gs1.cv_results_)\n",
    "display(results1.head())"
   ],
   "metadata": {
    "collapsed": false,
    "ExecuteTime": {
     "end_time": "2023-12-18T08:40:40.314489800Z",
     "start_time": "2023-12-18T08:40:32.572093800Z"
    }
   },
   "id": "4ed58bbd109bd789"
  },
  {
   "cell_type": "code",
   "execution_count": 19,
   "outputs": [
    {
     "data": {
      "text/plain": "<Figure size 640x480 with 2 Axes>",
      "image/png": "[encoded data removed]"
     },
     "metadata": {},
     "output_type": "display_data"
    }
   ],
   "source": [
    "import seaborn as sns\n",
    "import matplotlib.pyplot as plt\n",
    "import numpy as np\n",
    "\n",
    "sc = np.array(results1.mean_test_score).reshape(6, 6)\n",
    "ax = sns.heatmap(sc, annot=True, xticklabels=grid1['gamma'], yticklabels=grid1['C'], cmap='hsv')\n",
    "ax.set(xlabel='gamma', ylabel='C')\n",
    "ax.xaxis.tick_top()\n",
    "\n",
    "plt.show()"
   ],
   "metadata": {
    "collapsed": false,
    "ExecuteTime": {
     "end_time": "2023-12-18T08:40:45.611430Z",
     "start_time": "2023-12-18T08:40:44.851836Z"
    }
   },
   "id": "6b21d8fd2c562059"
  },
  {
   "cell_type": "code",
   "execution_count": 20,
   "outputs": [
    {
     "name": "stdout",
     "output_type": "stream",
     "text": [
      "              precision    recall  f1-score   support\n",
      "\n",
      "           0       0.00      0.00      0.00        12\n",
      "           1       0.22      0.11      0.15        18\n",
      "           2       0.09      0.25      0.13        16\n",
      "           3       0.12      0.10      0.11        20\n",
      "           4       0.11      0.12      0.11        17\n",
      "           5       0.00      0.00      0.00        12\n",
      "           6       0.00      0.00      0.00        14\n",
      "           7       0.00      0.00      0.00        16\n",
      "\n",
      "    accuracy                           0.08       125\n",
      "   macro avg       0.07      0.07      0.06       125\n",
      "weighted avg       0.08      0.08      0.07       125\n"
     ]
    }
   ],
   "source": [
    "from sklearn.metrics import classification_report\n",
    "\n",
    "print(classification_report(y_test, y_pred))"
   ],
   "metadata": {
    "collapsed": false,
    "ExecuteTime": {
     "end_time": "2023-12-18T08:40:57.951855700Z",
     "start_time": "2023-12-18T08:40:57.890653700Z"
    }
   },
   "id": "3dbb4565a06df688"
  },
  {
   "cell_type": "code",
   "execution_count": null,
   "outputs": [],
   "source": [],
   "metadata": {
    "collapsed": false
   },
   "id": "962782821272a1a8"
  }
 ],
 "metadata": {
  "kernelspec": {
   "display_name": "Python 3",
   "language": "python",
   "name": "python3"
  },
  "language_info": {
   "codemirror_mode": {
    "name": "ipython",
    "version": 2
   },
   "file_extension": ".py",
   "mimetype": "text/x-python",
   "name": "python",
   "nbconvert_exporter": "python",
   "pygments_lexer": "ipython2",
   "version": "2.7.6"
  }
 },
 "nbformat": 4,
 "nbformat_minor": 5
}
