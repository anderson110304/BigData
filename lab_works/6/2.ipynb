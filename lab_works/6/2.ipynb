{
 "cells": [
  {
   "cell_type": "code",
   "execution_count": 1,
   "id": "initial_id",
   "metadata": {
    "collapsed": true,
    "ExecuteTime": {
     "end_time": "2023-12-18T08:20:50.453736700Z",
     "start_time": "2023-12-18T08:20:50.066178Z"
    }
   },
   "outputs": [],
   "source": [
    "from sklearn.datasets import load_breast_cancer\n",
    "from sklearn.preprocessing import StandardScaler\n",
    "from sklearn.linear_model import LogisticRegression\n",
    "from sklearn.model_selection import cross_val_score\n",
    "import numpy as np"
   ]
  },
  {
   "cell_type": "code",
   "execution_count": 2,
   "outputs": [],
   "source": [
    "breast_cancer = load_breast_cancer()\n",
    "X = breast_cancer.data\n",
    "y = breast_cancer.target"
   ],
   "metadata": {
    "collapsed": false,
    "ExecuteTime": {
     "end_time": "2023-12-18T08:20:59.797315500Z",
     "start_time": "2023-12-18T08:20:59.752897900Z"
    }
   },
   "id": "60bf7db4b7f4e178"
  },
  {
   "cell_type": "code",
   "execution_count": 3,
   "outputs": [],
   "source": [
    "scaler = StandardScaler()\n",
    "X_scaled = scaler.fit_transform(X)"
   ],
   "metadata": {
    "collapsed": false,
    "ExecuteTime": {
     "end_time": "2023-12-18T08:21:20.487327500Z",
     "start_time": "2023-12-18T08:21:20.472666Z"
    }
   },
   "id": "24624193fc7be74b"
  },
  {
   "cell_type": "code",
   "execution_count": 4,
   "outputs": [],
   "source": [
    "logreg = LogisticRegression(max_iter=10000)\n",
    "scores = cross_val_score(logreg, X_scaled, y, cv=5)"
   ],
   "metadata": {
    "collapsed": false,
    "ExecuteTime": {
     "end_time": "2023-12-18T08:21:27.964238100Z",
     "start_time": "2023-12-18T08:21:27.835769400Z"
    }
   },
   "id": "66174f860a5cb810"
  },
  {
   "cell_type": "code",
   "execution_count": 5,
   "outputs": [
    {
     "name": "stdout",
     "output_type": "stream",
     "text": [
      "cross-validation scores (5 folds): [0.98245614 0.98245614 0.97368421 0.97368421 0.99115044]\n",
      "the average cross-validation score (5 folds): 0.98\n"
     ]
    }
   ],
   "source": [
    "print('cross-validation scores (5 folds): {}'.format(scores))\n",
    "print('the average cross-validation score (5 folds): {:.2f}'.format(np.mean(scores)))"
   ],
   "metadata": {
    "collapsed": false,
    "ExecuteTime": {
     "end_time": "2023-12-18T08:21:32.767435500Z",
     "start_time": "2023-12-18T08:21:32.754163200Z"
    }
   },
   "id": "d9c94913652dc306"
  },
  {
   "cell_type": "code",
   "execution_count": 6,
   "outputs": [],
   "source": [
    "from sklearn.model_selection import cross_validate\n",
    "import pandas as pd"
   ],
   "metadata": {
    "collapsed": false,
    "ExecuteTime": {
     "end_time": "2023-12-18T08:21:44.595405800Z",
     "start_time": "2023-12-18T08:21:44.572003500Z"
    }
   },
   "id": "def505c11b9b25bb"
  },
  {
   "cell_type": "code",
   "execution_count": 7,
   "outputs": [
    {
     "data": {
      "text/plain": "   fit_time  score_time  test_score  train_score\n0  0.021099    0.001098    0.982456     0.991209\n1  0.026270    0.002081    0.982456     0.989011\n2  0.026967    0.001232    0.973684     0.989011\n3  0.022373    0.001087    0.973684     0.991209\n4  0.017875    0.001000    0.991150     0.986842",
      "text/html": "<div>\n<style scoped>\n    .dataframe tbody tr th:only-of-type {\n        vertical-align: middle;\n    }\n\n    .dataframe tbody tr th {\n        vertical-align: top;\n    }\n\n    .dataframe thead th {\n        text-align: right;\n    }\n</style>\n<table border=\"1\" class=\"dataframe\">\n  <thead>\n    <tr style=\"text-align: right;\">\n      <th></th>\n      <th>fit_time</th>\n      <th>score_time</th>\n      <th>test_score</th>\n      <th>train_score</th>\n    </tr>\n  </thead>\n  <tbody>\n    <tr>\n      <th>0</th>\n      <td>0.021099</td>\n      <td>0.001098</td>\n      <td>0.982456</td>\n      <td>0.991209</td>\n    </tr>\n    <tr>\n      <th>1</th>\n      <td>0.026270</td>\n      <td>0.002081</td>\n      <td>0.982456</td>\n      <td>0.989011</td>\n    </tr>\n    <tr>\n      <th>2</th>\n      <td>0.026967</td>\n      <td>0.001232</td>\n      <td>0.973684</td>\n      <td>0.989011</td>\n    </tr>\n    <tr>\n      <th>3</th>\n      <td>0.022373</td>\n      <td>0.001087</td>\n      <td>0.973684</td>\n      <td>0.991209</td>\n    </tr>\n    <tr>\n      <th>4</th>\n      <td>0.017875</td>\n      <td>0.001000</td>\n      <td>0.991150</td>\n      <td>0.986842</td>\n    </tr>\n  </tbody>\n</table>\n</div>"
     },
     "metadata": {},
     "output_type": "display_data"
    },
    {
     "name": "stdout",
     "output_type": "stream",
     "text": [
      "mean time and score:\n",
      " fit_time       0.022917\n",
      "score_time     0.001300\n",
      "test_score     0.980686\n",
      "train_score    0.989456\n",
      "dtype: float64\n"
     ]
    }
   ],
   "source": [
    "res = cross_validate(logreg, X_scaled, y, cv=5, return_train_score=True)\n",
    "res_df = pd.DataFrame(res)\n",
    "display(res_df)\n",
    "print('mean time and score:\\n', res_df.mean())"
   ],
   "metadata": {
    "collapsed": false,
    "ExecuteTime": {
     "end_time": "2023-12-18T08:21:51.780506Z",
     "start_time": "2023-12-18T08:21:51.610667800Z"
    }
   },
   "id": "de8bad5bd16e0f58"
  },
  {
   "cell_type": "code",
   "execution_count": 8,
   "outputs": [
    {
     "name": "stdout",
     "output_type": "stream",
     "text": [
      "breast_cancer targets:\n",
      "[0 0 0 0 0 0 0 0 0 0 0 0 0 0 0 0 0 0 0 1 1 1 0 0 0 0 0 0 0 0 0 0 0 0 0 0 0\n",
      " 1 0 0 0 0 0 0 0 0 1 0 1 1 1 1 1 0 0 1 0 0 1 1 1 1 0 1 0 0 1 1 1 1 0 1 0 0\n",
      " 1 0 1 0 0 1 1 1 0 0 1 0 0 0 1 1 1 0 1 1 0 0 1 1 1 0 0 1 1 1 1 0 1 1 0 1 1\n",
      " 1 1 1 1 1 1 0 0 0 1 0 0 1 1 1 0 0 1 0 1 0 0 1 0 0 1 1 0 1 1 0 1 1 1 1 0 1\n",
      " 1 1 1 1 1 1 1 1 0 1 1 1 1 0 0 1 0 1 1 0 0 1 1 0 0 1 1 1 1 0 1 1 0 0 0 1 0\n",
      " 1 0 1 1 1 0 1 1 0 0 1 0 0 0 0 1 0 0 0 1 0 1 0 1 1 0 1 0 0 0 0 1 1 0 0 1 1\n",
      " 1 0 1 1 1 1 1 0 0 1 1 0 1 1 0 0 1 0 1 1 1 1 0 1 1 1 1 1 0 1 0 0 0 0 0 0 0\n",
      " 0 0 0 0 0 0 0 1 1 1 1 1 1 0 1 0 1 1 0 1 1 0 1 0 0 1 1 1 1 1 1 1 1 1 1 1 1\n",
      " 1 0 1 1 0 1 0 1 1 1 1 1 1 1 1 1 1 1 1 1 1 0 1 1 1 0 1 0 1 1 1 1 0 0 0 1 1\n",
      " 1 1 0 1 0 1 0 1 1 1 0 1 1 1 1 1 1 1 0 0 0 1 1 1 1 1 1 1 1 1 1 1 0 0 1 0 0\n",
      " 0 1 0 0 1 1 1 1 1 0 1 1 1 1 1 0 1 1 1 0 1 1 0 0 1 1 1 1 1 1 0 1 1 1 1 1 1\n",
      " 1 0 1 1 1 1 1 0 1 1 0 1 1 1 1 1 1 1 1 1 1 1 1 0 1 0 0 1 0 1 1 1 1 1 0 1 1\n",
      " 0 1 0 1 1 0 1 0 1 1 1 1 1 1 1 1 0 0 1 1 1 1 1 1 0 1 1 1 1 1 1 1 1 1 1 0 1\n",
      " 1 1 1 1 1 1 0 1 0 1 1 0 1 1 1 1 1 0 0 1 0 1 0 1 1 1 1 1 0 1 1 0 1 0 1 0 0\n",
      " 1 1 1 0 1 1 1 1 1 1 1 1 1 1 1 0 1 0 0 1 1 1 1 1 1 1 1 1 1 1 1 1 1 1 1 1 1\n",
      " 1 1 1 1 1 1 1 0 0 0 0 0 0 1]\n"
     ]
    }
   ],
   "source": [
    "print('breast_cancer targets:\\n{}'.format(y))"
   ],
   "metadata": {
    "collapsed": false,
    "ExecuteTime": {
     "end_time": "2023-12-18T08:22:00.197830500Z",
     "start_time": "2023-12-18T08:22:00.169367900Z"
    }
   },
   "id": "98906bcff585877d"
  },
  {
   "cell_type": "code",
   "execution_count": 9,
   "outputs": [],
   "source": [
    "from sklearn.model_selection import StratifiedKFold"
   ],
   "metadata": {
    "collapsed": false,
    "ExecuteTime": {
     "end_time": "2023-12-18T08:22:13.075209400Z",
     "start_time": "2023-12-18T08:22:13.053916600Z"
    }
   },
   "id": "cf9102f7d5a786c6"
  },
  {
   "cell_type": "code",
   "execution_count": 10,
   "outputs": [
    {
     "data": {
      "text/plain": "3"
     },
     "execution_count": 10,
     "metadata": {},
     "output_type": "execute_result"
    }
   ],
   "source": [
    "skf = StratifiedKFold(n_splits=3)\n",
    "skf.get_n_splits(X, y)"
   ],
   "metadata": {
    "collapsed": false,
    "ExecuteTime": {
     "end_time": "2023-12-18T08:22:29.542009300Z",
     "start_time": "2023-12-18T08:22:29.523090800Z"
    }
   },
   "id": "3657d3bbd01beb0a"
  },
  {
   "cell_type": "code",
   "execution_count": 11,
   "outputs": [],
   "source": [
    "bcl = LogisticRegression()\n",
    "skf_scores = cross_val_score(bcl, X_scaled, y, cv=skf)"
   ],
   "metadata": {
    "collapsed": false,
    "ExecuteTime": {
     "end_time": "2023-12-18T08:22:41.395424Z",
     "start_time": "2023-12-18T08:22:41.316837900Z"
    }
   },
   "id": "4edcaad96fe19bf4"
  },
  {
   "cell_type": "code",
   "execution_count": 12,
   "outputs": [
    {
     "name": "stdout",
     "output_type": "stream",
     "text": [
      "cross-validation scores (3 folds): [0.97894737 0.97368421 0.97354497]\n",
      "the average cross-validation score (3 folds): 0.98\n"
     ]
    }
   ],
   "source": [
    "print('cross-validation scores (3 folds): {}'.format(skf_scores))\n",
    "print('the average cross-validation score (3 folds): {:.2f}'.format(np.mean(skf_scores)))"
   ],
   "metadata": {
    "collapsed": false,
    "ExecuteTime": {
     "end_time": "2023-12-18T08:22:46.406151600Z",
     "start_time": "2023-12-18T08:22:46.364185300Z"
    }
   },
   "id": "111f3b722b3ed020"
  },
  {
   "cell_type": "code",
   "execution_count": 13,
   "outputs": [],
   "source": [
    "from sklearn.model_selection import KFold"
   ],
   "metadata": {
    "collapsed": false,
    "ExecuteTime": {
     "end_time": "2023-12-18T08:23:12.052910100Z",
     "start_time": "2023-12-18T08:23:12.032783900Z"
    }
   },
   "id": "2045dac3718a47a6"
  },
  {
   "cell_type": "code",
   "execution_count": 14,
   "outputs": [
    {
     "name": "stdout",
     "output_type": "stream",
     "text": [
      "accuracy value of cross-validation:\n",
      "[0.96315789 0.97894737 0.97354497]\n"
     ]
    }
   ],
   "source": [
    "k_fold = KFold(n_splits=3)\n",
    "print('accuracy value of cross-validation:\\n{}'.format(cross_val_score(logreg, X_scaled, y, cv=k_fold)))"
   ],
   "metadata": {
    "collapsed": false,
    "ExecuteTime": {
     "end_time": "2023-12-18T08:23:15.259595800Z",
     "start_time": "2023-12-18T08:23:15.138784700Z"
    }
   },
   "id": "47c798c69f5a54b9"
  },
  {
   "cell_type": "code",
   "execution_count": 15,
   "outputs": [
    {
     "name": "stdout",
     "output_type": "stream",
     "text": [
      "accuracy value of cross-validation:\n",
      "[0.97894737 0.95789474 0.98941799]\n"
     ]
    }
   ],
   "source": [
    "fold_k = KFold(n_splits=3, shuffle=True, random_state=0)\n",
    "print('accuracy value of cross-validation:\\n{}'.format(cross_val_score(logreg, X_scaled, y, cv=fold_k)))"
   ],
   "metadata": {
    "collapsed": false,
    "ExecuteTime": {
     "end_time": "2023-12-18T08:23:23.142021600Z",
     "start_time": "2023-12-18T08:23:23.058459800Z"
    }
   },
   "id": "9b538de0b15c84b0"
  },
  {
   "cell_type": "code",
   "execution_count": 16,
   "outputs": [],
   "source": [
    "from sklearn.model_selection import LeaveOneOut"
   ],
   "metadata": {
    "collapsed": false,
    "ExecuteTime": {
     "end_time": "2023-12-18T08:23:33.159561900Z",
     "start_time": "2023-12-18T08:23:33.136129400Z"
    }
   },
   "id": "c8887277edfc24cd"
  },
  {
   "cell_type": "code",
   "execution_count": 17,
   "outputs": [],
   "source": [
    "loo = LeaveOneOut()\n",
    "loo_scores = cross_val_score(logreg, X_scaled, y, cv=loo)"
   ],
   "metadata": {
    "collapsed": false,
    "ExecuteTime": {
     "end_time": "2023-12-18T08:23:52.263535Z",
     "start_time": "2023-12-18T08:23:41.599581800Z"
    }
   },
   "id": "988e8db56d018d96"
  },
  {
   "cell_type": "code",
   "execution_count": 18,
   "outputs": [
    {
     "name": "stdout",
     "output_type": "stream",
     "text": [
      "number of iterations:  569\n",
      "the average cross validation score: 0.9789103690685413\n"
     ]
    }
   ],
   "source": [
    "print('number of iterations: ', len(loo_scores))\n",
    "print('the average cross validation score: {}'.format(np.mean(loo_scores)))"
   ],
   "metadata": {
    "collapsed": false,
    "ExecuteTime": {
     "end_time": "2023-12-18T08:23:57.683514400Z",
     "start_time": "2023-12-18T08:23:57.657803600Z"
    }
   },
   "id": "ee7e70fddc389b98"
  },
  {
   "cell_type": "code",
   "execution_count": 19,
   "outputs": [],
   "source": [
    "from sklearn.model_selection import ShuffleSplit"
   ],
   "metadata": {
    "collapsed": false,
    "ExecuteTime": {
     "end_time": "2023-12-18T08:24:11.924869600Z",
     "start_time": "2023-12-18T08:24:11.897812300Z"
    }
   },
   "id": "d2801ef2f9903623"
  },
  {
   "cell_type": "code",
   "execution_count": 20,
   "outputs": [
    {
     "name": "stdout",
     "output_type": "stream",
     "text": [
      "accuracy values of shuffle-split cross-validation:\n",
      "[0.97192982 0.97894737 0.96842105 0.95438596 0.9754386  0.97192982\n",
      " 0.98596491 0.96491228 0.9754386  0.98245614]\n",
      "the average cross validation score: 0.97\n"
     ]
    }
   ],
   "source": [
    "shuffle_split = ShuffleSplit(test_size=.5, train_size=.5, n_splits=10)\n",
    "shuffle_scores = cross_val_score(logreg, X_scaled, y, cv=shuffle_split)\n",
    "print('accuracy values of shuffle-split cross-validation:\\n{}'.format(shuffle_scores))\n",
    "print('the average cross validation score: {:.2f}'.format(np.mean(shuffle_scores)))"
   ],
   "metadata": {
    "collapsed": false,
    "ExecuteTime": {
     "end_time": "2023-12-18T08:24:17.101133100Z",
     "start_time": "2023-12-18T08:24:16.969359200Z"
    }
   },
   "id": "a2be509dee29a8d5"
  },
  {
   "cell_type": "code",
   "execution_count": 21,
   "outputs": [],
   "source": [
    "from sklearn.model_selection import train_test_split"
   ],
   "metadata": {
    "collapsed": false,
    "ExecuteTime": {
     "end_time": "2023-12-18T08:24:35.496088500Z",
     "start_time": "2023-12-18T08:24:35.449687100Z"
    }
   },
   "id": "9b49215b95516c67"
  },
  {
   "cell_type": "code",
   "execution_count": 22,
   "outputs": [
    {
     "name": "stdout",
     "output_type": "stream",
     "text": [
      "train set shape: 426, test train shape: 143\n"
     ]
    }
   ],
   "source": [
    "cancer_X = breast_cancer.data\n",
    "cancer_y = breast_cancer.target\n",
    "\n",
    "X_train, X_test, y_train, y_test = train_test_split(cancer_X, cancer_y, random_state=0)\n",
    "print('train set shape: {}, test train shape: {}'.format(X_train.shape[0], X_test.shape[0]))"
   ],
   "metadata": {
    "collapsed": false,
    "ExecuteTime": {
     "end_time": "2023-12-18T08:24:51.512333Z",
     "start_time": "2023-12-18T08:24:51.481125Z"
    }
   },
   "id": "d9a391123d5cf009"
  },
  {
   "cell_type": "code",
   "execution_count": 23,
   "outputs": [
    {
     "name": "stdout",
     "output_type": "stream",
     "text": [
      "C:  0.001 penalty:  l1 accuracy: 0.916\n",
      "C:  0.001 penalty:  l2 accuracy: 0.944\n",
      "C:  0.1 penalty:  l1 accuracy: 0.944\n",
      "C:  0.1 penalty:  l2 accuracy: 0.937\n",
      "C:  1 penalty:  l1 accuracy: 0.937\n",
      "C:  1 penalty:  l2 accuracy: 0.937\n",
      "C:  10 penalty:  l1 accuracy: 0.937\n",
      "C:  10 penalty:  l2 accuracy: 0.937\n",
      "the best accuracy value: 0.944\n",
      "the best parameter values: {'C': 0.001, 'penalty': 'l2'}\n"
     ]
    }
   ],
   "source": [
    "best_score = 0\n",
    "for C in [0.001, 0.1, 1, 10]:\n",
    "    for penalty in ['l1', 'l2']:\n",
    "        logr = LogisticRegression(C=C, penalty=penalty, solver='saga', max_iter=10000)\n",
    "        logr.fit(X_train, y_train)\n",
    "        l_score = logr.score(X_test, y_test)\n",
    "        print('C: ', C, 'penalty: ', penalty, 'accuracy: {:.3f}'.format(l_score))\n",
    "        if l_score > best_score:\n",
    "            best_score = l_score\n",
    "            best_parameters = {'C': C, 'penalty': penalty}\n",
    "\n",
    "print('the best accuracy value: {:.3f}'.format(best_score))\n",
    "print('the best parameter values: {}'.format(best_parameters))"
   ],
   "metadata": {
    "collapsed": false,
    "ExecuteTime": {
     "end_time": "2023-12-18T08:25:09.009246400Z",
     "start_time": "2023-12-18T08:24:58.075327400Z"
    }
   },
   "id": "6d23f43c2c6fcde2"
  },
  {
   "cell_type": "code",
   "execution_count": 24,
   "outputs": [
    {
     "name": "stdout",
     "output_type": "stream",
     "text": [
      "best SVM score:  0.9300699300699301\n",
      "best parameters:  (0.001, 1)\n"
     ]
    }
   ],
   "source": [
    "from sklearn.svm import SVC\n",
    "\n",
    "best_svc = 0\n",
    "for gamma in [0.001, 0.01, 0.1, 1, 10, 100]:\n",
    "    for C in [0.001, 0.01, 0.1, 1, 10, 100]:\n",
    "        svm = SVC(gamma=gamma, C=C)\n",
    "        svm.fit(X_train, y_train)\n",
    "        s_score = svm.score(X_test, y_test)\n",
    "\n",
    "        if s_score > best_svc:\n",
    "            best_svc = s_score\n",
    "            best_svc_parameters = (gamma, C)\n",
    "\n",
    "print('best SVM score: ', best_svc)\n",
    "print('best parameters: ', best_svc_parameters)"
   ],
   "metadata": {
    "collapsed": false,
    "ExecuteTime": {
     "end_time": "2023-12-18T08:25:13.572474700Z",
     "start_time": "2023-12-18T08:25:10.963439100Z"
    }
   },
   "id": "173512c1b7d57b6d"
  },
  {
   "cell_type": "code",
   "execution_count": 25,
   "outputs": [
    {
     "name": "stdout",
     "output_type": "stream",
     "text": [
      "best dt score:  0.9370629370629371\n",
      "best dt max_depth param:  2\n"
     ]
    }
   ],
   "source": [
    "from sklearn.tree import DecisionTreeClassifier\n",
    "\n",
    "best_dt = 0\n",
    "for max_depth in [1, 2, 3, 5, 7, 9, 11]:\n",
    "    dt = DecisionTreeClassifier(max_depth=max_depth, random_state=0)\n",
    "    dt.fit(X_train, y_train)\n",
    "    d_score = dt.score(X_test, y_test)\n",
    "\n",
    "    if d_score > best_dt:\n",
    "        best_dt = d_score\n",
    "        best_dt_param = max_depth\n",
    "\n",
    "print('best dt score: ', best_dt)\n",
    "print('best dt max_depth param: ', best_dt_param)"
   ],
   "metadata": {
    "collapsed": false,
    "ExecuteTime": {
     "end_time": "2023-12-18T08:25:17.875389300Z",
     "start_time": "2023-12-18T08:25:17.511677500Z"
    }
   },
   "id": "fb21a09e0b79391c"
  },
  {
   "cell_type": "code",
   "execution_count": 26,
   "outputs": [
    {
     "name": "stdout",
     "output_type": "stream",
     "text": [
      "test score: 0.9440559440559441\n",
      "best params:  {'C': 0.001, 'penalty': 'l2'}\n",
      "best score:  0.9130506155950752\n",
      "whole args view : LogisticRegression(C=0.001, max_iter=10000, solver='saga')\n"
     ]
    },
    {
     "data": {
      "text/plain": "   mean_fit_time  std_fit_time  mean_score_time  std_score_time param_C  \\\n0       0.750514      0.181653         0.001480        0.000567   0.001   \n1       0.549225      0.045387         0.001230        0.000432   0.001   \n2       1.128940      0.355068         0.002015        0.001532     0.1   \n3       0.781279      0.138568         0.001314        0.000806     0.1   \n4       1.022332      0.346664         0.000946        0.000162       1   \n\n  param_penalty                         params  split0_test_score  \\\n0            l1  {'C': 0.001, 'penalty': 'l1'}           0.965116   \n1            l2  {'C': 0.001, 'penalty': 'l2'}           0.953488   \n2            l1    {'C': 0.1, 'penalty': 'l1'}           0.953488   \n3            l2    {'C': 0.1, 'penalty': 'l2'}           0.953488   \n4            l1      {'C': 1, 'penalty': 'l1'}           0.953488   \n\n   split1_test_score  split2_test_score  split3_test_score  split4_test_score  \\\n0           0.858824           0.894118           0.941176           0.905882   \n1           0.870588           0.929412           0.894118           0.917647   \n2           0.858824           0.929412           0.894118           0.917647   \n3           0.858824           0.917647           0.894118           0.917647   \n4           0.858824           0.917647           0.894118           0.917647   \n\n   mean_test_score  std_test_score  rank_test_score  \n0         0.913023        0.037020                2  \n1         0.913051        0.028585                1  \n2         0.910698        0.032235                3  \n3         0.908345        0.031195                4  \n4         0.908345        0.031195                4  ",
      "text/html": "<div>\n<style scoped>\n    .dataframe tbody tr th:only-of-type {\n        vertical-align: middle;\n    }\n\n    .dataframe tbody tr th {\n        vertical-align: top;\n    }\n\n    .dataframe thead th {\n        text-align: right;\n    }\n</style>\n<table border=\"1\" class=\"dataframe\">\n  <thead>\n    <tr style=\"text-align: right;\">\n      <th></th>\n      <th>mean_fit_time</th>\n      <th>std_fit_time</th>\n      <th>mean_score_time</th>\n      <th>std_score_time</th>\n      <th>param_C</th>\n      <th>param_penalty</th>\n      <th>params</th>\n      <th>split0_test_score</th>\n      <th>split1_test_score</th>\n      <th>split2_test_score</th>\n      <th>split3_test_score</th>\n      <th>split4_test_score</th>\n      <th>mean_test_score</th>\n      <th>std_test_score</th>\n      <th>rank_test_score</th>\n    </tr>\n  </thead>\n  <tbody>\n    <tr>\n      <th>0</th>\n      <td>0.750514</td>\n      <td>0.181653</td>\n      <td>0.001480</td>\n      <td>0.000567</td>\n      <td>0.001</td>\n      <td>l1</td>\n      <td>{'C': 0.001, 'penalty': 'l1'}</td>\n      <td>0.965116</td>\n      <td>0.858824</td>\n      <td>0.894118</td>\n      <td>0.941176</td>\n      <td>0.905882</td>\n      <td>0.913023</td>\n      <td>0.037020</td>\n      <td>2</td>\n    </tr>\n    <tr>\n      <th>1</th>\n      <td>0.549225</td>\n      <td>0.045387</td>\n      <td>0.001230</td>\n      <td>0.000432</td>\n      <td>0.001</td>\n      <td>l2</td>\n      <td>{'C': 0.001, 'penalty': 'l2'}</td>\n      <td>0.953488</td>\n      <td>0.870588</td>\n      <td>0.929412</td>\n      <td>0.894118</td>\n      <td>0.917647</td>\n      <td>0.913051</td>\n      <td>0.028585</td>\n      <td>1</td>\n    </tr>\n    <tr>\n      <th>2</th>\n      <td>1.128940</td>\n      <td>0.355068</td>\n      <td>0.002015</td>\n      <td>0.001532</td>\n      <td>0.1</td>\n      <td>l1</td>\n      <td>{'C': 0.1, 'penalty': 'l1'}</td>\n      <td>0.953488</td>\n      <td>0.858824</td>\n      <td>0.929412</td>\n      <td>0.894118</td>\n      <td>0.917647</td>\n      <td>0.910698</td>\n      <td>0.032235</td>\n      <td>3</td>\n    </tr>\n    <tr>\n      <th>3</th>\n      <td>0.781279</td>\n      <td>0.138568</td>\n      <td>0.001314</td>\n      <td>0.000806</td>\n      <td>0.1</td>\n      <td>l2</td>\n      <td>{'C': 0.1, 'penalty': 'l2'}</td>\n      <td>0.953488</td>\n      <td>0.858824</td>\n      <td>0.917647</td>\n      <td>0.894118</td>\n      <td>0.917647</td>\n      <td>0.908345</td>\n      <td>0.031195</td>\n      <td>4</td>\n    </tr>\n    <tr>\n      <th>4</th>\n      <td>1.022332</td>\n      <td>0.346664</td>\n      <td>0.000946</td>\n      <td>0.000162</td>\n      <td>1</td>\n      <td>l1</td>\n      <td>{'C': 1, 'penalty': 'l1'}</td>\n      <td>0.953488</td>\n      <td>0.858824</td>\n      <td>0.917647</td>\n      <td>0.894118</td>\n      <td>0.917647</td>\n      <td>0.908345</td>\n      <td>0.031195</td>\n      <td>4</td>\n    </tr>\n  </tbody>\n</table>\n</div>"
     },
     "metadata": {},
     "output_type": "display_data"
    }
   ],
   "source": [
    "from sklearn.model_selection import GridSearchCV\n",
    "\n",
    "lr_grid = {'C': [0.001, 0.1, 1, 10], 'penalty': ['l1', 'l2']}\n",
    "grid_search_lr = GridSearchCV(LogisticRegression(solver='saga', max_iter=10000), lr_grid)\n",
    "X_train, X_test, y_train, y_test = train_test_split(X, y, random_state=0)\n",
    "grid_search_lr.fit(X_train, y_train)\n",
    "score_gs = grid_search_lr.score(X_test, y_test)\n",
    "\n",
    "print('test score:', score_gs)\n",
    "print('best params: ', grid_search_lr.best_params_)\n",
    "print('best score: ', grid_search_lr.best_score_)\n",
    "print('whole args view :', grid_search_lr.best_estimator_)\n",
    "\n",
    "results = pd.DataFrame(grid_search_lr.cv_results_)\n",
    "display(results.head())"
   ],
   "metadata": {
    "collapsed": false,
    "ExecuteTime": {
     "end_time": "2023-12-18T08:25:58.855230700Z",
     "start_time": "2023-12-18T08:25:24.972099200Z"
    }
   },
   "id": "eae40b1a8dfc3049"
  },
  {
   "cell_type": "code",
   "execution_count": 27,
   "outputs": [
    {
     "name": "stdout",
     "output_type": "stream",
     "text": [
      "test score: 0.9300699300699301\n",
      "best params:  {'C': 1, 'gamma': 0.001}\n",
      "best score:  0.9223803009575923\n",
      "whole args view : SVC(C=1, gamma=0.001)\n"
     ]
    },
    {
     "data": {
      "text/plain": "   mean_fit_time  std_fit_time  mean_score_time  std_score_time param_C  \\\n0       0.013819      0.001043         0.007405        0.001410   0.001   \n1       0.017138      0.003347         0.009939        0.003485   0.001   \n2       0.015696      0.001009         0.007900        0.001392   0.001   \n3       0.048059      0.027527         0.016774        0.006024   0.001   \n4       0.035337      0.012551         0.019150        0.005993   0.001   \n\n  param_gamma                        params  split0_test_score  \\\n0       0.001  {'C': 0.001, 'gamma': 0.001}           0.627907   \n1        0.01   {'C': 0.001, 'gamma': 0.01}           0.627907   \n2         0.1    {'C': 0.001, 'gamma': 0.1}           0.627907   \n3           1      {'C': 0.001, 'gamma': 1}           0.627907   \n4          10     {'C': 0.001, 'gamma': 10}           0.627907   \n\n   split1_test_score  split2_test_score  split3_test_score  split4_test_score  \\\n0           0.635294           0.623529           0.623529           0.623529   \n1           0.635294           0.623529           0.623529           0.623529   \n2           0.635294           0.623529           0.623529           0.623529   \n3           0.635294           0.623529           0.623529           0.623529   \n4           0.635294           0.623529           0.623529           0.623529   \n\n   mean_test_score  std_test_score  rank_test_score  \n0         0.626758        0.004593                6  \n1         0.626758        0.004593                6  \n2         0.626758        0.004593                6  \n3         0.626758        0.004593                6  \n4         0.626758        0.004593                6  ",
      "text/html": "<div>\n<style scoped>\n    .dataframe tbody tr th:only-of-type {\n        vertical-align: middle;\n    }\n\n    .dataframe tbody tr th {\n        vertical-align: top;\n    }\n\n    .dataframe thead th {\n        text-align: right;\n    }\n</style>\n<table border=\"1\" class=\"dataframe\">\n  <thead>\n    <tr style=\"text-align: right;\">\n      <th></th>\n      <th>mean_fit_time</th>\n      <th>std_fit_time</th>\n      <th>mean_score_time</th>\n      <th>std_score_time</th>\n      <th>param_C</th>\n      <th>param_gamma</th>\n      <th>params</th>\n      <th>split0_test_score</th>\n      <th>split1_test_score</th>\n      <th>split2_test_score</th>\n      <th>split3_test_score</th>\n      <th>split4_test_score</th>\n      <th>mean_test_score</th>\n      <th>std_test_score</th>\n      <th>rank_test_score</th>\n    </tr>\n  </thead>\n  <tbody>\n    <tr>\n      <th>0</th>\n      <td>0.013819</td>\n      <td>0.001043</td>\n      <td>0.007405</td>\n      <td>0.001410</td>\n      <td>0.001</td>\n      <td>0.001</td>\n      <td>{'C': 0.001, 'gamma': 0.001}</td>\n      <td>0.627907</td>\n      <td>0.635294</td>\n      <td>0.623529</td>\n      <td>0.623529</td>\n      <td>0.623529</td>\n      <td>0.626758</td>\n      <td>0.004593</td>\n      <td>6</td>\n    </tr>\n    <tr>\n      <th>1</th>\n      <td>0.017138</td>\n      <td>0.003347</td>\n      <td>0.009939</td>\n      <td>0.003485</td>\n      <td>0.001</td>\n      <td>0.01</td>\n      <td>{'C': 0.001, 'gamma': 0.01}</td>\n      <td>0.627907</td>\n      <td>0.635294</td>\n      <td>0.623529</td>\n      <td>0.623529</td>\n      <td>0.623529</td>\n      <td>0.626758</td>\n      <td>0.004593</td>\n      <td>6</td>\n    </tr>\n    <tr>\n      <th>2</th>\n      <td>0.015696</td>\n      <td>0.001009</td>\n      <td>0.007900</td>\n      <td>0.001392</td>\n      <td>0.001</td>\n      <td>0.1</td>\n      <td>{'C': 0.001, 'gamma': 0.1}</td>\n      <td>0.627907</td>\n      <td>0.635294</td>\n      <td>0.623529</td>\n      <td>0.623529</td>\n      <td>0.623529</td>\n      <td>0.626758</td>\n      <td>0.004593</td>\n      <td>6</td>\n    </tr>\n    <tr>\n      <th>3</th>\n      <td>0.048059</td>\n      <td>0.027527</td>\n      <td>0.016774</td>\n      <td>0.006024</td>\n      <td>0.001</td>\n      <td>1</td>\n      <td>{'C': 0.001, 'gamma': 1}</td>\n      <td>0.627907</td>\n      <td>0.635294</td>\n      <td>0.623529</td>\n      <td>0.623529</td>\n      <td>0.623529</td>\n      <td>0.626758</td>\n      <td>0.004593</td>\n      <td>6</td>\n    </tr>\n    <tr>\n      <th>4</th>\n      <td>0.035337</td>\n      <td>0.012551</td>\n      <td>0.019150</td>\n      <td>0.005993</td>\n      <td>0.001</td>\n      <td>10</td>\n      <td>{'C': 0.001, 'gamma': 10}</td>\n      <td>0.627907</td>\n      <td>0.635294</td>\n      <td>0.623529</td>\n      <td>0.623529</td>\n      <td>0.623529</td>\n      <td>0.626758</td>\n      <td>0.004593</td>\n      <td>6</td>\n    </tr>\n  </tbody>\n</table>\n</div>"
     },
     "metadata": {},
     "output_type": "display_data"
    }
   ],
   "source": [
    "from sklearn.model_selection import GridSearchCV\n",
    "\n",
    "grid1 = {'gamma': [0.001, 0.01, 0.1, 1, 10, 100], 'C': [0.001, 0.01, 0.1, 1, 10, 100]}\n",
    "gs1 = GridSearchCV(SVC(), grid1, cv=5)\n",
    "X_train, X_test, y_train, y_test = train_test_split(X, y, random_state=0)\n",
    "gs1.fit(X_train, y_train)\n",
    "score1 = gs1.score(X_test, y_test)\n",
    "\n",
    "print('test score:', score1)\n",
    "print('best params: ', gs1.best_params_)\n",
    "print('best score: ', gs1.best_score_)\n",
    "print('whole args view :', gs1.best_estimator_)\n",
    "\n",
    "results1 = pd.DataFrame(gs1.cv_results_)\n",
    "display(results1.head())"
   ],
   "metadata": {
    "collapsed": false,
    "ExecuteTime": {
     "end_time": "2023-12-18T08:26:08.451482100Z",
     "start_time": "2023-12-18T08:25:58.860493800Z"
    }
   },
   "id": "d96cbbbdeb7ab6b9"
  },
  {
   "cell_type": "code",
   "execution_count": 28,
   "outputs": [
    {
     "data": {
      "text/plain": "<Figure size 640x480 with 2 Axes>",
      "image/png": "[encoded data removed]"
     },
     "metadata": {},
     "output_type": "display_data"
    }
   ],
   "source": [
    "import seaborn as sns\n",
    "import matplotlib.pyplot as plt\n",
    "\n",
    "sc = np.array(results1.mean_test_score).reshape(6, 6)\n",
    "ax = sns.heatmap(sc, annot=True, xticklabels=grid1['gamma'], yticklabels=grid1['C'], cmap='hsv')\n",
    "ax.set(xlabel='gamma', ylabel='C')\n",
    "ax.xaxis.tick_top()\n",
    "\n",
    "plt.show()"
   ],
   "metadata": {
    "collapsed": false,
    "ExecuteTime": {
     "end_time": "2023-12-18T08:26:09.488480300Z",
     "start_time": "2023-12-18T08:26:08.455631500Z"
    }
   },
   "id": "df9c7317d07f11ab"
  },
  {
   "cell_type": "code",
   "execution_count": 29,
   "outputs": [
    {
     "name": "stdout",
     "output_type": "stream",
     "text": [
      "train set shape: 319, validation set shape: 107, test set shape: 143\n",
      "best validation score:  0.8598130841121495\n",
      "best params:  {'C': 0.1, 'penalty': 'l1'}\n",
      "best score:  0.9436507936507936\n",
      "accuracy on test set with best params:  0.9440559440559441\n"
     ]
    }
   ],
   "source": [
    "X_trainval, X_test, y_trainval, y_test = train_test_split(X, y, random_state=0)\n",
    "X_train, X_valid, y_train, y_valid = train_test_split(X_trainval, y_trainval, random_state=0)\n",
    "print('train set shape: {}, validation set shape: {}, test set shape: {}'.format(X_train.shape[0], X_valid.shape[0],\n",
    "                                                                                 X_test.shape[0]))\n",
    "\n",
    "grid_lr = GridSearchCV(LogisticRegression(solver='saga', max_iter=10000), lr_grid)\n",
    "grid_lr.fit(X_train, y_train)\n",
    "validation_score = grid_lr.score(X_valid, y_valid)\n",
    "\n",
    "print('best validation score: ', validation_score)\n",
    "print('best params: ', grid_lr.best_params_)\n",
    "print('best score: ', grid_lr.best_score_)\n",
    "\n",
    "new_logreg = LogisticRegression(solver='saga', max_iter=10000, **grid_lr.best_params_)\n",
    "new_logreg.fit(X_trainval, y_trainval)\n",
    "test_score = new_logreg.score(X_test, y_test)\n",
    "\n",
    "print('accuracy on test set with best params: ', test_score)"
   ],
   "metadata": {
    "collapsed": false,
    "ExecuteTime": {
     "end_time": "2023-12-18T08:26:36.111067100Z",
     "start_time": "2023-12-18T08:26:09.483212200Z"
    }
   },
   "id": "17e6b5591d639ecd"
  },
  {
   "cell_type": "code",
   "execution_count": 30,
   "outputs": [
    {
     "name": "stdout",
     "output_type": "stream",
     "text": [
      "best logistic regression score:  0.9130506155950752\n",
      "best params:  {'C': 0.001, 'penalty': 'l2'}\n",
      "test accuracy:  0.9440559440559441\n"
     ]
    }
   ],
   "source": [
    "best_lr = 0\n",
    "for C in [0.001, 0.1, 1, 10]:\n",
    "    for penalty in ['l1', 'l2']:\n",
    "        lr = LogisticRegression(solver='saga', max_iter=10000, C=C, penalty=penalty)\n",
    "        scoress = cross_val_score(lr, X_trainval, y_trainval, cv=5)\n",
    "        score = np.mean(scoress)\n",
    "\n",
    "        if score > best_lr:\n",
    "            best_lr = score\n",
    "            best_params = {'C': C, 'penalty': penalty}\n",
    "\n",
    "print('best logistic regression score: ', best_lr)\n",
    "print('best params: ', best_params)\n",
    "\n",
    "new_lr = LogisticRegression(solver='saga', max_iter=10000, **best_params).fit(X_trainval, y_trainval)\n",
    "score_test = new_lr.score(X_test, y_test)\n",
    "print('test accuracy: ', score_test)"
   ],
   "metadata": {
    "collapsed": false,
    "ExecuteTime": {
     "end_time": "2023-12-18T08:27:17.390007900Z",
     "start_time": "2023-12-18T08:26:37.965693100Z"
    }
   },
   "id": "27e6f8e11cf55e88"
  },
  {
   "cell_type": "code",
   "execution_count": 31,
   "outputs": [
    {
     "name": "stdout",
     "output_type": "stream",
     "text": [
      "best param values: {'C': 0.1, 'kernel': 'linear'}\n",
      "best cross-val accuracy value: 0.96\n"
     ]
    },
    {
     "data": {
      "text/plain": "    mean_fit_time  std_fit_time  mean_score_time  std_score_time param_C  \\\n0        0.009201      0.001953         0.004675    8.184555e-04   0.001   \n1        0.008527      0.000674         0.004649    7.815133e-04   0.001   \n2        0.009416      0.001081         0.003764    4.278516e-04   0.001   \n3        0.015506      0.010074         0.006197    2.416492e-03   0.001   \n4        0.016586      0.006156         0.007132    2.768359e-03   0.001   \n5        0.012731      0.001130         0.006011    8.203884e-04   0.001   \n6        0.008128      0.000670         0.004207    6.279729e-04    0.01   \n7        0.010953      0.000531         0.005677    4.857623e-04    0.01   \n8        0.011834      0.000764         0.005634    7.785174e-04    0.01   \n9        0.012800      0.002423         0.006972    7.954279e-04    0.01   \n10       0.012632      0.000904         0.006159    7.747918e-04    0.01   \n11       0.012476      0.001070         0.006093    1.323615e-03    0.01   \n12       0.008351      0.001158         0.003847    5.893549e-04     0.1   \n13       0.011214      0.000424         0.005520    4.085096e-04     0.1   \n14       0.014240      0.004259         0.006342    6.332121e-04     0.1   \n15       0.024804      0.006220         0.021273    2.097915e-02     0.1   \n16       0.019168      0.000957         0.008730    3.991846e-04     0.1   \n17       0.062456      0.071928         0.045899    6.628390e-02     0.1   \n18       0.013469      0.002967         0.005216    6.386257e-04       1   \n19       0.017346      0.002491         0.007279    1.785030e-03       1   \n20       0.014124      0.002024         0.006002    1.213083e-03       1   \n21       0.020337      0.013014         0.013506    1.310402e-02       1   \n22       0.033741      0.004980         0.014009    5.599516e-03       1   \n23       0.021381      0.002077         0.010244    2.260282e-03       1   \n24       0.026477      0.022641         0.006307    6.355863e-04      10   \n25       0.025848      0.014687         0.009652    1.515672e-03      10   \n26       0.031028      0.011435         0.010430    1.584862e-03      10   \n27       0.027455      0.021303         0.009541    3.930961e-03      10   \n28       0.021905      0.001477         0.010067    1.193763e-03      10   \n29       0.032768      0.015607         0.010381    1.362860e-03      10   \n30       0.014560      0.000488         0.006239    5.076889e-04     100   \n31       0.014258      0.002892         0.006476    1.169183e-03     100   \n32       0.013839      0.002863         0.007312    1.381693e-03     100   \n33       0.017580      0.000652         0.007942    3.322134e-03     100   \n34       0.017492      0.000916         0.008242    2.529246e-03     100   \n35       0.015185      0.001181         0.006583    1.352825e-03     100   \n36       0.003988      0.000891         0.001198    4.003288e-04   0.001   \n37       0.013816      0.006312         0.000998    6.289914e-07    0.01   \n38       0.060921      0.021208         0.001609    4.991470e-04     0.1   \n39       0.759134      0.605804         0.001058    2.963166e-05       1   \n40       6.906391      5.568902         0.001489    5.129125e-04      10   \n41       5.308227      4.810249         0.001204    3.775673e-04     100   \n\n   param_gamma param_kernel                                         params  \\\n0        0.001          rbf  {'C': 0.001, 'gamma': 0.001, 'kernel': 'rbf'}   \n1         0.01          rbf   {'C': 0.001, 'gamma': 0.01, 'kernel': 'rbf'}   \n2          0.1          rbf    {'C': 0.001, 'gamma': 0.1, 'kernel': 'rbf'}   \n3            1          rbf      {'C': 0.001, 'gamma': 1, 'kernel': 'rbf'}   \n4           10          rbf     {'C': 0.001, 'gamma': 10, 'kernel': 'rbf'}   \n5          100          rbf    {'C': 0.001, 'gamma': 100, 'kernel': 'rbf'}   \n6        0.001          rbf   {'C': 0.01, 'gamma': 0.001, 'kernel': 'rbf'}   \n7         0.01          rbf    {'C': 0.01, 'gamma': 0.01, 'kernel': 'rbf'}   \n8          0.1          rbf     {'C': 0.01, 'gamma': 0.1, 'kernel': 'rbf'}   \n9            1          rbf       {'C': 0.01, 'gamma': 1, 'kernel': 'rbf'}   \n10          10          rbf      {'C': 0.01, 'gamma': 10, 'kernel': 'rbf'}   \n11         100          rbf     {'C': 0.01, 'gamma': 100, 'kernel': 'rbf'}   \n12       0.001          rbf    {'C': 0.1, 'gamma': 0.001, 'kernel': 'rbf'}   \n13        0.01          rbf     {'C': 0.1, 'gamma': 0.01, 'kernel': 'rbf'}   \n14         0.1          rbf      {'C': 0.1, 'gamma': 0.1, 'kernel': 'rbf'}   \n15           1          rbf        {'C': 0.1, 'gamma': 1, 'kernel': 'rbf'}   \n16          10          rbf       {'C': 0.1, 'gamma': 10, 'kernel': 'rbf'}   \n17         100          rbf      {'C': 0.1, 'gamma': 100, 'kernel': 'rbf'}   \n18       0.001          rbf      {'C': 1, 'gamma': 0.001, 'kernel': 'rbf'}   \n19        0.01          rbf       {'C': 1, 'gamma': 0.01, 'kernel': 'rbf'}   \n20         0.1          rbf        {'C': 1, 'gamma': 0.1, 'kernel': 'rbf'}   \n21           1          rbf          {'C': 1, 'gamma': 1, 'kernel': 'rbf'}   \n22          10          rbf         {'C': 1, 'gamma': 10, 'kernel': 'rbf'}   \n23         100          rbf        {'C': 1, 'gamma': 100, 'kernel': 'rbf'}   \n24       0.001          rbf     {'C': 10, 'gamma': 0.001, 'kernel': 'rbf'}   \n25        0.01          rbf      {'C': 10, 'gamma': 0.01, 'kernel': 'rbf'}   \n26         0.1          rbf       {'C': 10, 'gamma': 0.1, 'kernel': 'rbf'}   \n27           1          rbf         {'C': 10, 'gamma': 1, 'kernel': 'rbf'}   \n28          10          rbf        {'C': 10, 'gamma': 10, 'kernel': 'rbf'}   \n29         100          rbf       {'C': 10, 'gamma': 100, 'kernel': 'rbf'}   \n30       0.001          rbf    {'C': 100, 'gamma': 0.001, 'kernel': 'rbf'}   \n31        0.01          rbf     {'C': 100, 'gamma': 0.01, 'kernel': 'rbf'}   \n32         0.1          rbf      {'C': 100, 'gamma': 0.1, 'kernel': 'rbf'}   \n33           1          rbf        {'C': 100, 'gamma': 1, 'kernel': 'rbf'}   \n34          10          rbf       {'C': 100, 'gamma': 10, 'kernel': 'rbf'}   \n35         100          rbf      {'C': 100, 'gamma': 100, 'kernel': 'rbf'}   \n36         NaN       linear               {'C': 0.001, 'kernel': 'linear'}   \n37         NaN       linear                {'C': 0.01, 'kernel': 'linear'}   \n38         NaN       linear                 {'C': 0.1, 'kernel': 'linear'}   \n39         NaN       linear                   {'C': 1, 'kernel': 'linear'}   \n40         NaN       linear                  {'C': 10, 'kernel': 'linear'}   \n41         NaN       linear                 {'C': 100, 'kernel': 'linear'}   \n\n    split0_test_score  split1_test_score  split2_test_score  \\\n0            0.625000           0.640625           0.640625   \n1            0.625000           0.640625           0.640625   \n2            0.625000           0.640625           0.640625   \n3            0.625000           0.640625           0.640625   \n4            0.625000           0.640625           0.640625   \n5            0.625000           0.640625           0.640625   \n6            0.625000           0.640625           0.640625   \n7            0.625000           0.640625           0.640625   \n8            0.625000           0.640625           0.640625   \n9            0.625000           0.640625           0.640625   \n10           0.625000           0.640625           0.640625   \n11           0.625000           0.640625           0.640625   \n12           0.625000           0.640625           0.640625   \n13           0.625000           0.640625           0.640625   \n14           0.625000           0.640625           0.640625   \n15           0.625000           0.640625           0.640625   \n16           0.625000           0.640625           0.640625   \n17           0.625000           0.640625           0.640625   \n18           0.937500           0.875000           0.875000   \n19           0.625000           0.640625           0.625000   \n20           0.625000           0.640625           0.640625   \n21           0.625000           0.640625           0.640625   \n22           0.625000           0.640625           0.640625   \n23           0.625000           0.640625           0.640625   \n24           0.937500           0.859375           0.875000   \n25           0.625000           0.640625           0.625000   \n26           0.625000           0.640625           0.640625   \n27           0.625000           0.640625           0.640625   \n28           0.625000           0.640625           0.640625   \n29           0.625000           0.640625           0.640625   \n30           0.937500           0.859375           0.875000   \n31           0.625000           0.640625           0.625000   \n32           0.625000           0.640625           0.640625   \n33           0.625000           0.640625           0.640625   \n34           0.625000           0.640625           0.640625   \n35           0.625000           0.640625           0.640625   \n36           0.968750           0.937500           0.890625   \n37           0.953125           0.953125           0.890625   \n38           0.953125           0.968750           0.937500   \n39           0.937500           0.968750           0.937500   \n40           0.937500           0.968750           0.890625   \n41           0.937500           0.968750           0.906250   \n\n    split3_test_score  split4_test_score  mean_test_score  std_test_score  \\\n0            0.640625           0.634921         0.636359        0.006094   \n1            0.640625           0.634921         0.636359        0.006094   \n2            0.640625           0.634921         0.636359        0.006094   \n3            0.640625           0.634921         0.636359        0.006094   \n4            0.640625           0.634921         0.636359        0.006094   \n5            0.640625           0.634921         0.636359        0.006094   \n6            0.640625           0.634921         0.636359        0.006094   \n7            0.640625           0.634921         0.636359        0.006094   \n8            0.640625           0.634921         0.636359        0.006094   \n9            0.640625           0.634921         0.636359        0.006094   \n10           0.640625           0.634921         0.636359        0.006094   \n11           0.640625           0.634921         0.636359        0.006094   \n12           0.640625           0.634921         0.636359        0.006094   \n13           0.640625           0.634921         0.636359        0.006094   \n14           0.640625           0.634921         0.636359        0.006094   \n15           0.640625           0.634921         0.636359        0.006094   \n16           0.640625           0.634921         0.636359        0.006094   \n17           0.640625           0.634921         0.636359        0.006094   \n18           0.937500           0.968254         0.918651        0.037368   \n19           0.640625           0.634921         0.633234        0.007038   \n20           0.640625           0.634921         0.636359        0.006094   \n21           0.640625           0.634921         0.636359        0.006094   \n22           0.640625           0.634921         0.636359        0.006094   \n23           0.640625           0.634921         0.636359        0.006094   \n24           0.937500           0.968254         0.915526        0.041331   \n25           0.640625           0.634921         0.633234        0.007038   \n26           0.640625           0.634921         0.636359        0.006094   \n27           0.640625           0.634921         0.636359        0.006094   \n28           0.640625           0.634921         0.636359        0.006094   \n29           0.640625           0.634921         0.636359        0.006094   \n30           0.937500           0.968254         0.915526        0.041331   \n31           0.640625           0.634921         0.633234        0.007038   \n32           0.640625           0.634921         0.636359        0.006094   \n33           0.640625           0.634921         0.636359        0.006094   \n34           0.640625           0.634921         0.636359        0.006094   \n35           0.640625           0.634921         0.636359        0.006094   \n36           0.968750           0.984127         0.949950        0.033315   \n37           0.984375           0.984127         0.953075        0.034187   \n38           0.984375           0.968254         0.962401        0.015897   \n39           0.968750           0.968254         0.956151        0.015229   \n40           0.968750           0.920635         0.937252        0.029781   \n41           0.968750           0.952381         0.946726        0.023347   \n\n    rank_test_score  \n0                10  \n1                10  \n2                10  \n3                10  \n4                10  \n5                10  \n6                10  \n7                10  \n8                10  \n9                10  \n10               10  \n11               10  \n12               10  \n13               10  \n14               10  \n15               10  \n16               10  \n17               10  \n18                7  \n19               40  \n20               10  \n21               10  \n22               10  \n23               10  \n24                8  \n25               40  \n26               10  \n27               10  \n28               10  \n29               10  \n30                8  \n31               40  \n32               10  \n33               10  \n34               10  \n35               10  \n36                4  \n37                3  \n38                1  \n39                2  \n40                6  \n41                5  ",
      "text/html": "<div>\n<style scoped>\n    .dataframe tbody tr th:only-of-type {\n        vertical-align: middle;\n    }\n\n    .dataframe tbody tr th {\n        vertical-align: top;\n    }\n\n    .dataframe thead th {\n        text-align: right;\n    }\n</style>\n<table border=\"1\" class=\"dataframe\">\n  <thead>\n    <tr style=\"text-align: right;\">\n      <th></th>\n      <th>mean_fit_time</th>\n      <th>std_fit_time</th>\n      <th>mean_score_time</th>\n      <th>std_score_time</th>\n      <th>param_C</th>\n      <th>param_gamma</th>\n      <th>param_kernel</th>\n      <th>params</th>\n      <th>split0_test_score</th>\n      <th>split1_test_score</th>\n      <th>split2_test_score</th>\n      <th>split3_test_score</th>\n      <th>split4_test_score</th>\n      <th>mean_test_score</th>\n      <th>std_test_score</th>\n      <th>rank_test_score</th>\n    </tr>\n  </thead>\n  <tbody>\n    <tr>\n      <th>0</th>\n      <td>0.009201</td>\n      <td>0.001953</td>\n      <td>0.004675</td>\n      <td>8.184555e-04</td>\n      <td>0.001</td>\n      <td>0.001</td>\n      <td>rbf</td>\n      <td>{'C': 0.001, 'gamma': 0.001, 'kernel': 'rbf'}</td>\n      <td>0.625000</td>\n      <td>0.640625</td>\n      <td>0.640625</td>\n      <td>0.640625</td>\n      <td>0.634921</td>\n      <td>0.636359</td>\n      <td>0.006094</td>\n      <td>10</td>\n    </tr>\n    <tr>\n      <th>1</th>\n      <td>0.008527</td>\n      <td>0.000674</td>\n      <td>0.004649</td>\n      <td>7.815133e-04</td>\n      <td>0.001</td>\n      <td>0.01</td>\n      <td>rbf</td>\n      <td>{'C': 0.001, 'gamma': 0.01, 'kernel': 'rbf'}</td>\n      <td>0.625000</td>\n      <td>0.640625</td>\n      <td>0.640625</td>\n      <td>0.640625</td>\n      <td>0.634921</td>\n      <td>0.636359</td>\n      <td>0.006094</td>\n      <td>10</td>\n    </tr>\n    <tr>\n      <th>2</th>\n      <td>0.009416</td>\n      <td>0.001081</td>\n      <td>0.003764</td>\n      <td>4.278516e-04</td>\n      <td>0.001</td>\n      <td>0.1</td>\n      <td>rbf</td>\n      <td>{'C': 0.001, 'gamma': 0.1, 'kernel': 'rbf'}</td>\n      <td>0.625000</td>\n      <td>0.640625</td>\n      <td>0.640625</td>\n      <td>0.640625</td>\n      <td>0.634921</td>\n      <td>0.636359</td>\n      <td>0.006094</td>\n      <td>10</td>\n    </tr>\n    <tr>\n      <th>3</th>\n      <td>0.015506</td>\n      <td>0.010074</td>\n      <td>0.006197</td>\n      <td>2.416492e-03</td>\n      <td>0.001</td>\n      <td>1</td>\n      <td>rbf</td>\n      <td>{'C': 0.001, 'gamma': 1, 'kernel': 'rbf'}</td>\n      <td>0.625000</td>\n      <td>0.640625</td>\n      <td>0.640625</td>\n      <td>0.640625</td>\n      <td>0.634921</td>\n      <td>0.636359</td>\n      <td>0.006094</td>\n      <td>10</td>\n    </tr>\n    <tr>\n      <th>4</th>\n      <td>0.016586</td>\n      <td>0.006156</td>\n      <td>0.007132</td>\n      <td>2.768359e-03</td>\n      <td>0.001</td>\n      <td>10</td>\n      <td>rbf</td>\n      <td>{'C': 0.001, 'gamma': 10, 'kernel': 'rbf'}</td>\n      <td>0.625000</td>\n      <td>0.640625</td>\n      <td>0.640625</td>\n      <td>0.640625</td>\n      <td>0.634921</td>\n      <td>0.636359</td>\n      <td>0.006094</td>\n      <td>10</td>\n    </tr>\n    <tr>\n      <th>5</th>\n      <td>0.012731</td>\n      <td>0.001130</td>\n      <td>0.006011</td>\n      <td>8.203884e-04</td>\n      <td>0.001</td>\n      <td>100</td>\n      <td>rbf</td>\n      <td>{'C': 0.001, 'gamma': 100, 'kernel': 'rbf'}</td>\n      <td>0.625000</td>\n      <td>0.640625</td>\n      <td>0.640625</td>\n      <td>0.640625</td>\n      <td>0.634921</td>\n      <td>0.636359</td>\n      <td>0.006094</td>\n      <td>10</td>\n    </tr>\n    <tr>\n      <th>6</th>\n      <td>0.008128</td>\n      <td>0.000670</td>\n      <td>0.004207</td>\n      <td>6.279729e-04</td>\n      <td>0.01</td>\n      <td>0.001</td>\n      <td>rbf</td>\n      <td>{'C': 0.01, 'gamma': 0.001, 'kernel': 'rbf'}</td>\n      <td>0.625000</td>\n      <td>0.640625</td>\n      <td>0.640625</td>\n      <td>0.640625</td>\n      <td>0.634921</td>\n      <td>0.636359</td>\n      <td>0.006094</td>\n      <td>10</td>\n    </tr>\n    <tr>\n      <th>7</th>\n      <td>0.010953</td>\n      <td>0.000531</td>\n      <td>0.005677</td>\n      <td>4.857623e-04</td>\n      <td>0.01</td>\n      <td>0.01</td>\n      <td>rbf</td>\n      <td>{'C': 0.01, 'gamma': 0.01, 'kernel': 'rbf'}</td>\n      <td>0.625000</td>\n      <td>0.640625</td>\n      <td>0.640625</td>\n      <td>0.640625</td>\n      <td>0.634921</td>\n      <td>0.636359</td>\n      <td>0.006094</td>\n      <td>10</td>\n    </tr>\n    <tr>\n      <th>8</th>\n      <td>0.011834</td>\n      <td>0.000764</td>\n      <td>0.005634</td>\n      <td>7.785174e-04</td>\n      <td>0.01</td>\n      <td>0.1</td>\n      <td>rbf</td>\n      <td>{'C': 0.01, 'gamma': 0.1, 'kernel': 'rbf'}</td>\n      <td>0.625000</td>\n      <td>0.640625</td>\n      <td>0.640625</td>\n      <td>0.640625</td>\n      <td>0.634921</td>\n      <td>0.636359</td>\n      <td>0.006094</td>\n      <td>10</td>\n    </tr>\n    <tr>\n      <th>9</th>\n      <td>0.012800</td>\n      <td>0.002423</td>\n      <td>0.006972</td>\n      <td>7.954279e-04</td>\n      <td>0.01</td>\n      <td>1</td>\n      <td>rbf</td>\n      <td>{'C': 0.01, 'gamma': 1, 'kernel': 'rbf'}</td>\n      <td>0.625000</td>\n      <td>0.640625</td>\n      <td>0.640625</td>\n      <td>0.640625</td>\n      <td>0.634921</td>\n      <td>0.636359</td>\n      <td>0.006094</td>\n      <td>10</td>\n    </tr>\n    <tr>\n      <th>10</th>\n      <td>0.012632</td>\n      <td>0.000904</td>\n      <td>0.006159</td>\n      <td>7.747918e-04</td>\n      <td>0.01</td>\n      <td>10</td>\n      <td>rbf</td>\n      <td>{'C': 0.01, 'gamma': 10, 'kernel': 'rbf'}</td>\n      <td>0.625000</td>\n      <td>0.640625</td>\n      <td>0.640625</td>\n      <td>0.640625</td>\n      <td>0.634921</td>\n      <td>0.636359</td>\n      <td>0.006094</td>\n      <td>10</td>\n    </tr>\n    <tr>\n      <th>11</th>\n      <td>0.012476</td>\n      <td>0.001070</td>\n      <td>0.006093</td>\n      <td>1.323615e-03</td>\n      <td>0.01</td>\n      <td>100</td>\n      <td>rbf</td>\n      <td>{'C': 0.01, 'gamma': 100, 'kernel': 'rbf'}</td>\n      <td>0.625000</td>\n      <td>0.640625</td>\n      <td>0.640625</td>\n      <td>0.640625</td>\n      <td>0.634921</td>\n      <td>0.636359</td>\n      <td>0.006094</td>\n      <td>10</td>\n    </tr>\n    <tr>\n      <th>12</th>\n      <td>0.008351</td>\n      <td>0.001158</td>\n      <td>0.003847</td>\n      <td>5.893549e-04</td>\n      <td>0.1</td>\n      <td>0.001</td>\n      <td>rbf</td>\n      <td>{'C': 0.1, 'gamma': 0.001, 'kernel': 'rbf'}</td>\n      <td>0.625000</td>\n      <td>0.640625</td>\n      <td>0.640625</td>\n      <td>0.640625</td>\n      <td>0.634921</td>\n      <td>0.636359</td>\n      <td>0.006094</td>\n      <td>10</td>\n    </tr>\n    <tr>\n      <th>13</th>\n      <td>0.011214</td>\n      <td>0.000424</td>\n      <td>0.005520</td>\n      <td>4.085096e-04</td>\n      <td>0.1</td>\n      <td>0.01</td>\n      <td>rbf</td>\n      <td>{'C': 0.1, 'gamma': 0.01, 'kernel': 'rbf'}</td>\n      <td>0.625000</td>\n      <td>0.640625</td>\n      <td>0.640625</td>\n      <td>0.640625</td>\n      <td>0.634921</td>\n      <td>0.636359</td>\n      <td>0.006094</td>\n      <td>10</td>\n    </tr>\n    <tr>\n      <th>14</th>\n      <td>0.014240</td>\n      <td>0.004259</td>\n      <td>0.006342</td>\n      <td>6.332121e-04</td>\n      <td>0.1</td>\n      <td>0.1</td>\n      <td>rbf</td>\n      <td>{'C': 0.1, 'gamma': 0.1, 'kernel': 'rbf'}</td>\n      <td>0.625000</td>\n      <td>0.640625</td>\n      <td>0.640625</td>\n      <td>0.640625</td>\n      <td>0.634921</td>\n      <td>0.636359</td>\n      <td>0.006094</td>\n      <td>10</td>\n    </tr>\n    <tr>\n      <th>15</th>\n      <td>0.024804</td>\n      <td>0.006220</td>\n      <td>0.021273</td>\n      <td>2.097915e-02</td>\n      <td>0.1</td>\n      <td>1</td>\n      <td>rbf</td>\n      <td>{'C': 0.1, 'gamma': 1, 'kernel': 'rbf'}</td>\n      <td>0.625000</td>\n      <td>0.640625</td>\n      <td>0.640625</td>\n      <td>0.640625</td>\n      <td>0.634921</td>\n      <td>0.636359</td>\n      <td>0.006094</td>\n      <td>10</td>\n    </tr>\n    <tr>\n      <th>16</th>\n      <td>0.019168</td>\n      <td>0.000957</td>\n      <td>0.008730</td>\n      <td>3.991846e-04</td>\n      <td>0.1</td>\n      <td>10</td>\n      <td>rbf</td>\n      <td>{'C': 0.1, 'gamma': 10, 'kernel': 'rbf'}</td>\n      <td>0.625000</td>\n      <td>0.640625</td>\n      <td>0.640625</td>\n      <td>0.640625</td>\n      <td>0.634921</td>\n      <td>0.636359</td>\n      <td>0.006094</td>\n      <td>10</td>\n    </tr>\n    <tr>\n      <th>17</th>\n      <td>0.062456</td>\n      <td>0.071928</td>\n      <td>0.045899</td>\n      <td>6.628390e-02</td>\n      <td>0.1</td>\n      <td>100</td>\n      <td>rbf</td>\n      <td>{'C': 0.1, 'gamma': 100, 'kernel': 'rbf'}</td>\n      <td>0.625000</td>\n      <td>0.640625</td>\n      <td>0.640625</td>\n      <td>0.640625</td>\n      <td>0.634921</td>\n      <td>0.636359</td>\n      <td>0.006094</td>\n      <td>10</td>\n    </tr>\n    <tr>\n      <th>18</th>\n      <td>0.013469</td>\n      <td>0.002967</td>\n      <td>0.005216</td>\n      <td>6.386257e-04</td>\n      <td>1</td>\n      <td>0.001</td>\n      <td>rbf</td>\n      <td>{'C': 1, 'gamma': 0.001, 'kernel': 'rbf'}</td>\n      <td>0.937500</td>\n      <td>0.875000</td>\n      <td>0.875000</td>\n      <td>0.937500</td>\n      <td>0.968254</td>\n      <td>0.918651</td>\n      <td>0.037368</td>\n      <td>7</td>\n    </tr>\n    <tr>\n      <th>19</th>\n      <td>0.017346</td>\n      <td>0.002491</td>\n      <td>0.007279</td>\n      <td>1.785030e-03</td>\n      <td>1</td>\n      <td>0.01</td>\n      <td>rbf</td>\n      <td>{'C': 1, 'gamma': 0.01, 'kernel': 'rbf'}</td>\n      <td>0.625000</td>\n      <td>0.640625</td>\n      <td>0.625000</td>\n      <td>0.640625</td>\n      <td>0.634921</td>\n      <td>0.633234</td>\n      <td>0.007038</td>\n      <td>40</td>\n    </tr>\n    <tr>\n      <th>20</th>\n      <td>0.014124</td>\n      <td>0.002024</td>\n      <td>0.006002</td>\n      <td>1.213083e-03</td>\n      <td>1</td>\n      <td>0.1</td>\n      <td>rbf</td>\n      <td>{'C': 1, 'gamma': 0.1, 'kernel': 'rbf'}</td>\n      <td>0.625000</td>\n      <td>0.640625</td>\n      <td>0.640625</td>\n      <td>0.640625</td>\n      <td>0.634921</td>\n      <td>0.636359</td>\n      <td>0.006094</td>\n      <td>10</td>\n    </tr>\n    <tr>\n      <th>21</th>\n      <td>0.020337</td>\n      <td>0.013014</td>\n      <td>0.013506</td>\n      <td>1.310402e-02</td>\n      <td>1</td>\n      <td>1</td>\n      <td>rbf</td>\n      <td>{'C': 1, 'gamma': 1, 'kernel': 'rbf'}</td>\n      <td>0.625000</td>\n      <td>0.640625</td>\n      <td>0.640625</td>\n      <td>0.640625</td>\n      <td>0.634921</td>\n      <td>0.636359</td>\n      <td>0.006094</td>\n      <td>10</td>\n    </tr>\n    <tr>\n      <th>22</th>\n      <td>0.033741</td>\n      <td>0.004980</td>\n      <td>0.014009</td>\n      <td>5.599516e-03</td>\n      <td>1</td>\n      <td>10</td>\n      <td>rbf</td>\n      <td>{'C': 1, 'gamma': 10, 'kernel': 'rbf'}</td>\n      <td>0.625000</td>\n      <td>0.640625</td>\n      <td>0.640625</td>\n      <td>0.640625</td>\n      <td>0.634921</td>\n      <td>0.636359</td>\n      <td>0.006094</td>\n      <td>10</td>\n    </tr>\n    <tr>\n      <th>23</th>\n      <td>0.021381</td>\n      <td>0.002077</td>\n      <td>0.010244</td>\n      <td>2.260282e-03</td>\n      <td>1</td>\n      <td>100</td>\n      <td>rbf</td>\n      <td>{'C': 1, 'gamma': 100, 'kernel': 'rbf'}</td>\n      <td>0.625000</td>\n      <td>0.640625</td>\n      <td>0.640625</td>\n      <td>0.640625</td>\n      <td>0.634921</td>\n      <td>0.636359</td>\n      <td>0.006094</td>\n      <td>10</td>\n    </tr>\n    <tr>\n      <th>24</th>\n      <td>0.026477</td>\n      <td>0.022641</td>\n      <td>0.006307</td>\n      <td>6.355863e-04</td>\n      <td>10</td>\n      <td>0.001</td>\n      <td>rbf</td>\n      <td>{'C': 10, 'gamma': 0.001, 'kernel': 'rbf'}</td>\n      <td>0.937500</td>\n      <td>0.859375</td>\n      <td>0.875000</td>\n      <td>0.937500</td>\n      <td>0.968254</td>\n      <td>0.915526</td>\n      <td>0.041331</td>\n      <td>8</td>\n    </tr>\n    <tr>\n      <th>25</th>\n      <td>0.025848</td>\n      <td>0.014687</td>\n      <td>0.009652</td>\n      <td>1.515672e-03</td>\n      <td>10</td>\n      <td>0.01</td>\n      <td>rbf</td>\n      <td>{'C': 10, 'gamma': 0.01, 'kernel': 'rbf'}</td>\n      <td>0.625000</td>\n      <td>0.640625</td>\n      <td>0.625000</td>\n      <td>0.640625</td>\n      <td>0.634921</td>\n      <td>0.633234</td>\n      <td>0.007038</td>\n      <td>40</td>\n    </tr>\n    <tr>\n      <th>26</th>\n      <td>0.031028</td>\n      <td>0.011435</td>\n      <td>0.010430</td>\n      <td>1.584862e-03</td>\n      <td>10</td>\n      <td>0.1</td>\n      <td>rbf</td>\n      <td>{'C': 10, 'gamma': 0.1, 'kernel': 'rbf'}</td>\n      <td>0.625000</td>\n      <td>0.640625</td>\n      <td>0.640625</td>\n      <td>0.640625</td>\n      <td>0.634921</td>\n      <td>0.636359</td>\n      <td>0.006094</td>\n      <td>10</td>\n    </tr>\n    <tr>\n      <th>27</th>\n      <td>0.027455</td>\n      <td>0.021303</td>\n      <td>0.009541</td>\n      <td>3.930961e-03</td>\n      <td>10</td>\n      <td>1</td>\n      <td>rbf</td>\n      <td>{'C': 10, 'gamma': 1, 'kernel': 'rbf'}</td>\n      <td>0.625000</td>\n      <td>0.640625</td>\n      <td>0.640625</td>\n      <td>0.640625</td>\n      <td>0.634921</td>\n      <td>0.636359</td>\n      <td>0.006094</td>\n      <td>10</td>\n    </tr>\n    <tr>\n      <th>28</th>\n      <td>0.021905</td>\n      <td>0.001477</td>\n      <td>0.010067</td>\n      <td>1.193763e-03</td>\n      <td>10</td>\n      <td>10</td>\n      <td>rbf</td>\n      <td>{'C': 10, 'gamma': 10, 'kernel': 'rbf'}</td>\n      <td>0.625000</td>\n      <td>0.640625</td>\n      <td>0.640625</td>\n      <td>0.640625</td>\n      <td>0.634921</td>\n      <td>0.636359</td>\n      <td>0.006094</td>\n      <td>10</td>\n    </tr>\n    <tr>\n      <th>29</th>\n      <td>0.032768</td>\n      <td>0.015607</td>\n      <td>0.010381</td>\n      <td>1.362860e-03</td>\n      <td>10</td>\n      <td>100</td>\n      <td>rbf</td>\n      <td>{'C': 10, 'gamma': 100, 'kernel': 'rbf'}</td>\n      <td>0.625000</td>\n      <td>0.640625</td>\n      <td>0.640625</td>\n      <td>0.640625</td>\n      <td>0.634921</td>\n      <td>0.636359</td>\n      <td>0.006094</td>\n      <td>10</td>\n    </tr>\n    <tr>\n      <th>30</th>\n      <td>0.014560</td>\n      <td>0.000488</td>\n      <td>0.006239</td>\n      <td>5.076889e-04</td>\n      <td>100</td>\n      <td>0.001</td>\n      <td>rbf</td>\n      <td>{'C': 100, 'gamma': 0.001, 'kernel': 'rbf'}</td>\n      <td>0.937500</td>\n      <td>0.859375</td>\n      <td>0.875000</td>\n      <td>0.937500</td>\n      <td>0.968254</td>\n      <td>0.915526</td>\n      <td>0.041331</td>\n      <td>8</td>\n    </tr>\n    <tr>\n      <th>31</th>\n      <td>0.014258</td>\n      <td>0.002892</td>\n      <td>0.006476</td>\n      <td>1.169183e-03</td>\n      <td>100</td>\n      <td>0.01</td>\n      <td>rbf</td>\n      <td>{'C': 100, 'gamma': 0.01, 'kernel': 'rbf'}</td>\n      <td>0.625000</td>\n      <td>0.640625</td>\n      <td>0.625000</td>\n      <td>0.640625</td>\n      <td>0.634921</td>\n      <td>0.633234</td>\n      <td>0.007038</td>\n      <td>40</td>\n    </tr>\n    <tr>\n      <th>32</th>\n      <td>0.013839</td>\n      <td>0.002863</td>\n      <td>0.007312</td>\n      <td>1.381693e-03</td>\n      <td>100</td>\n      <td>0.1</td>\n      <td>rbf</td>\n      <td>{'C': 100, 'gamma': 0.1, 'kernel': 'rbf'}</td>\n      <td>0.625000</td>\n      <td>0.640625</td>\n      <td>0.640625</td>\n      <td>0.640625</td>\n      <td>0.634921</td>\n      <td>0.636359</td>\n      <td>0.006094</td>\n      <td>10</td>\n    </tr>\n    <tr>\n      <th>33</th>\n      <td>0.017580</td>\n      <td>0.000652</td>\n      <td>0.007942</td>\n      <td>3.322134e-03</td>\n      <td>100</td>\n      <td>1</td>\n      <td>rbf</td>\n      <td>{'C': 100, 'gamma': 1, 'kernel': 'rbf'}</td>\n      <td>0.625000</td>\n      <td>0.640625</td>\n      <td>0.640625</td>\n      <td>0.640625</td>\n      <td>0.634921</td>\n      <td>0.636359</td>\n      <td>0.006094</td>\n      <td>10</td>\n    </tr>\n    <tr>\n      <th>34</th>\n      <td>0.017492</td>\n      <td>0.000916</td>\n      <td>0.008242</td>\n      <td>2.529246e-03</td>\n      <td>100</td>\n      <td>10</td>\n      <td>rbf</td>\n      <td>{'C': 100, 'gamma': 10, 'kernel': 'rbf'}</td>\n      <td>0.625000</td>\n      <td>0.640625</td>\n      <td>0.640625</td>\n      <td>0.640625</td>\n      <td>0.634921</td>\n      <td>0.636359</td>\n      <td>0.006094</td>\n      <td>10</td>\n    </tr>\n    <tr>\n      <th>35</th>\n      <td>0.015185</td>\n      <td>0.001181</td>\n      <td>0.006583</td>\n      <td>1.352825e-03</td>\n      <td>100</td>\n      <td>100</td>\n      <td>rbf</td>\n      <td>{'C': 100, 'gamma': 100, 'kernel': 'rbf'}</td>\n      <td>0.625000</td>\n      <td>0.640625</td>\n      <td>0.640625</td>\n      <td>0.640625</td>\n      <td>0.634921</td>\n      <td>0.636359</td>\n      <td>0.006094</td>\n      <td>10</td>\n    </tr>\n    <tr>\n      <th>36</th>\n      <td>0.003988</td>\n      <td>0.000891</td>\n      <td>0.001198</td>\n      <td>4.003288e-04</td>\n      <td>0.001</td>\n      <td>NaN</td>\n      <td>linear</td>\n      <td>{'C': 0.001, 'kernel': 'linear'}</td>\n      <td>0.968750</td>\n      <td>0.937500</td>\n      <td>0.890625</td>\n      <td>0.968750</td>\n      <td>0.984127</td>\n      <td>0.949950</td>\n      <td>0.033315</td>\n      <td>4</td>\n    </tr>\n    <tr>\n      <th>37</th>\n      <td>0.013816</td>\n      <td>0.006312</td>\n      <td>0.000998</td>\n      <td>6.289914e-07</td>\n      <td>0.01</td>\n      <td>NaN</td>\n      <td>linear</td>\n      <td>{'C': 0.01, 'kernel': 'linear'}</td>\n      <td>0.953125</td>\n      <td>0.953125</td>\n      <td>0.890625</td>\n      <td>0.984375</td>\n      <td>0.984127</td>\n      <td>0.953075</td>\n      <td>0.034187</td>\n      <td>3</td>\n    </tr>\n    <tr>\n      <th>38</th>\n      <td>0.060921</td>\n      <td>0.021208</td>\n      <td>0.001609</td>\n      <td>4.991470e-04</td>\n      <td>0.1</td>\n      <td>NaN</td>\n      <td>linear</td>\n      <td>{'C': 0.1, 'kernel': 'linear'}</td>\n      <td>0.953125</td>\n      <td>0.968750</td>\n      <td>0.937500</td>\n      <td>0.984375</td>\n      <td>0.968254</td>\n      <td>0.962401</td>\n      <td>0.015897</td>\n      <td>1</td>\n    </tr>\n    <tr>\n      <th>39</th>\n      <td>0.759134</td>\n      <td>0.605804</td>\n      <td>0.001058</td>\n      <td>2.963166e-05</td>\n      <td>1</td>\n      <td>NaN</td>\n      <td>linear</td>\n      <td>{'C': 1, 'kernel': 'linear'}</td>\n      <td>0.937500</td>\n      <td>0.968750</td>\n      <td>0.937500</td>\n      <td>0.968750</td>\n      <td>0.968254</td>\n      <td>0.956151</td>\n      <td>0.015229</td>\n      <td>2</td>\n    </tr>\n    <tr>\n      <th>40</th>\n      <td>6.906391</td>\n      <td>5.568902</td>\n      <td>0.001489</td>\n      <td>5.129125e-04</td>\n      <td>10</td>\n      <td>NaN</td>\n      <td>linear</td>\n      <td>{'C': 10, 'kernel': 'linear'}</td>\n      <td>0.937500</td>\n      <td>0.968750</td>\n      <td>0.890625</td>\n      <td>0.968750</td>\n      <td>0.920635</td>\n      <td>0.937252</td>\n      <td>0.029781</td>\n      <td>6</td>\n    </tr>\n    <tr>\n      <th>41</th>\n      <td>5.308227</td>\n      <td>4.810249</td>\n      <td>0.001204</td>\n      <td>3.775673e-04</td>\n      <td>100</td>\n      <td>NaN</td>\n      <td>linear</td>\n      <td>{'C': 100, 'kernel': 'linear'}</td>\n      <td>0.937500</td>\n      <td>0.968750</td>\n      <td>0.906250</td>\n      <td>0.968750</td>\n      <td>0.952381</td>\n      <td>0.946726</td>\n      <td>0.023347</td>\n      <td>5</td>\n    </tr>\n  </tbody>\n</table>\n</div>"
     },
     "execution_count": 31,
     "metadata": {},
     "output_type": "execute_result"
    }
   ],
   "source": [
    "param_grid = [{'kernel': ['rbf'],\n",
    "               'C': [0.001, 0.01, 0.1, 1, 10, 100],\n",
    "               'gamma': [0.001, 0.01, 0.1, 1, 10, 100]},\n",
    "              {'kernel': ['linear'],\n",
    "               'C': [0.001, 0.01, 0.1, 1, 10, 100]}]\n",
    "grid_search = GridSearchCV(SVC(), param_grid, cv=5)\n",
    "grid_search.fit(X_train, y_train)\n",
    "\n",
    "print('best param values: {}'.format(grid_search.best_params_))\n",
    "print('best cross-val accuracy value: {:.2f}'.format(grid_search.best_score_))\n",
    "\n",
    "ress = pd.DataFrame(grid_search.cv_results_)\n",
    "ress"
   ],
   "metadata": {
    "collapsed": false,
    "ExecuteTime": {
     "end_time": "2023-12-18T08:28:27.848446600Z",
     "start_time": "2023-12-18T08:27:17.384509500Z"
    }
   },
   "id": "d143dcfdb9bd87a1"
  },
  {
   "cell_type": "code",
   "execution_count": 32,
   "outputs": [
    {
     "name": "stdout",
     "output_type": "stream",
     "text": [
      "best param values: {'C': 10, 'penalty': 'l2', 'solver': 'lbfgs'}\n",
      "best cross-val accuracy value: 0.96\n"
     ]
    },
    {
     "data": {
      "text/plain": "    mean_fit_time  std_fit_time  mean_score_time  std_score_time param_C  \\\n0        1.291901      0.242228         0.001276        0.000448     0.1   \n1        0.902377      0.086652         0.001070        0.000021     0.1   \n2        0.840726      0.057597         0.000648        0.000529     0.1   \n3        0.828544      0.033000         0.000855        0.000429       1   \n4        0.892063      0.030651         0.000854        0.000428       1   \n5        0.795967      0.038280         0.000614        0.000502       1   \n6        0.921827      0.062979         0.001057        0.000659      10   \n7        1.390854      0.195512         0.001700        0.000495      10   \n8        0.975100      0.096301         0.001043        0.000652      10   \n9        1.110006      0.234609         0.001266        0.001044     0.1   \n10       0.649327      0.061656         0.000843        0.000423     0.1   \n11       1.000196      0.359784         0.001082        0.000686       1   \n12       0.643276      0.081474         0.000874        0.000427       1   \n13       1.005225      0.141228         0.000635        0.000519      10   \n14       1.007263      0.331647         0.001050        0.000029      10   \n15       0.354646      0.042638         0.000805        0.000403     0.1   \n16       0.745033      0.092203         0.001029        0.000035       1   \n17       1.631086      0.600689         0.001029        0.000036      10   \n\n   param_l1_ratio param_penalty param_solver  \\\n0             0.2    elasticnet         saga   \n1             0.5    elasticnet         saga   \n2             0.8    elasticnet         saga   \n3             0.2    elasticnet         saga   \n4             0.5    elasticnet         saga   \n5             0.8    elasticnet         saga   \n6             0.2    elasticnet         saga   \n7             0.5    elasticnet         saga   \n8             0.8    elasticnet         saga   \n9             NaN            l1         saga   \n10            NaN            l2         saga   \n11            NaN            l1         saga   \n12            NaN            l2         saga   \n13            NaN            l1         saga   \n14            NaN            l2         saga   \n15            NaN            l2        lbfgs   \n16            NaN            l2        lbfgs   \n17            NaN            l2        lbfgs   \n\n                                               params  split0_test_score  \\\n0   {'C': 0.1, 'l1_ratio': 0.2, 'penalty': 'elasti...           0.953488   \n1   {'C': 0.1, 'l1_ratio': 0.5, 'penalty': 'elasti...           0.953488   \n2   {'C': 0.1, 'l1_ratio': 0.8, 'penalty': 'elasti...           0.953488   \n3   {'C': 1, 'l1_ratio': 0.2, 'penalty': 'elasticn...           0.953488   \n4   {'C': 1, 'l1_ratio': 0.5, 'penalty': 'elasticn...           0.953488   \n5   {'C': 1, 'l1_ratio': 0.8, 'penalty': 'elasticn...           0.953488   \n6   {'C': 10, 'l1_ratio': 0.2, 'penalty': 'elastic...           0.953488   \n7   {'C': 10, 'l1_ratio': 0.5, 'penalty': 'elastic...           0.953488   \n8   {'C': 10, 'l1_ratio': 0.8, 'penalty': 'elastic...           0.953488   \n9       {'C': 0.1, 'penalty': 'l1', 'solver': 'saga'}           0.953488   \n10      {'C': 0.1, 'penalty': 'l2', 'solver': 'saga'}           0.953488   \n11        {'C': 1, 'penalty': 'l1', 'solver': 'saga'}           0.953488   \n12        {'C': 1, 'penalty': 'l2', 'solver': 'saga'}           0.953488   \n13       {'C': 10, 'penalty': 'l1', 'solver': 'saga'}           0.953488   \n14       {'C': 10, 'penalty': 'l2', 'solver': 'saga'}           0.953488   \n15     {'C': 0.1, 'penalty': 'l2', 'solver': 'lbfgs'}           0.988372   \n16       {'C': 1, 'penalty': 'l2', 'solver': 'lbfgs'}           0.988372   \n17      {'C': 10, 'penalty': 'l2', 'solver': 'lbfgs'}           0.976744   \n\n    split1_test_score  split2_test_score  split3_test_score  \\\n0            0.858824           0.917647           0.894118   \n1            0.858824           0.917647           0.894118   \n2            0.858824           0.929412           0.894118   \n3            0.858824           0.917647           0.894118   \n4            0.858824           0.917647           0.894118   \n5            0.858824           0.917647           0.894118   \n6            0.858824           0.917647           0.894118   \n7            0.858824           0.917647           0.894118   \n8            0.858824           0.917647           0.894118   \n9            0.858824           0.929412           0.894118   \n10           0.858824           0.917647           0.894118   \n11           0.858824           0.917647           0.894118   \n12           0.858824           0.917647           0.894118   \n13           0.858824           0.917647           0.894118   \n14           0.858824           0.917647           0.894118   \n15           0.929412           0.905882           0.976471   \n16           0.941176           0.917647           0.976471   \n17           0.952941           0.917647           0.976471   \n\n    split4_test_score  mean_test_score  std_test_score  rank_test_score  \n0            0.917647         0.908345        0.031195                6  \n1            0.917647         0.908345        0.031195                6  \n2            0.917647         0.910698        0.032235                4  \n3            0.917647         0.908345        0.031195                6  \n4            0.917647         0.908345        0.031195                6  \n5            0.917647         0.908345        0.031195                6  \n6            0.917647         0.908345        0.031195                6  \n7            0.917647         0.908345        0.031195                6  \n8            0.917647         0.908345        0.031195                6  \n9            0.917647         0.910698        0.032235                4  \n10           0.917647         0.908345        0.031195                6  \n11           0.917647         0.908345        0.031195                6  \n12           0.917647         0.908345        0.031195                6  \n13           0.917647         0.908345        0.031195                6  \n14           0.917647         0.908345        0.031195                6  \n15           0.964706         0.952969        0.030710                3  \n16           0.964706         0.957674        0.025375                2  \n17           0.964706         0.957702        0.021868                1  ",
      "text/html": "<div>\n<style scoped>\n    .dataframe tbody tr th:only-of-type {\n        vertical-align: middle;\n    }\n\n    .dataframe tbody tr th {\n        vertical-align: top;\n    }\n\n    .dataframe thead th {\n        text-align: right;\n    }\n</style>\n<table border=\"1\" class=\"dataframe\">\n  <thead>\n    <tr style=\"text-align: right;\">\n      <th></th>\n      <th>mean_fit_time</th>\n      <th>std_fit_time</th>\n      <th>mean_score_time</th>\n      <th>std_score_time</th>\n      <th>param_C</th>\n      <th>param_l1_ratio</th>\n      <th>param_penalty</th>\n      <th>param_solver</th>\n      <th>params</th>\n      <th>split0_test_score</th>\n      <th>split1_test_score</th>\n      <th>split2_test_score</th>\n      <th>split3_test_score</th>\n      <th>split4_test_score</th>\n      <th>mean_test_score</th>\n      <th>std_test_score</th>\n      <th>rank_test_score</th>\n    </tr>\n  </thead>\n  <tbody>\n    <tr>\n      <th>0</th>\n      <td>1.291901</td>\n      <td>0.242228</td>\n      <td>0.001276</td>\n      <td>0.000448</td>\n      <td>0.1</td>\n      <td>0.2</td>\n      <td>elasticnet</td>\n      <td>saga</td>\n      <td>{'C': 0.1, 'l1_ratio': 0.2, 'penalty': 'elasti...</td>\n      <td>0.953488</td>\n      <td>0.858824</td>\n      <td>0.917647</td>\n      <td>0.894118</td>\n      <td>0.917647</td>\n      <td>0.908345</td>\n      <td>0.031195</td>\n      <td>6</td>\n    </tr>\n    <tr>\n      <th>1</th>\n      <td>0.902377</td>\n      <td>0.086652</td>\n      <td>0.001070</td>\n      <td>0.000021</td>\n      <td>0.1</td>\n      <td>0.5</td>\n      <td>elasticnet</td>\n      <td>saga</td>\n      <td>{'C': 0.1, 'l1_ratio': 0.5, 'penalty': 'elasti...</td>\n      <td>0.953488</td>\n      <td>0.858824</td>\n      <td>0.917647</td>\n      <td>0.894118</td>\n      <td>0.917647</td>\n      <td>0.908345</td>\n      <td>0.031195</td>\n      <td>6</td>\n    </tr>\n    <tr>\n      <th>2</th>\n      <td>0.840726</td>\n      <td>0.057597</td>\n      <td>0.000648</td>\n      <td>0.000529</td>\n      <td>0.1</td>\n      <td>0.8</td>\n      <td>elasticnet</td>\n      <td>saga</td>\n      <td>{'C': 0.1, 'l1_ratio': 0.8, 'penalty': 'elasti...</td>\n      <td>0.953488</td>\n      <td>0.858824</td>\n      <td>0.929412</td>\n      <td>0.894118</td>\n      <td>0.917647</td>\n      <td>0.910698</td>\n      <td>0.032235</td>\n      <td>4</td>\n    </tr>\n    <tr>\n      <th>3</th>\n      <td>0.828544</td>\n      <td>0.033000</td>\n      <td>0.000855</td>\n      <td>0.000429</td>\n      <td>1</td>\n      <td>0.2</td>\n      <td>elasticnet</td>\n      <td>saga</td>\n      <td>{'C': 1, 'l1_ratio': 0.2, 'penalty': 'elasticn...</td>\n      <td>0.953488</td>\n      <td>0.858824</td>\n      <td>0.917647</td>\n      <td>0.894118</td>\n      <td>0.917647</td>\n      <td>0.908345</td>\n      <td>0.031195</td>\n      <td>6</td>\n    </tr>\n    <tr>\n      <th>4</th>\n      <td>0.892063</td>\n      <td>0.030651</td>\n      <td>0.000854</td>\n      <td>0.000428</td>\n      <td>1</td>\n      <td>0.5</td>\n      <td>elasticnet</td>\n      <td>saga</td>\n      <td>{'C': 1, 'l1_ratio': 0.5, 'penalty': 'elasticn...</td>\n      <td>0.953488</td>\n      <td>0.858824</td>\n      <td>0.917647</td>\n      <td>0.894118</td>\n      <td>0.917647</td>\n      <td>0.908345</td>\n      <td>0.031195</td>\n      <td>6</td>\n    </tr>\n    <tr>\n      <th>5</th>\n      <td>0.795967</td>\n      <td>0.038280</td>\n      <td>0.000614</td>\n      <td>0.000502</td>\n      <td>1</td>\n      <td>0.8</td>\n      <td>elasticnet</td>\n      <td>saga</td>\n      <td>{'C': 1, 'l1_ratio': 0.8, 'penalty': 'elasticn...</td>\n      <td>0.953488</td>\n      <td>0.858824</td>\n      <td>0.917647</td>\n      <td>0.894118</td>\n      <td>0.917647</td>\n      <td>0.908345</td>\n      <td>0.031195</td>\n      <td>6</td>\n    </tr>\n    <tr>\n      <th>6</th>\n      <td>0.921827</td>\n      <td>0.062979</td>\n      <td>0.001057</td>\n      <td>0.000659</td>\n      <td>10</td>\n      <td>0.2</td>\n      <td>elasticnet</td>\n      <td>saga</td>\n      <td>{'C': 10, 'l1_ratio': 0.2, 'penalty': 'elastic...</td>\n      <td>0.953488</td>\n      <td>0.858824</td>\n      <td>0.917647</td>\n      <td>0.894118</td>\n      <td>0.917647</td>\n      <td>0.908345</td>\n      <td>0.031195</td>\n      <td>6</td>\n    </tr>\n    <tr>\n      <th>7</th>\n      <td>1.390854</td>\n      <td>0.195512</td>\n      <td>0.001700</td>\n      <td>0.000495</td>\n      <td>10</td>\n      <td>0.5</td>\n      <td>elasticnet</td>\n      <td>saga</td>\n      <td>{'C': 10, 'l1_ratio': 0.5, 'penalty': 'elastic...</td>\n      <td>0.953488</td>\n      <td>0.858824</td>\n      <td>0.917647</td>\n      <td>0.894118</td>\n      <td>0.917647</td>\n      <td>0.908345</td>\n      <td>0.031195</td>\n      <td>6</td>\n    </tr>\n    <tr>\n      <th>8</th>\n      <td>0.975100</td>\n      <td>0.096301</td>\n      <td>0.001043</td>\n      <td>0.000652</td>\n      <td>10</td>\n      <td>0.8</td>\n      <td>elasticnet</td>\n      <td>saga</td>\n      <td>{'C': 10, 'l1_ratio': 0.8, 'penalty': 'elastic...</td>\n      <td>0.953488</td>\n      <td>0.858824</td>\n      <td>0.917647</td>\n      <td>0.894118</td>\n      <td>0.917647</td>\n      <td>0.908345</td>\n      <td>0.031195</td>\n      <td>6</td>\n    </tr>\n    <tr>\n      <th>9</th>\n      <td>1.110006</td>\n      <td>0.234609</td>\n      <td>0.001266</td>\n      <td>0.001044</td>\n      <td>0.1</td>\n      <td>NaN</td>\n      <td>l1</td>\n      <td>saga</td>\n      <td>{'C': 0.1, 'penalty': 'l1', 'solver': 'saga'}</td>\n      <td>0.953488</td>\n      <td>0.858824</td>\n      <td>0.929412</td>\n      <td>0.894118</td>\n      <td>0.917647</td>\n      <td>0.910698</td>\n      <td>0.032235</td>\n      <td>4</td>\n    </tr>\n    <tr>\n      <th>10</th>\n      <td>0.649327</td>\n      <td>0.061656</td>\n      <td>0.000843</td>\n      <td>0.000423</td>\n      <td>0.1</td>\n      <td>NaN</td>\n      <td>l2</td>\n      <td>saga</td>\n      <td>{'C': 0.1, 'penalty': 'l2', 'solver': 'saga'}</td>\n      <td>0.953488</td>\n      <td>0.858824</td>\n      <td>0.917647</td>\n      <td>0.894118</td>\n      <td>0.917647</td>\n      <td>0.908345</td>\n      <td>0.031195</td>\n      <td>6</td>\n    </tr>\n    <tr>\n      <th>11</th>\n      <td>1.000196</td>\n      <td>0.359784</td>\n      <td>0.001082</td>\n      <td>0.000686</td>\n      <td>1</td>\n      <td>NaN</td>\n      <td>l1</td>\n      <td>saga</td>\n      <td>{'C': 1, 'penalty': 'l1', 'solver': 'saga'}</td>\n      <td>0.953488</td>\n      <td>0.858824</td>\n      <td>0.917647</td>\n      <td>0.894118</td>\n      <td>0.917647</td>\n      <td>0.908345</td>\n      <td>0.031195</td>\n      <td>6</td>\n    </tr>\n    <tr>\n      <th>12</th>\n      <td>0.643276</td>\n      <td>0.081474</td>\n      <td>0.000874</td>\n      <td>0.000427</td>\n      <td>1</td>\n      <td>NaN</td>\n      <td>l2</td>\n      <td>saga</td>\n      <td>{'C': 1, 'penalty': 'l2', 'solver': 'saga'}</td>\n      <td>0.953488</td>\n      <td>0.858824</td>\n      <td>0.917647</td>\n      <td>0.894118</td>\n      <td>0.917647</td>\n      <td>0.908345</td>\n      <td>0.031195</td>\n      <td>6</td>\n    </tr>\n    <tr>\n      <th>13</th>\n      <td>1.005225</td>\n      <td>0.141228</td>\n      <td>0.000635</td>\n      <td>0.000519</td>\n      <td>10</td>\n      <td>NaN</td>\n      <td>l1</td>\n      <td>saga</td>\n      <td>{'C': 10, 'penalty': 'l1', 'solver': 'saga'}</td>\n      <td>0.953488</td>\n      <td>0.858824</td>\n      <td>0.917647</td>\n      <td>0.894118</td>\n      <td>0.917647</td>\n      <td>0.908345</td>\n      <td>0.031195</td>\n      <td>6</td>\n    </tr>\n    <tr>\n      <th>14</th>\n      <td>1.007263</td>\n      <td>0.331647</td>\n      <td>0.001050</td>\n      <td>0.000029</td>\n      <td>10</td>\n      <td>NaN</td>\n      <td>l2</td>\n      <td>saga</td>\n      <td>{'C': 10, 'penalty': 'l2', 'solver': 'saga'}</td>\n      <td>0.953488</td>\n      <td>0.858824</td>\n      <td>0.917647</td>\n      <td>0.894118</td>\n      <td>0.917647</td>\n      <td>0.908345</td>\n      <td>0.031195</td>\n      <td>6</td>\n    </tr>\n    <tr>\n      <th>15</th>\n      <td>0.354646</td>\n      <td>0.042638</td>\n      <td>0.000805</td>\n      <td>0.000403</td>\n      <td>0.1</td>\n      <td>NaN</td>\n      <td>l2</td>\n      <td>lbfgs</td>\n      <td>{'C': 0.1, 'penalty': 'l2', 'solver': 'lbfgs'}</td>\n      <td>0.988372</td>\n      <td>0.929412</td>\n      <td>0.905882</td>\n      <td>0.976471</td>\n      <td>0.964706</td>\n      <td>0.952969</td>\n      <td>0.030710</td>\n      <td>3</td>\n    </tr>\n    <tr>\n      <th>16</th>\n      <td>0.745033</td>\n      <td>0.092203</td>\n      <td>0.001029</td>\n      <td>0.000035</td>\n      <td>1</td>\n      <td>NaN</td>\n      <td>l2</td>\n      <td>lbfgs</td>\n      <td>{'C': 1, 'penalty': 'l2', 'solver': 'lbfgs'}</td>\n      <td>0.988372</td>\n      <td>0.941176</td>\n      <td>0.917647</td>\n      <td>0.976471</td>\n      <td>0.964706</td>\n      <td>0.957674</td>\n      <td>0.025375</td>\n      <td>2</td>\n    </tr>\n    <tr>\n      <th>17</th>\n      <td>1.631086</td>\n      <td>0.600689</td>\n      <td>0.001029</td>\n      <td>0.000036</td>\n      <td>10</td>\n      <td>NaN</td>\n      <td>l2</td>\n      <td>lbfgs</td>\n      <td>{'C': 10, 'penalty': 'l2', 'solver': 'lbfgs'}</td>\n      <td>0.976744</td>\n      <td>0.952941</td>\n      <td>0.917647</td>\n      <td>0.976471</td>\n      <td>0.964706</td>\n      <td>0.957702</td>\n      <td>0.021868</td>\n      <td>1</td>\n    </tr>\n  </tbody>\n</table>\n</div>"
     },
     "execution_count": 32,
     "metadata": {},
     "output_type": "execute_result"
    }
   ],
   "source": [
    "param_grid1 = [\n",
    "    {'solver': ['saga'], 'C': [0.1, 1, 10], 'penalty': ['elasticnet'], 'l1_ratio': [0.2, 0.5, 0.8]},\n",
    "    {'solver': ['saga'], 'C': [0.1, 1, 10], 'penalty': ['l1', 'l2']},\n",
    "    {'solver': ['lbfgs'], 'C': [0.1, 1, 10], 'penalty': ['l2']}\n",
    "]\n",
    "grid_search1 = GridSearchCV(LogisticRegression(max_iter=10000), param_grid1, cv=5)\n",
    "grid_search1.fit(X_trainval, y_trainval)\n",
    "\n",
    "print('best param values: {}'.format(grid_search1.best_params_))\n",
    "print('best cross-val accuracy value: {:.2f}'.format(grid_search1.best_score_))\n",
    "\n",
    "ress1 = pd.DataFrame(grid_search1.cv_results_)\n",
    "ress1"
   ],
   "metadata": {
    "collapsed": false,
    "ExecuteTime": {
     "end_time": "2023-12-18T08:29:53.526950500Z",
     "start_time": "2023-12-18T08:28:27.854391500Z"
    }
   },
   "id": "c90f79bf862023a5"
  },
  {
   "cell_type": "code",
   "execution_count": 33,
   "outputs": [],
   "source": [
    "def nested_cv(X, y, inner_cv, outer_cv, Classifier, parameter_grid):\n",
    "    outer_scores = []\n",
    "\n",
    "    for training_samples, test_samples in outer_cv.split(X, y):\n",
    "\n",
    "        best_score = -np.inf\n",
    "        for parameters in parameter_grid:\n",
    "            cv_scores = []\n",
    "\n",
    "            for inner_train, inner_test in inner_cv.split(X[training_samples], y[training_samples]):\n",
    "                clf = Classifier(**parameters)\n",
    "                clf.fit(X[inner_train], y[inner_train])\n",
    "                score = clf.score(X[inner_test], y[inner_test])\n",
    "                cv_scores.append(score)\n",
    "            mean_score = np.mean(cv_scores)\n",
    "            if mean_score > best_score:\n",
    "                best_score = mean_score\n",
    "                best_params = parameters\n",
    "\n",
    "        clf = Classifier(**best_params)\n",
    "        clf.fit(X[training_samples], y[training_samples])\n",
    "        outer_scores.append(clf.score(X[test_samples], y[test_samples]))\n",
    "    return np.array(outer_scores)"
   ],
   "metadata": {
    "collapsed": false,
    "ExecuteTime": {
     "end_time": "2023-12-18T08:29:53.537718400Z",
     "start_time": "2023-12-18T08:29:53.533991200Z"
    }
   },
   "id": "486b84fa141fab43"
  },
  {
   "cell_type": "code",
   "execution_count": 34,
   "outputs": [
    {
     "name": "stdout",
     "output_type": "stream",
     "text": [
      "cross validation accuracy values: [0.93859649 0.93859649 0.97368421 0.94736842 0.95575221]\n"
     ]
    }
   ],
   "source": [
    "from sklearn.model_selection import ParameterGrid, StratifiedKFold\n",
    "\n",
    "sco = nested_cv(breast_cancer.data, breast_cancer.target, StratifiedKFold(5), StratifiedKFold(5), SVC,\n",
    "                ParameterGrid(param_grid))\n",
    "\n",
    "print('cross validation accuracy values: {}'.format(sco))"
   ],
   "metadata": {
    "collapsed": false,
    "ExecuteTime": {
     "end_time": "2023-12-18T08:37:10.128122800Z",
     "start_time": "2023-12-18T08:29:53.544037Z"
    }
   },
   "id": "136b83ce8c309283"
  },
  {
   "cell_type": "code",
   "execution_count": 35,
   "outputs": [
    {
     "name": "stdout",
     "output_type": "stream",
     "text": [
      "(array([0, 1]), array([212, 357], dtype=int64))\n"
     ]
    }
   ],
   "source": [
    "print(np.unique(y, return_counts=True))"
   ],
   "metadata": {
    "collapsed": false,
    "ExecuteTime": {
     "end_time": "2023-12-18T08:37:10.140891Z",
     "start_time": "2023-12-18T08:37:10.129202600Z"
    }
   },
   "id": "d8cb4319aa46c6ef"
  },
  {
   "cell_type": "code",
   "execution_count": 36,
   "outputs": [
    {
     "name": "stdout",
     "output_type": "stream",
     "text": [
      "accuracy of the trained model is 0.958\n"
     ]
    }
   ],
   "source": [
    "from sklearn.metrics import accuracy_score\n",
    "\n",
    "logreg.fit(X, y)\n",
    "y_pred = logreg.predict(X)\n",
    "print('accuracy of the trained model is', round(accuracy_score(y, y_pred), 3))"
   ],
   "metadata": {
    "collapsed": false,
    "ExecuteTime": {
     "end_time": "2023-12-18T08:37:11.568015600Z",
     "start_time": "2023-12-18T08:37:10.141889200Z"
    }
   },
   "id": "62fabb88cf4507e3"
  },
  {
   "cell_type": "code",
   "execution_count": 37,
   "outputs": [
    {
     "name": "stdout",
     "output_type": "stream",
     "text": [
      "(array([0, 1]), array([ 50, 357], dtype=int64))\n",
      "(array([1]), array([407], dtype=int64))\n",
      "accuracy of the dummy classifier is 0.88\n"
     ]
    }
   ],
   "source": [
    "from sklearn.dummy import DummyClassifier\n",
    "\n",
    "X_malignant = X[y == 0]\n",
    "y_malignant = y[y == 0]\n",
    "X_benign = X[y == 1]\n",
    "y_benign = y[y == 1]\n",
    "X_new = np.r_[X_benign, X_malignant[:50]]\n",
    "y_new = np.r_[y_benign, y_malignant[:50]]\n",
    "print(np.unique(y_new, return_counts=True))\n",
    "\n",
    "dummy = DummyClassifier(strategy='most_frequent')\n",
    "dummy.fit(X_new, y_new)\n",
    "pred_dummy = dummy.predict(X_new)\n",
    "\n",
    "print(np.unique(pred_dummy, return_counts=True))\n",
    "print('accuracy of the dummy classifier is', round(accuracy_score(y_new, pred_dummy), 2))"
   ],
   "metadata": {
    "collapsed": false,
    "ExecuteTime": {
     "end_time": "2023-12-18T08:37:11.570082300Z",
     "start_time": "2023-12-18T08:37:11.481645300Z"
    }
   },
   "id": "741be7279521bc4c"
  },
  {
   "cell_type": "code",
   "execution_count": 38,
   "outputs": [
    {
     "name": "stdout",
     "output_type": "stream",
     "text": [
      "[[197  15]\n",
      " [  9 348]]\n",
      "accuracy score of the model is 0.96\n"
     ]
    }
   ],
   "source": [
    "from sklearn.metrics import confusion_matrix\n",
    "\n",
    "matrix_c = confusion_matrix(y, y_pred)\n",
    "print(matrix_c)\n",
    "print('accuracy score of the model is', round(accuracy_score(y_pred, y), 2))"
   ],
   "metadata": {
    "collapsed": false,
    "ExecuteTime": {
     "end_time": "2023-12-18T08:37:11.604563500Z",
     "start_time": "2023-12-18T08:37:11.502634200Z"
    }
   },
   "id": "f5d75ecf7f5966a0"
  },
  {
   "cell_type": "code",
   "execution_count": 39,
   "outputs": [
    {
     "data": {
      "text/plain": "<Axes: >"
     },
     "execution_count": 39,
     "metadata": {},
     "output_type": "execute_result"
    },
    {
     "data": {
      "text/plain": "<Figure size 640x480 with 2 Axes>",
      "image/png": "[encoded data removed]"
     },
     "metadata": {},
     "output_type": "display_data"
    }
   ],
   "source": [
    "import seaborn as sns\n",
    "\n",
    "sns.heatmap(matrix_c, annot=True)"
   ],
   "metadata": {
    "collapsed": false,
    "ExecuteTime": {
     "end_time": "2023-12-18T08:37:12.239743300Z",
     "start_time": "2023-12-18T08:37:11.522008100Z"
    }
   },
   "id": "90501458ba789f96"
  },
  {
   "cell_type": "code",
   "execution_count": 40,
   "outputs": [
    {
     "name": "stdout",
     "output_type": "stream",
     "text": [
      "              precision    recall  f1-score   support\n",
      "\n",
      "           0       0.96      0.93      0.94       212\n",
      "           1       0.96      0.97      0.97       357\n",
      "\n",
      "    accuracy                           0.96       569\n",
      "   macro avg       0.96      0.95      0.95       569\n",
      "weighted avg       0.96      0.96      0.96       569\n"
     ]
    }
   ],
   "source": [
    "from sklearn.metrics import classification_report\n",
    "\n",
    "print(classification_report(y, y_pred))"
   ],
   "metadata": {
    "collapsed": false,
    "ExecuteTime": {
     "end_time": "2023-12-18T08:37:12.324877700Z",
     "start_time": "2023-12-18T08:37:12.230767400Z"
    }
   },
   "id": "1104196e8eb135f2"
  },
  {
   "cell_type": "code",
   "execution_count": null,
   "outputs": [],
   "source": [],
   "metadata": {
    "collapsed": false
   },
   "id": "9890bd1d4a171fca"
  }
 ],
 "metadata": {
  "kernelspec": {
   "display_name": "Python 3",
   "language": "python",
   "name": "python3"
  },
  "language_info": {
   "codemirror_mode": {
    "name": "ipython",
    "version": 2
   },
   "file_extension": ".py",
   "mimetype": "text/x-python",
   "name": "python",
   "nbconvert_exporter": "python",
   "pygments_lexer": "ipython2",
   "version": "2.7.6"
  }
 },
 "nbformat": 4,
 "nbformat_minor": 5
}
