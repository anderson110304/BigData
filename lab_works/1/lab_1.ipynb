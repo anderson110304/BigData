{
 "cells": [
  {
   "cell_type": "markdown",
   "source": [
    "# Diyas Imashev"
   ],
   "metadata": {
    "collapsed": false
   },
   "id": "fcb43f322e6807e7"
  },
  {
   "cell_type": "markdown",
   "source": [
    "## Lab 1"
   ],
   "metadata": {
    "collapsed": false
   },
   "id": "d896f56644b91b82"
  },
  {
   "cell_type": "markdown",
   "source": [
    "[Install Python](https://www.python.org/downloads/release/python-3115/)"
   ],
   "metadata": {
    "collapsed": false
   },
   "id": "21b345d5335cdca7"
  },
  {
   "cell_type": "markdown",
   "source": [
    "## Print"
   ],
   "metadata": {
    "collapsed": false
   },
   "id": "392eaff5f546ede"
  },
  {
   "cell_type": "code",
   "execution_count": 1,
   "outputs": [
    {
     "name": "stdout",
     "output_type": "stream",
     "text": [
      "7\n"
     ]
    }
   ],
   "source": [
    "s = 7\n",
    "print(s)"
   ],
   "metadata": {
    "collapsed": false,
    "ExecuteTime": {
     "end_time": "2023-09-14T10:11:25.250457800Z",
     "start_time": "2023-09-14T10:11:25.138245800Z"
    }
   },
   "id": "6fef1ea5bbd55fdb"
  },
  {
   "cell_type": "markdown",
   "source": [
    "## Variable Types"
   ],
   "metadata": {
    "collapsed": false
   },
   "id": "30afabc5f7d808f4"
  },
  {
   "cell_type": "code",
   "execution_count": 2,
   "outputs": [
    {
     "name": "stdout",
     "output_type": "stream",
     "text": [
      "<class 'int'>\n",
      "<class 'float'>\n",
      "<class 'bool'>\n",
      "<class 'str'>\n"
     ]
    }
   ],
   "source": [
    "f = 5\n",
    "print(type(f))\n",
    "\n",
    "fp3 = 5.3\n",
    "print(type(fp3))\n",
    "\n",
    "t = True\n",
    "print(type(t))\n",
    "\n",
    "s = \"Ghost\"\n",
    "print(type(s))"
   ],
   "metadata": {
    "collapsed": false,
    "ExecuteTime": {
     "end_time": "2023-09-14T10:11:48.823423100Z",
     "start_time": "2023-09-14T10:11:48.479308800Z"
    }
   },
   "id": "f9b0fa949c9995a"
  },
  {
   "cell_type": "markdown",
   "source": [
    "## Advanced Types"
   ],
   "metadata": {
    "collapsed": false
   },
   "id": "993b6092dc898a10"
  },
  {
   "cell_type": "code",
   "execution_count": 3,
   "outputs": [
    {
     "name": "stdout",
     "output_type": "stream",
     "text": [
      "[1, 3, 5]\n",
      "{'13': 'Harden', '23': 'Jordan', '32': \"O'Neal\"}\n",
      "Harden\n"
     ]
    }
   ],
   "source": [
    "l_ist = [1, 3, 5]\n",
    "print(l_ist)\n",
    "\n",
    "d_ary = {'13': 'Harden', '23': 'Jordan', '32': \"O'Neal\"}\n",
    "print(d_ary)\n",
    "\n",
    "# get dictionary element by key\n",
    "print(d_ary['13'])"
   ],
   "metadata": {
    "collapsed": false,
    "ExecuteTime": {
     "end_time": "2023-09-14T10:12:37.961444500Z",
     "start_time": "2023-09-14T10:12:37.797883800Z"
    }
   },
   "id": "901e869c97063c6c"
  },
  {
   "cell_type": "markdown",
   "source": [
    "## Math"
   ],
   "metadata": {
    "collapsed": false
   },
   "id": "df0ecc5bca9bbd83"
  },
  {
   "cell_type": "code",
   "execution_count": 4,
   "outputs": [
    {
     "name": "stdout",
     "output_type": "stream",
     "text": [
      "23 in square: 529.0\n",
      "cos(23): -0.5328330203333975\n",
      "23 in factorial: 25852016738884976640000\n"
     ]
    }
   ],
   "source": [
    "import math\n",
    "\n",
    "twenty3_in_square = math.pow(23, 2)\n",
    "print('23 in square:', twenty3_in_square)\n",
    "\n",
    "twenty3_cos = math.cos(23)\n",
    "print('cos(23):', twenty3_cos)\n",
    "\n",
    "twenty3_factorial = math.factorial(23)\n",
    "print(\"23 in factorial:\", twenty3_factorial)"
   ],
   "metadata": {
    "collapsed": false,
    "ExecuteTime": {
     "end_time": "2023-09-14T10:14:31.048879500Z",
     "start_time": "2023-09-14T10:14:30.937177300Z"
    }
   },
   "id": "2899490ba0b696ce"
  },
  {
   "cell_type": "markdown",
   "source": [
    "## Advanced Print"
   ],
   "metadata": {
    "collapsed": false
   },
   "id": "afc441974a449fd1"
  },
  {
   "cell_type": "code",
   "execution_count": 5,
   "outputs": [
    {
     "name": "stdout",
     "output_type": "stream",
     "text": [
      "23 in square is 529.0. 23 in factorial is 25852016738884976640000.\n"
     ]
    }
   ],
   "source": [
    "print(\"23 in square is %s. 23 in factorial is %s.\" % (twenty3_in_square, twenty3_factorial))"
   ],
   "metadata": {
    "collapsed": false,
    "ExecuteTime": {
     "end_time": "2023-09-14T10:15:01.706952900Z",
     "start_time": "2023-09-14T10:15:01.665066400Z"
    }
   },
   "id": "e59433db033c7f7b"
  },
  {
   "cell_type": "markdown",
   "source": [
    "## if, time library and for/while loops "
   ],
   "metadata": {
    "collapsed": false
   },
   "id": "b0a8f6c60990f207"
  },
  {
   "cell_type": "code",
   "execution_count": 6,
   "outputs": [
    {
     "name": "stdout",
     "output_type": "stream",
     "text": [
      "0\n",
      "1\n",
      "2\n",
      "3\n",
      "4\n",
      "5\n",
      "6\n",
      "7\n",
      "8\n",
      "9\n"
     ]
    }
   ],
   "source": [
    "import time\n",
    "\n",
    "choice = int(input(\"Choose Loop (1 - for / 2 - while): \"))\n",
    "time_interval = int(input(\"Enter time interval (in seconds): \"))\n",
    "\n",
    "if choice == 1:\n",
    "    for i in range(10):\n",
    "        time.sleep(time_interval)\n",
    "        print(i)\n",
    "elif choice == 2:\n",
    "    counter = 0\n",
    "    while counter < 10:\n",
    "        time.sleep(time_interval)\n",
    "        print(counter)\n",
    "        counter += 1"
   ],
   "metadata": {
    "collapsed": false,
    "ExecuteTime": {
     "end_time": "2023-09-14T10:16:19.879448100Z",
     "start_time": "2023-09-14T10:15:55.187750200Z"
    }
   },
   "id": "1dc3ecd3c8db8c3b"
  },
  {
   "cell_type": "markdown",
   "source": [
    "## Functions (lambda-functions)"
   ],
   "metadata": {
    "collapsed": false
   },
   "id": "98e9275186f7e53a"
  },
  {
   "cell_type": "code",
   "execution_count": 7,
   "outputs": [
    {
     "name": "stdout",
     "output_type": "stream",
     "text": [
      "10\n"
     ]
    },
    {
     "data": {
      "text/plain": "11"
     },
     "execution_count": 7,
     "metadata": {},
     "output_type": "execute_result"
    }
   ],
   "source": [
    "def getSum(x, y):\n",
    "    return x + y\n",
    "\n",
    "\n",
    "sum = getSum(3, 7)\n",
    "print(sum)\n",
    "\n",
    "lambdaGetSum = lambda x, y: x + y\n",
    "\n",
    "lambdaGetSum(7, 4)"
   ],
   "metadata": {
    "collapsed": false,
    "ExecuteTime": {
     "end_time": "2023-09-14T10:16:37.070636600Z",
     "start_time": "2023-09-14T10:16:36.954948500Z"
    }
   },
   "id": "cb5ac493b4f6d1b1"
  },
  {
   "cell_type": "markdown",
   "source": [
    "## Header & Image"
   ],
   "metadata": {
    "collapsed": false
   },
   "id": "87fd10869a541b06"
  },
  {
   "cell_type": "markdown",
   "source": [
    "<h1> Fire <h1>\n",
    "<img src=\"fire.jpg\" width=\"800px\">"
   ],
   "metadata": {
    "collapsed": false
   },
   "id": "7918f6d467f310c9"
  },
  {
   "cell_type": "markdown",
   "source": [
    "## Math Formula"
   ],
   "metadata": {
    "collapsed": false
   },
   "id": "26e2e8eaf22290a8"
  },
  {
   "cell_type": "markdown",
   "source": [
    "\\begin{equation*}\n",
    "\\((a + b)^2=a^2 + 2ab + b^2\\)\n",
    "\\end{equation*}"
   ],
   "metadata": {
    "collapsed": false
   },
   "id": "336934809f599b0e"
  },
  {
   "cell_type": "markdown",
   "source": [
    "## Console Command"
   ],
   "metadata": {
    "collapsed": false
   },
   "id": "f8a869895d6869e9"
  },
  {
   "cell_type": "code",
   "execution_count": 9,
   "outputs": [
    {
     "name": "stderr",
     "output_type": "stream",
     "text": [
      "'ipconfig' is not recognized as an internal or external command,\n",
      "operable program or batch file.\n"
     ]
    }
   ],
   "source": [
    "! ipconfig"
   ],
   "metadata": {
    "collapsed": false,
    "ExecuteTime": {
     "end_time": "2023-09-14T10:26:10.919043700Z",
     "start_time": "2023-09-14T10:26:10.853220300Z"
    }
   },
   "id": "8dead908e028513c"
  }
 ],
 "metadata": {
  "kernelspec": {
   "display_name": "Python 3",
   "language": "python",
   "name": "python3"
  },
  "language_info": {
   "codemirror_mode": {
    "name": "ipython",
    "version": 2
   },
   "file_extension": ".py",
   "mimetype": "text/x-python",
   "name": "python",
   "nbconvert_exporter": "python",
   "pygments_lexer": "ipython2",
   "version": "2.7.6"
  }
 },
 "nbformat": 4,
 "nbformat_minor": 5
}
